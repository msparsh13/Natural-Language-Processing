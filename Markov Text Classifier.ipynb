{
 "cells": [
  {
   "cell_type": "code",
   "execution_count": 1,
   "id": "2e4a1925",
   "metadata": {},
   "outputs": [],
   "source": [
    "import pandas as pd\n",
    "import numpy as np\n",
    "import string\n",
    "import matplotlib.pyplot as plt\n",
    "from sklearn.model_selection import train_test_split"
   ]
  },
  {
   "cell_type": "code",
   "execution_count": 2,
   "id": "affbf38e",
   "metadata": {},
   "outputs": [],
   "source": [
    "input_files=[\n",
    "    r\"C:\\Users\\Sparsh Mahajan\\OneDrive\\Documents\\lex programs\\robert frost.txt\",\n",
    "    r\"C:\\Users\\Sparsh Mahajan\\OneDrive\\Documents\\lex programs\\edger_allan_po.txt\"\n",
    "]"
   ]
  },
  {
   "cell_type": "code",
   "execution_count": 3,
   "id": "e96ee7a4",
   "metadata": {},
   "outputs": [],
   "source": [
    "input_text=[]\n",
    "label=[]\n",
    "for  l , file  in enumerate(input_files):\n",
    "    for line in open(file):\n",
    "        line=line.rstrip().lower()\n",
    "        if line:\n",
    "            line = line.translate(str.maketrans('' , '',string.punctuation ))\n",
    "            input_text.append(line)\n",
    "            label.append(l)"
   ]
  },
  {
   "cell_type": "code",
   "execution_count": 4,
   "id": "f112efe0",
   "metadata": {},
   "outputs": [],
   "source": [
    "#  0 robert frost\n",
    "# 1 edger allan po\n",
    "train_x , test_x , train_y , test_y = train_test_split(input_text , label)"
   ]
  },
  {
   "cell_type": "code",
   "execution_count": 5,
   "id": "f2a11a55",
   "metadata": {},
   "outputs": [
    {
     "name": "stdout",
     "output_type": "stream",
     "text": [
      "['and after all why should they johns been fair', 'in front of twenty others wriggling speed', 'hed say she does it more because she likes it', 'it was night in the lonesome october', 'besides the wear of iron wagon wheels', 'son looks surprised to see me end a lie', 'in a strange city all alone', 'a leak and emptied then and forty years', 'but only so an hour', 'a voice said look me in the stars', 'i was just coming to myself enough', 'there aint no names quite like the old ones though', 'whose shoes i primped to dance in', 'he and i only hinder one another', 'but if we must in sunshine so she went', 'i could not say', 'son we think they had a grave down in the cellar', 'it lifts existence on a plane of snow', 'though not yet light', 'he knows hes kinder than the run of men', 'it doesnt seem as if id had the courage', 'how often we forget all time when lone', 'toffile agreed to that and sure enough', 'by good angels tenanted', 'a brush had left a crooked stroke', 'and from barn smells you cant wash out of ploughed ground', 'you will do very well right where you are', 'and a paddle blade', 'the board we had laid down to walk dryshod on', 'as dew of the nighttime oer the summer grass', 'which wasnt many in the town of wentworth', 'here once through an alley titanic', 'of all who hail thy presence as the morning', 'to wonder where the cold was coming from', 'he fell and made the lantern rattle', 'a tree beside the wall stands bare', 'with his pipe in his mouth and his brown jug', 'johns almost here ive had my eye on someone', 'i want to introduce you to the people', 'its looking for another door to try', 'and this bill', 'i wonder if its not your makebelieve', 'fell on the upturnd faces of these roses', 'her hardest hue to hold', 'i should feel easier if i could see', 'dont the voices seem to say', 'and all with pearl and ruby glowing', 'but though it runs unbridled off its course', 'studying genealogy with me', 'legitimately my demand upon her', 'doth oer us pass when as th expanding eye', 'havent as good they dont go with the farm', 'the arthur amy i was married to', 'from the sun and stars whence he had drawn forth', 'hed say why should they no more words than that', 'of its own fervour  what had oer it power', 'in daylight and in beauty from his birth', 'let us bathe in this crystalline light', 'how do you see him living when youre gone', 'thats his mistake the dear knows my interest', 'small good to anything growing wild', 'shes in earnest it appears', 'the pen falls powerless from my shivering hand', 'ten million silver lizards out of snow', 'radiant palace reared its head', 'by him who as he pens them thrills to think', 'one ought not to be thrown into confusion', 'its whirling frenzies', 'a bead of silver water more or less', 'you say you dont know where she is', 'but dont you think we sometimes make too much', 'shatter it inward on the unswept floors', 'remembered not the dank tarn of auber', 'you let me say it on consideration', 'as the leaves that were withering and sere', 'from their melancholy throats', 'with half an ear to the pianos vigor', 'in secret communing held as he with it', 'no more alas that magical sad sound', 'and sorry i could not travel both', 'johns a bad farmer im not blaming him', 'left here with nothing but the furniture', 'i hold with those who favor fire', 'you spoke of johns not being safe to stay with', 'the uncommonly deep snow has made him think', 'have stirred from out the abysses of his heart', 'it ought to give a purer oracle', 'embalmed in their echoing songs', 'up one flight from the cellar to the kitchen', 'and spoke of the lettered', 'in a new cottage on the ancient spot', 'i saw no window but that was black', 'over back where they speak of life as staying', 'only i happen to prefer to live', 'saturn and mars', 'and i dont mean just skulls of rogers rangers', 'but its just fun the way he gets bedeviled', 'it has not changed', 'and be one traveler long i stood', 'ill tell you a plan for gaining wealth', 'by flying like a bird silent in flight', 'up attic that wed ever want again', 'say it right out no matter for her mother', 'here loveless birds now flock as winter friends', 'i can see we are going to be good friends', 'the rare and radiant flowers of song', 'upon the left and all the way along', 'from the hall to the only finished bedroom', 'in the misty mid region of weir', 'and strange sweet dreams', 'admiring natures universal throne', 'no one will ever live on it again', 'across each other and side by side they lay', 'its raining', 'that hangs like chains of pearl on hermon hill', 'all we can hold together by the legs', 'but left an open door to cool the room off', 'i saw but them they were the world to me', 'they were a mans his father killed for me', 'where shall we meet again', 'if i remember rightly it had sprung', 'cant you and i get to the root of it', 'i was going to say', 'once on the kind of day called weather breeder', 'that high tone of the spirit which hath striven', 'to where it bent in the undergrowth', 'lying down to die have suddenly arisen', 'i turned and repented but coming back', 'was singing in it sweet and swift', 'their sulphurous currents down yaanek', 'wearing its own deep feeling as a crown', 'old as i am im going to let myself', 'but get some color and music out of life', 'its to say you and iâ€”', 'that theres something the dead are keeping back', 'as the stardials hinted of morn ', 'that the brook raises in the empty valley', 'which is wrong', 'to send it sailing out the attic window', 'into a western couch of thundercloud', 'but we get on', 'so eden sank to grief', 'we have seen visions now consult the voices', 'because it was grassy and wanted wear', 'whose fervid flickering torch of life was lit', 'ascending to descend to reascend', 'or that the thrill of a single kiss', 'where the houri glances are', 'perhaps to where it ended at a house', 'you can see what is troubling granny though', 'dont ask joe', 'i wonder if hes sold his farm', 'that no one on earth will ever find', 'a hole in somewhere with his heel', 'he always used to sing along the toteroad', 'you can see that theres something wrong with it', 'yes you must go we cant stay here for ever', 'but it isnt as if', 'john bought him and we paid the bill with beads', 'whod marry her straight out of such a mess', 'and his crew left him where be failed', 'the truest the most fervently devoted', 'had been too short to sell or give away', 'why not take two or three', 'henceforth i hold thy flowerenameled shore', 'flashed out and licked along his upper teeth', 'one luminary clock against the sky', 'how my heart beats in coupling those two words', 'its different with a man at least with john', 'up domes up spires up kingly halls', 'to see how they were mounted for this walk', 'that as a witch id often milk a bat', 'the sound of which was silence for the place', 'pauses in heaven', 'and tell me truly men of earth', 'by picking the faded blue', 'whose fervid flickering torch of life was lit', 'charge that to upstart inexperience', 'drawn by their hearts passion and that tone', 'i let you say all that but i must go now', 'and like it too it makes it all the worse', 'and death to some more happy clime', 'having tried one had dropped it at his feet', 'before its face', 'sos everything', 'birch boughs enough piled everywhereâ€”', 'and full of it that this would be the end', 'nor the ghoulhaunted woodland of weir', 'the very hours are breathing low', 'the hours of daylight gather atmosphere', 'and got them off the wild flowers backs', 'and in a town that is no more a town', 'a cliff and on the cliff a bottle painted', 'â€‰', 'the voices give you what you wish to hear', 'itd make my position stronger i think', 'and has come past the stars of the lion', 'hes celebrating something strange', 'it want no sign i spose when mallice huse', 'i have kept hidden in the instep arch', 'out of which a miraculous crescent', 'but when ive said why shouldnt they be married', 'we safely may trust to a gleaming', 'he thinks its dark and its flooded with daylight', 'a passionate light such for his spirit was fit', 'i must not say how many but not many', 'nearest resembles worship oh remember', 'another from the bedroom to the attic', 'i have been one acquainted with the night', 'over descended from her i believe', 'i hate to think of the old place when were gone', 'as the stardials hinted of morn', 'i replied  this is nothing but dreaming', 'son but the headboard of mothers bed is pushed', 'and the fine fibrils of its life', 'unless it be', 'with the dead race of the great auk', 'a swamp of cedar choked with oil of cedar', 'in terror she spoke letting sink her', 'what bones the cellar bones out of the grave', 'while even in the meridian glare of day', 'ive kept brown standing in the cold', 'nothings too good for them we say it pays', 'by which he sits and sings', 'that i brought a dread burden down here', 'alas i cannot feel for tis not feeling', 'unfortunately all of one kind though', 'when far away an interrupted cry', 'and put a sign up closed to all but me', 'but tonight i dont care enough to lie', 'arent you afraid of him whats that gun for', 'what it is to me', 'at having in their town a noted witch', 'john hall touch me not if he knows his friends', 'that sends light rustle rushes to their leaves', 'her woods her wilds her mountains the intense', 'where deep thoughts are a duty', 'that with a quickening spell doth oer us pass', 'what childishness he wouldnt give way to', 'where loves a grownup god', 'come here ill show you in that apple tree', 'anyone upon earth and still her children', 'its not that im greatly afraid of fire', 'hath dwelt and he where i', 'who has the sweetest voice of all gods creatures', 'full of lank shivery halfdrowned birds', 'our business firsts up attic with her books', 'she never tended anything herself', 'ah we safely may trust to its gleaming', 'voted the only times he ever voted', 'is but a dimremembered story', 'with a swish in the grass what if the others', 'ah bear in mind this garden was enchanted', 'each hour before us but then only bid', 'whats the hurry hell unhitch', 'he hoed a little yesterday for me', 'she rolls through an ether of sighs', 'there was an old old house renewed with paint', 'and give up sleep', 'to make a leaf if there had been one stir', 'you couldnt call it living for it aint', 'and hold the door but the bones didnt try', 'and swollen tight and buried under snow', 'and youre her mother', 'thats what i sit up in the dark to say', 'drawn on a sort of passport with the branch', 'whos got the button i would have them know', 'upon the sinners sacrifice', 'how should he love thee or how deem thee wise', 'the indians had a myth of chicamoztoc', 'through two luminous windows saw', 'and sanctified in their elysian fire', 'for a doorsill or other corner piece', 'to the lethean peace of the skies', 'thats a smart pair of pumps youre beading there', 'the waves have now a redder glow', 'around and under', 'tell you what ralle the sioux control once told me', 'ill double theirs for both of them you watch me', 'and anyway this tells me where i am', 'keeps your cash in your hands where nothing can trouble it', 'yet oh the tempting flatness of a book', 'flattered i must be to have two towns fighting', 'lets talk about it', 'son knows the story but twas not for him', 'with flowers in her lap until they fade', 'there is our wildest mount a headless horse', 'enough to stock a village library', 'son you do as youre told you take the timber', 'the height of the adventure is the height', 'to awake us tis a symbol and a token', 'or old love on an impulse not to care', 'to see for myself about the birch', 'they are my ministers yet i their slave', 'tottering above', 'that made him throw his bare legs out of bed', 'the elfin from the green grass and from me', 'while i invested him with reasons', 'as gilt to gold that wouldnt show', 'one mustnt bear too hard on the new comers', 'on this night of all nights in the year', 'yes stark and you', 'and see if you can reckon our cousinship', 'is a world of sweets and sours', 'and tempted her out of her gloom ', 'done', 'by thee and by the poetry of thy presence', 'the man was found id better name no names', 'appear like standing', 'was counting winter dinners one a hill', 'in that grave one', 'well i know now this dank tarn of auber', 'but psyche uplifting her finger', 'not long ago the writer of these lines', 'the young folk held some hope out to each other', 'that need endless talktalk', 'i idled down', 'our memories were treacherous and sere ', 'but i own what you say makes my head spin', 'dont make me get up im too warm in bed', 'the utmost star', 'her woods  her winds  her mountains  the intense', 'still more unfettered', 'by the door of a legended tomb', 'and would suffice', 'to go west to a worse fight with the desert', 'john threw the door wide but he didnt enter', 'vast forms that move fantastically', 'i see them still two sweetly scintillant', 'how dark a woe yet how sublime a hope', 'of rivers glide', 'someone had literally run to earth', 'so as to have it ready for outsiders', 'you said youd seen the stone baptismal font', 'the wit and wisdom of their king', 'on this very night of last year', 'i have no doubt id end by holding none', 'they were crooking many a trillium', 'from stumps still bleeding their life away', 'i have passed by the watchman on his beat', 'yes but he should have married her', 'not much concerned for those to whom', 'and now as if in mockery of that boast', 'not in position to look too close', 'but i dont see why it should have to bear', 'she made a sudden movement toward her bodice', 'these cheeks where the worm never dies', 'what are they trying to do to me these two', 'she revels in a region of sighs', 'what he has got to stand', 'in youth i have known one with whom the earth', 'and perhaps she will come still unafraid', 'yes its important though you think it isnt', 'his house is in the village though', 'against the attic door the door is nailed', 'to a lutes welltuned law', 'should say our stock was petered out', 'and this is my sincere reply', 'were not their own', 'i was a strapping girl of twenty then', 'and i said she is warmer than dian', 'may seem as if it should have been a quarry ', 'and though none too successful at it guiders', 'between the woods and frozen lake', 'among unearthed potatoes standing still', 'strangely its anything they wish to give', 'never seraph spread a pinion', 'of arthur amys having once been up', 'son mother can make a common table rear', 'and carried itself like a pile of dishes', 'in the ghoulhaunted woodland of weir', 'in an old cellar hole in a byroad', 'and sproutlands flourish where the axe has gone', 'in agony sobbed letting sink her', 'the rural letterbox said toffile lajway', 'i dont see very well how you can help it', 'but i mistrusted he was none too proud', 'tis said that when', 'the strains been too much for her all these years', 'then he came at me with one hand outstretched', 'to which man sends his', 'tried to improve on sailing like a tile', 'sometimes i wander out of beaten ways', 'roses that grew in an enchanted garden', 'i have stood still and stopped the sound of feet', 'not much concerned for them i say', 'i could have told them any time this twelvemonth', 'and end it', 'i stole the goblet from the childrens playhouse', 'its as you throw a picture on a screen', 'son it left the cellar forty years ago', 'theres not a soul', 'you know how men will be ridiculous', 'israfeli who despisest', 'his spirit is communing with an angels', 'to tell the truth suppose the time had come', 'plumes till they trailed in the dust', 'from what ive tasted of desire', 'half looking for the orchid calypso', 'lets trap him with an open door up attic', 'of stranger cousins in a family tree', 'banners yellow glorious golden', 'but lo a stir is in the air', 'remembered not the dank tarn of auber', 'it is not that my founts of bliss', 'the mossy banks and the meandering paths', 'you look so sitting out here in the rain', 'will you leave the way to me', 'yes i do', 'of country where two village cultures faded', 'folks in her day were given to plain speaking', 'mother we know they had a grave down in the cellar', 'who wants to hear your news you dreadful fool', 'they spoke to themselves', 'how silently serene a sea of pride', 'to turn him round he got to saying things', 'oh fly  let us fly  for we must', 'from the slap i had just now given its hand', 'the melancholy waters lie', 'and then went round it on his feet', 'will leave their tatters hung on barb and thorn', 'but i will half believe that wild light fraught', 'who failed to find or force a strait', 'a libation of tyrannys blood', 'and the smell of fire drowned in rain', 'but now he snapped his eyes three times', 'to point us the path to the skies', 'i let you say that on consideration', 'come out here if you want to hear me talk', 'mother of god be with me still', 'in voices of surpassing beauty', 'they spoke for the clock', 'on marshall look like donkeys ears', 'the second round the curving hillside road', 'the steps began to climb the attic stairs', 'the bright idea or the bright deareye', 'would name the hour', 'up at his shoulders dragging yellow strands', 'or creaking with a buggy load of grain', 'in one himself perhaps', 'books i should say if books are what is needed', 'then ran and shouted shut the bedroom door', 'in each idols diamond eye', 'the skies they were ashen and sober', 'at having eased her heart of one more copy', 'where is estelle', 'but now at length dear dian sank from sight', 'come straight down off this mountain just as fast', 'will start which lately slept in apathy', 'he bowed with grace to natural law', 'at morn  at noon  at twilight dim ', 'you riddle with your genealogy', 'like some enchanted faroff isle', 'he read in one and i read in another', 'of all who on despairs unhallowed bed', 'of the bells bells bells', 'all that piano and new paint back there', 'and tell me where youre off forâ€”montreal', 'not that he hadnt gnawed the hitching posts', 'are there they said it isnt going to rain', 'lo death hath reard himself a throne', 'the skies they were ashen and sober', 'being cut off from friends', 'and think that these weak lines are written by him', 'i want my fountain', 'beloved heroes your deathless souls roam', 'like no she aint come back from kiting yet', 'how daring an ambition yet how deep', 'brown makes at such an hour of night', 'on my grave is growing or grown', 'a winged odour went away', 'hast thou not dragged diana from her car', 'from the sun and stars whence he had drawn forth', 'lord if i were to dream of everyone', 'i cant talk to her and lord if i could', 'that groan as they roll down mount yaanek', 'all the way home i kept remembering', 'i only idled down', 'i could see nothing toffile i dont see it', 'to point us the path to the skies ', 'and i cried  it was surely october', 'something went wrong i saw him throw the hoe', 'a fullorbed moon that like thine own soul soaring', 'he looked back up the slippery slope', 'half closes the garden path', 'for we knew not the month was october', 'but the pipes there and smoking and the jug', 'more of the salt wherewith theyre to be salted', 'for god man or beasts sake', 'my soul at least a solace hath', 'a little longer i mustnt feel too hurried', 'in front of every one in grafton county', 'we came here for a home for me you know', 'hath little of earth in it', 'in the mad pride of intellectuality', 'o god on my funereal mind', 'we made a day of it out of the world', 'on planets over', 'at the end of our path a liquescent', 'none sing so wildly well', 'she hadnt found the fingerbone she wanted', 'be dragged by you all over everywhere ', 'wanderers in that happy valley', 'it takes the moon for this the suns a wizard', 'that had budded before the boughs were piled', 'came over houses from another street', 'the blotting utterly from out high heaven', 'you never saw before what will we come to', 'is supposed to be mad', 'along the ramparts plumed and pallid', 'the seal yelp', 'and be sure it will lead us aright ', 'then for the house that is no more a house', 'she swept the heavens turning on her heel', 'the wild rose pale perfumed the gale', 'great monolithic knees the former town', 'you said you knew the place where once on kinsman', 'with whose vast wheels', 'one thing you cant help liking about john', 'of my most immemorial year', 'than lifes victories of doubt', 'off from the house as far as we could keep', 'in youth have i known one with whom the earth', 'and then you will find your money in creases', 'but wont should be burned at the stake or something', 'i have been one acquainted with the night', 'now that theyve got it settled whose i be', 'i had such company outward bound', 'and every time that you fold it across', 'in the seraphic glancing of thine eyes', 'through a house stripped of everything', 'endless ages shall cherish your fame', 'only to tumble like a stricken bird', 'to thee the laurels belong', 'and hoary trees with groans of woe', 'i never saw a man let family troubles', 'you take my card you seem so good at such things', 'theyve got it settled wrong and i can prove it', 'but i will half believe that wild light fraught', 'assailed the monarchs high estate', 'in the realms of the boreal pole', 'resignedly beneath the sky', 'that high tone of the spirit which hath striven', 'could hope to utter and i my spells are broken', 'and fight in a smother', 'estelles the one you neednt talk to me', 'a few old peckerfretted apple trees', 'that cannot but guide us aright', 'in the joy breathing isles of the blest', 'im stark he drew his passport', 'the smell of the wet feathers in the heat', 'too lofty and original to rage', 'if all the soulandbody scars', 'and swollen tight and buried under snow', 'as the scoriac rivers that roll ', 'but why take time for what im like to hear', 'said sadly this star i mistrust', 'with storms but where meanwhile', 'halting perplexed behind the barrier', 'and set off briskly for so slow a thing', 'their office is to illumine and enkindle', 'with love in her luminous eyes', 'from the sense of our having been together', 'and further still at an unearthly height', 'let us on by this tremulous light', 'how had the tender verse escaped their outrage', 'as if by eye pairs out of forty firkins', 'inscription for a garden wall', 'to make it surer that i was a witch', 'while from the high towers of the town', 'he never let the lantern drop', 'or even thought of standing there', 'and nation nation', 'this is a good home i dont ask for better', 'arose with a duplicate horn', 'till they sorrowfully trailed in the dust', 'on the long nighttime of that town', 'save but the soul in thine uplifted eyes', 'come up in despite of the lion', 'of the stark family im a member of', 'so they could recognize them not a post', 'with clouds low trailing and moments of rain that misted', 'their solemn peals', 'in going twice around the tree', 'someday i will', 'two weeks since', 'the two converging slides the avalanches', 'well may the stars be mute', 'with desperate energy t hath beaten down', 'the outside doors as yet have held against us', 'john himself wont imagine who he is', 'except it seemed the poetesss poems', 'nine times removed correct me if i err', 'in winter after halfpast three', 'and we live up to it or i dont know', 'oh if you ask me that what will he do', 'there were days when my heart was volcanic', 'far down within the dim west', 'in its twothousandmile coast', 'i dont remember why i ever cared', 'and in an instant all things disappeared', 'ah let us mourn for never morrow', 'here were all those the poetesss life', 'to ridgely torrence', 'i made him gather me wet snow berries', 'through which came flowing flowing flowing', 'the heavy iron bells', 'she should shouldnt she youre so many times', 'im sure she wont come back shes hiding somewhere', 'and i said  what is written sweet sister', 'he dont gnaw trees and posts and fences too', 'when there was water in the cellar in spring', 'beloved amid the earnest woes', 'and think that these weak lines are written by him', 'we trod uncomfortably on crunching glass', 'of constellations', 'and how she tended both or had them tended', 'and we passed to the end of the vista', 'always the witchs motto anyway', 'im getting too old for my size i tell them', 'and no one here but hens blowing about', 'first theres the childrens house of makebelieve', 'that are gone before i can tell what they are', 'with quietude and sultriness and slumber', 'as winds might rouse', 'on motorcars im asked if i', 'if he could sell the place but then he cant', 'thy memory no more accursed ground', 'he steered was really straight away', 'isola doro fior di levante', 'there shrines and palaces and towers', 'not in a glass case then', 'not so but i can find it', 'and if youre lost enough to find yourself', 'stillgoing every which way in the joints though', 'i think were all mad tell me why were here', 'with hope and in beauty tonight ', 'to seek for treasure in the jewelled skies', 'from my advantage on a hill', 'who used to live here they were robinsons', 'crosslegged', 'looked up toward heaven and there against the blue', 'and then becoming reconciled', 'and threw myself wetelbowed and wetkneed', 'vulture whose wings are dull realities', 'does the rain seem to you to cool the eyes', 'today', 'and that was all there was to see', 'in every lifelike posture of the swarm', 'now when storms of fate oercast', 'come up in despite of the lion', 'the poor old man it would have been all right', 'you know we might not be and still be cousins', 'receipted and the cock is in the yard', 'is this some trance you are withdrawing into', 'â€‰', 'of easy wind and downy flake', 'that cased the world and he was gone', 'take a bank note and fold it up', 'but me enough for a fulllength chimney', 'in wentworth from now on and when alls said', 'and rode all over everything on him', 'and such few people', 'moisture and color and odor thicken here', 'only one from a farm not far away', 'like profanation by your leave', 'a bird with an angelic gift', 'when the heat slowly hazes and the sun', 'each hour before us  but then only bid', 'or stained by vegetation from above', 'thou wouldst be loved then let thy heart', 'or like the poetesss heart of love', 'the west was getting out of gold', 'lets go see the place', 'you wont see any mormon swimming in it', 'and the other listening things', 'by having me a witch or something happened', 'to ask if there is some mistake', 'while a bolder note than this might swell', 'no more so than became a manâ€”', 'out of which a miraculous crescent', 'that even i would be they ought to know', 'tho not with faith with godliness whose throne', 'my duty to be saved by their bright light', 'was a girl and she halted some way off', 'whats wanted and how much and where it is', 'but not unhouse', 'the posies on her inner windowsill', 'a thought arose within the human brain', 'and every gentle air that dallied', 'or been made master of the grange', 'to blow the earth or anything selfclear', 'the kitchen had been dark i had to own', 't awake us  tis a symbol and a token ', 'admiring natures universal throne', 'saw only them until the moon went down', 'with the earlier tide', 'for no ripples curl alas', 'i wont be teased but see how wet i am', 'in the sad silent watches of my night', 'save only thee and me i paused i looked', 'the ledges show lines ruled southeastnorthwest', 'i saw but them saw only them for hours', 'a chimney that only would serve to remind me', 'still said to haunt this side of panther mountain', 'from the silver tinkling throats', 'and last years berries shining scarlet red', 'its the old captains dark fate', 'with thy dear name as text though bidden by thee', 'oh if youre going to use your eyes just hear', 'in rain tomorrow shall we if it rains', 'but smith or someone called them off the mountain', 'with the furthest bodies', 'and having perhaps the better claim', 'this ghoulhaunted woodland of weir', 'beyond which god is', 'it took the hall door for the novelty', 'in joy and wo  in good and ill ', 'ill show you here you are', 'ive got some news that maybe isnt news', 'the enamored moon', 'with furs to sell', 'as dew of the night time oer the summer grass', 'i vow we must be near the place from where', 'to call it day', 'like warriors by an unknown foe', 'some cried shame on me not to blanket him', 'and all around rare flowers did blow', 'here are your waters and your watering place', 'you can come down from everything to nothing', 'the trembling living wire', 'comes softly rattling down', 'blushes with love', 'she replied  ulalume  ulalume ', 'for we knew not the month was october', 'are lips and all thy melody', 'were not too much to pay for birth', 'how could that be  i thought the dead were souls', 'the night the bones came up the cellarstairs', 'he will not see me stopping here', 'provision there had been for just such meeting', 'all hades from a thousand thrones', 'anything she may say but let me warn you', 'and miles to go before i sleep', 'sometimes he gets possessed to keep accounts', 'i staid the night for shelter at a farm', 'wherever the ground was low and wet', 'and taken thus into the family', 'and wont tell', 'it was hard by the dim lake of auber', 'take it year in year out he doesnt make much', 'making allowance making due allowance', 'dont donkeys ears suggest we shake our own', 'but light from out the lurid sea', 'his lantern when he did his chores', 'and he liked everything i made him do', 'boys and bad hunters had known what to do', 'i paused and rested on a sort of hook', 'that now not all the houses left in town', 'the upper shelf the tin box thats the one', 'and me on the floor', 'to watch his woods fill up with snow', 'my soul lest it should truant be', 'to the lethean peace of the skies ', 'wreathed in myrtle my sword ill conceal', 'she revels in a region of sighs', 'and lie in stones and bushes unretrieved', 'at the softmurmured words that were fulfilled', 'you dont believe me', 'trembled and stirred', 'content with budinspecting they presume', 'like a viola i dont follow you', 'she seems to have the housework and besides', 'in her highest noon', 'i walked down alone sunday after church', 'nowhere but here', 'to find out what to do to hurt a poem', 'when from your gems of thought i turn', 'the unembodied essence and no more', 'as the lavas that restlessly roll', 'it was night in the lonesome october', 'thy grace did guide to thine and thee', 'no he wont either hell just drop the reins', 'books were not thrown irreverently about', 'but the skies that angel trod', 'hath palsied many years', 'than even seraph harper israfel', 'you will be likely to regard as sacred', 'that years of love have been forgot', 'i suppose she deserves some pity too', 'with the rapid pleiads even', 'and build the chimney clear from the ground', 'when all who would come seeking in new hampshire', 'the little tin box on the cupboard shelf', 'was it some money suddenly come into', 'no one went home that way the only house', 'imbued with all the beauty', 'thus i pacified psyche and kissed her', 'and save for the wonder', 'i made him do it for me in the dark', 'was the fair palace door', 'if you dont want to spend the night outdoors', 'before i got up to do anything', 'havent you seen him strange what set you off', 'to the eye of man', 'coming down ryans hill i thought twas him', 'and be sure it will lead us aright', 'me im not off for anywhere at all', 'and suddenly without a jerk or twitch', 'reply of hers to our intelligence', 'whats this', 'whatever they cost apiece or a pound', 'the sacred sun of all who weeping bless thee', 'he gets some sort of bakeshop meals together', 'give a headshake', 'and left it lying where it fell rejected', 'you never saw this room before a show', 'so lying forward weakly on the handrail', 'through the redlitten windows see', 'these cheeks where the worm never dies', 'well i know now this dank tarn of auber ', 'i know the way hes felt but all the same', 'and thats why i cant decently refuse you', 'until the january thaw', 'that in the sun did rivulets run', 'two at a times the rule one on each arm', 'lifted the rug that bred them on the floor', 'farmers around twice as well off as we', 'so halfway down he fought the battle', 'what i think he will do is let things smash', 'best bard because the wisest', 'i judged that such a crystal chill', 'too late now she wouldnt have him', 'in terror she spoke letting sink her', 'not even one lonely rose', 'and bring the chalkpile down ill tell you what', 'it was a july midnight and from out', 'she has seen that the tears are not dry on', 'a likeness to surprise the thrilly tourist', 'till it caught wind and opening out its covers', 'toffile had gone to bed alone and left me', 'once fair and stately palace ', 'was wrought through trees without a breath of storm', 'and thus thy memory is to me', 'though slight was a demand she felt the tug', 'hes fond of nice things too fond some would say', 'its coming up to you it had its choice', 'they made him keep on gnawing till he whined', 'nor the ghoulhaunted woodland of weir', 'one level higher than the earth below', 'upon his longer axis and', 'i looked at nine the swarm was turned to rock', 'two oldbelievers they did all the talking', 'and sparkling evermore', 'when the hours flew brightly by', 'i saw the strange position of his handsâ€”', 'to stand together on the craters verge', 'nor never will be to my way of thinking', 'and since it was coming up had to come', 'call her nausicaa the unafraid', 'and not a cloud obscured the sky', 'the ruler of the realm was seen', 'on something theres no harm see there he is', 'back in a time made simple by the loss', 'our hens and cows and pigs are always better', 'and those will bear some keeping still about', 'hed need a tall one', 'he want but fifteen at the time they say', 'a broken drinking goblet like the grail', 'thy grief thy joy thy hate thy love', 'a single leaf was on a bough', 'over fabric half so fair', 'with sounds like the dry rattling of a shutter', 'our talk had been serious and sober', 'the surest thing there is is we are riders', 'two of you out will leave an empty house', 'and nothing came of all be sailed', 'struck the hard cellar bottom and then someone', 'this misty mid region of weir ', 'especially in winter when the bed', 'one down one street', 'into each other both of them are lost', 'such as it is it isnt worth the mortgage', 'might just as well be ice and the clothes snow', 'of being watched from forty cellar holes', 'in rain', 'were seen no more the very roses odors', 'its hands of gold', 'to shut you up ill tell you what ill do', 'and they say the starry choir', 'if seen clear', 'be nothing which thou art not', 'that there always is on the papered walls', 'of the old time entombed', 'but why when shes well off is it the neighbours', 'i take it what was his was always hers', 'was it not fate that on this july midnight', 'since it flickers up to heaven through the night', 'it seems as if and thats not all hes helpless', 'and sorry i ever left the road i knew', 'then shook his lantern saying iles', 'the bulkhead doubledoors were doublelocked', 'i was a baby i dont know where i was', 'of the last remaining aster flower', 'i mean estelle has always held the purse', 'while to listen the red levin', 'they would not go they never yet have gone', 'the wantonest singing birds', 'sitting or standing as he chose', 'and now as the night was senescent', 'out in the plowed ground in the cold a digger', 'of fervent prayer and humble love', 'what signify a donkeys cars and bottle', 'in beauty by our god to those alone', 'around by lifting winds forgot', 'i know', 'that i brought a dread burden down here', 'i listened till it almost climbed the stairs', 'its sometimes dim', 'that had me by the coat as good as seated', 'if some one hadnt said to gnaw the posts', 'between me and the north poleâ€”', 'better than married ought to be as good', 'i wonder what those signals are', 'let people in than i can keep them out', 'to break it to him you may have the job', 'on last looking into his hesperides', 'rights right and the temptation to do right', 'well i know now this dim lake of auber', 'from their merry little throats', 'lying down to die have suddenly arisen', 'only bewitched so i would last him longer', 'and yet that spirit knew  not in the hour', 'to no one any more since toffile died', 'my fingers are about all ive the use of', 'some ocean throbbing far and free', 'within the heart', 'now give me your hand up pick me that flower', 'look here you treat your guide with due respect', 'nor grannys surely call up one of them', 'he broke my trance dont that make you suspicious', 'though once we had journeyed down here', 'being everything which now thou art', 'serenest skies continually', 'ill find that fountain if it takes all summer', 'it ought to be in rain sometime in rain', 'as the lavas that restlessly roll', 'are gushing strange with tears', 'distinct with its duplicate horn', 'and the queenly lily adown the dale', 'she replied ulalume ulalume', 'but wait until i give you a hand up', 'anyone else but out of idleness', 'its you she said i cant get up forgive me', 'no', 'he can eat off a barrel from the ground', 'was hot enough for the first of may', 'no more no more upon thy verdant slopes', 'how are you neighbour just the man im after', 'so now theyve dragged it through the law courts once', 'of the truth that gold can never buy', 'spirits moving musically', 'ah night of all nights in the year', 'had spilled them near the window toward the light', 'have gone to their eternal rest', 'that isnt it folks arent afraid of us', 'and theres a story in a book about it', 'sometimes as an authority', 'wearing its own deep feeling as a crown', 'and sometimes something seemed to yield', 'of lipbegotten words', 'you cant have passed each other i know what', 'quenching the fires its ashes hide', 'just oer that one bright island smile', 'they bad been brought home from some publisher', 'twenty for this cock twentyfive for that', 'the woods are lovely dark and deep', 'i blame his being brought up by his mother', 'the cellar windows were banked up with sawdust', 'this wonderful plan without danger or loss', 'i thought you were a guide', 'the way he did in life once but this time', 'was it not fate whose name is also sorrow', 'for the resurrection of deepburied faith', 'we have to go', 'nothing would do but they must fix a day', 'from its present pathway part not', 'of the door to the cellar or the hall', 'ah we safely may trust to its gleaming', 'the playthings in the playhouse of the children', 'to a fever by the moonbeam that hangs oer', 'in agony sobbed letting sink her', 'which means the seven caves that we came out of', 'come down the stairs at night and stand perplexed', 'a featherhammer gives a double knock', 'our flowers are merely flowers', 'these were days when my heart was volcanic', 'with hope and in beauty tonight', 'in snow and mist', 'you and i', 'yet does perhaps for all three', 'an hour of winter day might seem too short', 'i help out with this beadwork what i can', 'and nebulous lustre was born', 'i can make out old grandsir stark distinctly', 'ill talk to you old woman afterward', 'the hands of men', 'and love a simple duty', 'the minute they heard my step went still', 'there open temples open graves', 'oh thats been there for hawks since chickentime', 'and the birds on her outer windowsill', 'a shelfs for a clock or vase or picture', 'their odorous souls in an ecstatic death', 'they simply lay where someone now and then', 'as if the turrettops had given', 'the smarty someone who spoiled everything', 'you mean oh for some miss', 'for a windbreak', 'how many thoughts of what entombed hopes', 'i pushed myself upstairs and in the light', 'as the scoriac rivers that roll', 'but being mounted bareback on the earth', 'then we asked was there anything', 'up to their shining eyes in snow', 'save only thee and me oh heaven oh god', 'how shall we say goodbye in such a case', 'i know and it was raining', 'i fancied when i looked at six oclock', 'the bowers whereat in dreams i see', 'the sacred sun of all who weeping bless thee', 'tis the vault of thy lost ulalume', 'over the ridgepole stride of a broomstick', 'and disappeared and ended not far off', 'and turn doll out to pasture rig and all', 'as often as ive seen it done before', 'the fingerpieces slid in all directions', 'where the good and the bad and the worst and the best', 'the life is not yet all gone out of it', 'you neednt think youre going to get away', 'the moon was waiting for her chill effect', 'and came down like a coasting child', 'threshold of the wideopen gate of dreams', 'at that particular time oclock', 'there is a house that is no more a house', 'since man began', 'but please please me in the kitchen chimney', 'all is hes made up his mind not to stand', 'you want the truth i speak but by the voices', 'tis as plain as the light of the day that you double it', 'but that while i am dead yet alive', 'son you wouldnt want to tell him what we have', 'dont build me a chimney upon a shelf', 'shes after cider the old girl shes thirsty', 'hourly for hope for life ah above all', 'doth oer us pass when as th expanding eye', 'has always been too much for me it has', 'cross lots cross walls cross everything', 'gnaws in the stable aint no proof to me', 'on the door of this legended tomb', 'in front of one town hall id left him hitched', 'of an acquaintance made adventurously', 'twas we let him have money not he us', 'this was no playhouse but a house in earnest', 'plumes till they trailed in the dust ', 'his names joe', 'my but he looks as if he must have heard', 'with love in her luminous eyes', 'i want to get out of the train and go back', 'she wont come back its worse than that she cant', 'that happens to be broken davis said', 'in the fever of a minute', 'be ready i thought for almost anything', 'by road a matter of several miles', 'and driven the hamadryad from the wood', 'or some extravagance young love had been to', 'you see our pretty things are all outdoors', 'by tying together', 'and built a stone baptismal font outdoors', 'a troop of echoes whose sweet duty', 'who wouldst not leave him in his wandering', 'skyhigh with both hands i can see it now', 'upon the upturned faces of a thousand', 'the leaves they were withering and sere', 'not fireweed loving where woods have burnt', 'that cannot but guide us aright', 'of the bells', 'i name all the flowers i am sure they werent', 'as if the towers had thrown aside', 'ill tell you whod remember heman lapish', 'the way a man with one leg and a crutch', 'i hope if he is where he sees me now', 'what do we see in such a hole i wonder', 'she thinks when the wind makes a night of it', 'to a fever by the moonbeam that hangs oer', 'but i had the cottages in a row', 'the past and get some strangeness out of it', 'not bluebells gracing a tunnel mouth', 'to spare them any trouble double troubles', 'in dreams of thee and therein knows', 'in virgin wrapper from deep in the box', 'we wouldnt hurt a hen you ought to see us', 'and put my foot on one without avail', 'and caught one silver lizard by the tail', 'so cant get saved as saint mark says they mustnt', 'brown lived at such a lofty farm', 'among the buttons poured out in her lap', 'oh hasten  oh let us not linger', 'oh no o no ours never loom', 'it will go hard with john what will he do', 'the wave there is a ripple there', 'not to sink under being man and wife', 'in slightly sinking the dull tide', 'awake that night', 'hand me my buttonbox it must be there', 'from that which he was headed forâ€”', 'in the ultimate climes of the pole ', 'streams up the turrets silently', 'sought a precipitate pathway up through heaven', 'they left the storm', 'ah what demon has tempted me here', 'hes groping in the cellar after jam', 'though not with faith  with godliness  whose throne', 'almost the moment he was given an opening', 'of which it doth now know', 'this standing motionless upon the golden', 'to reconnoitre and then made up her mind', 'with a strange sound as of a harpstring broken', 'has been to keep the thing from breaking up', 'to shine on us with her bright eyes', 'what is this talkedof mystery of birth', 'thats a long time', 'the old man seriously took his bearings', 'it wasnt anyone who could be there', 'but most would have to think of the expense', 'well i showed arthur amy signs enough', 'upon a faroff happier sea', 'i wanted to put out the light and see', 'began the stairs two footsteps for each step', 'he gives his harness bells a shake', 'he reeled he lurched he bobbed he checked', 'speculation', 'but when im gone of course i cant stay here', 'deep in the heart whose hope has died', 'thats no way for a man to do at his age', 'i wanted to try something with the noise', 'weep for what little things could make them glad', 'â€‰', 'waiting for things to happen in their favour', 'they left the named', 'where the mighty of old have their home ', 'your destination and your destinys', 'winds blow the open grassy places bleak', 'that turned them on the world and try to fathom', 'of dust and feather', 'i doubted if i should ever come back', 'beyond the utterance of the human tongue', 'wings until they trailed in the dust ', 'and i dread the ominous stain of tar', 'how i shudder at the notes', 'it has not ranged', 'and the winds did woo', 'through everything presented land and tide', 'a whole edition in a packing case', 'make so much difference in his mans affairs', 'call her nausicaa and take a timber', 'hed bet huse was a cribber and had gnawed', 'on this very night of last year', 'and i cried it was surely october', 'the poetess who wrote the book of verses', 'but rain spoiled all the day began uncertain', 'shall dawn upon him desolate', 'and we passed to the end of the vista', 'and we marked not the night of the year', 'under a spell so the wrong ones cant find it', 'the pearly lustre of the moon went out', 'shall do it reverence', 'could tell you why he ever cared himself', 'over so much bay', 'oh hasten oh let us not linger', 'like wild geese on a lake before a storm', 'when he made at the tutelar shrine', 'that is if facts is what they want to go by', 'just so that ought to be enough protection', 'sometimes he came with arms outspread', 'right past both father and mother and neither stopped', 'to see where all the money goes so fast', 'ill hardly breathe', 'round about a throne where sitting', 'what do you mean shes done harm to herself', 'the leaves they were crisped and sere ', 'nor need you mind the serial ordeal', 'but you have said it and were off to find it', 'ill say that for him johns no threatener', 'no footstep stirred the hated world an slept', 'rather than tip a table for you let me', 'theyll find theyve got the whole thing to do over', 'no more than brought us back into the name', 'their sulphurous currents down yaanek', 'from us in life  but common  which doth lie', 'to the loved object  so the tear to the lid', 'his neck or thought to spare his clothes', 'why preyest thou thus upon the poets heart', 'of detail burned dissolved and broken off', 'and are far up in heaven the stars i kneel to', 'and both of our united strengths to do it', 'and begin over   there shed better stop', 'two miles it was to his abode', 'hath ever told  or is it of a thought', 'the headless aftermath', 'drink and be whole again beyond confusion', 'they think too much of having shaded out', 'off here', 'i replied this is nothing but dreaming', 'by a plain statement of relationship', 'when i heard toffile upstairs in the bedroom', 'on some wild apple trees young tender bark', 'with all this pride of ancestry we yankees', 'what wild hearthistories seemed to he enwritten', 'was something brushed across my mind', 'in the ultimate climes of the pole', 'fell on the upturnd faces of these roses', 'it was hard by the dim lake of auber', 'walls were all buried trees were few', 'couldnt have been the one they say was up', 'the cosmic motes', 'of castles i used to build in air', 'i have outwalked the furthest city light', 'and the shadow of thy perfect bliss', 'are not like any thing of ours', 'with no small dignity of mien', 'i may be mad', 'i cannot be lady alone', 'the breath of air had died of cold', 'now lefts no bigger than a harness gall', 'but psyche uplifting her finger', 'i had for my winter evening walk', 'where he can stretch and hold his highest feat', 'huh that old bathtub what is that to see', 'and fell back from him on the floor myself', 'to drag down man', 'the bells ah the bells', 'to seek a shelter in some happier star', 'someones road home from work this once was', 'bout out and took the long way home', 'death looks gigantically down', 'then leaf subsides to leaf', 'bless you its all expense though reach me down', 'i think i know enough of hate', 'she could call up to pass a winter evening', 'in time she would be rid of all her books', 'and i said what is written sweet sister', 'by the rude wrong of instant strife', 'but all the burden of its body song', 'with the gourd and the grape luxuriant grew', 'in the monarch thoughts dominion ', 'but i never heard of a house that throve', 'in beauty by our god to those alone', 'but that you meddle with my fate', 'were not allowed to take them upside down', 'its gone so far youve heard estelles run off', 'but not come in across the sacred sill  ', 'ye deliverers of athens from shame', 'it was the bones i knew them  and good reason', 'a note unruffled', 'though what good you can be or anyone', 'of cypress i roamed with my soul', 'and now the very air of what we ride', 'by its own power seems to be undone', 'was but to sing', 'save only the divine light in thine eyes', 'but where this old wall burns a sunny cheek', 'the situation was like this the road', 'in the realms of the boreal pole', 'if i could dwell', 'by the door of a legended tomb', 'how many memories of what radiant hours', 'reply of hers to our intelligence', 'ive been built in here like a big church organ', 'mother folks think a witch who has familiar spirits', 'on this night of all nights in the year', 'a small skiff', 'who may be just ahead of you on foot', 'or a little child comes up it wasnt toffile', 'and in it a piano loudly playing', 'albeit he soared with an undaunted wing', 'i saw thee half reclining while the moon', 'if hes untidy now what will he be  ', 'the love of years', 'i stay', 'i cant keep track of other peoples daughters', 'for the resurrection of deepburied faith', 'which we worship in a star', 'this all this was in the olden', 'but were stopped by the door of a tomb', 'of an old cedar at the waterside', 'and we marked not the night of the year ', 'mother well never let them will we son well', 'its not men by some mistake', 'the small book in my pocket it was there', 'alias john', 'and wheres john', 'in state his glory well befitting', 'italian tones made only to be murmured', 'summoning spirits isnt button button', 'darkly my present and my past', 'and experts said that deep down in the mountain', 'lie dead on my heartstrings', 'as we can fall and keep abouncing on our feet', 'well take me there', 'as for the woods excitement over you', 'thered been some boston people out to see it', 'the road there if youll let a guide direct you', 'no holy rays from heaven come down', 'that braced his feet against the arctic pole', 'heres hoping she gets her drink and gets out safely', 'then took the other as just as fair', 'of the old stock what counts is the ideals', 'then make yourself at home the only field', 'arose with a duplicate horn ', 'time long ago', 'that struck en masse', 'with all the rain and snow of seven years', 'his journey down from field to field', 'well if i havent brought you to the fountain', 'the truest the most fervently devoted', 'through the pale door', 'though what a name should matter between us  ', 'which were seven', 'perhaps it may be that my mind is wrought', 'a piercing little star was through', 'science true daughter of old time thou art', 'are broken at a blow', 'like some men folk no ones afraid of him', 'i thought i saw a bird alight', 'porphyrogene', 'how horrible a monody there floats', 'â€‰', 'yes heaven is thine but this', 'that everyone for miles could see', 'from their deeptoned throats', 'all is if id aknown when i was young', 'you seem so partial to our greatgrandmother', 'who only has at heart your getting lost', 'i was half boring through half climbing through', 'not from the rain i think its going to rain', 'the faintest restless rustling ran all through them', 'its hell for knees unless done hellforleather', 'reason enough there was no property', 'its sybilic splendor is beaming', 'of here and there a tent in grove and orchard', 'is owing to that lyre', 'to undo what hed done and make it right', 'drawn by their hearts passion and that tone', 'the rights of that are harder to get at', 'she raised her voice against the closing door', 'and the fur trade', 'is back into the cellar where it came from', 'would have been starks and doubtless here today', 'down down that town shall settle hence', 'the leaves they were crisped and sere', 'like a beaded fur', 'hes been in a glass case as you may say', 'her pallor i strangely mistrust', 'they were at bow but that was not enough', 'thy gentlest of all gentle names dost take', 'but whats the use of talking when its done', 'but not to call me back or say goodbye', 'another from the kitchen to the bedroom', 'the thought of my attempting such a stray', 'she has her speel on every single lizard', 'to the loved object so the tear to the lid', 'moving a flock of hens from place to place', 'they spoke of the sun', 'that i journeyed i journeyed down here', 'where were they all not twenty years ago', 'and to athens deliverance gave', 'in dust once more we followed this a mile', 'of all to whom thine absence is the night', 'i went to sleep before i went to bed', 'till well toward noon when the storm settled down', 'to the place where john has been cutting trees', 'both either looking for or finding something', 'on its roof did float and flow', 'but i didnt always', 'a barkless spectre he had halted too', 'smoothlaid like thatch with the heavy dew', 'among the raspberries and hew and shape it', 'of all who owe thee most whose gratitude', 'she wont get far before the wheels hang up', 'of all who owe thee most whose gratitude', 'hes nothing listen when i lean like this', 'is sadder than any words', 'you must not mind a certain coolness from him', 'so suddenly i flung the door wide on him', 'you here i said where arent you nowadays', 'let us on by this tremulous light', 'to where the prospect terminates thee only', 'of once expanding', 'i dont just see him living many years', 'wed kept all these years between ourselves', 'mebbe im wrong to take it as i do', 'and both that morning equally lay', 'speaking or singing and the bandmusic playing', 'up attic mother', 'and what do you see', 'i never saw so good a house deserted', 'natures first green is gold', 'with thy burning measures suit', 'in fresh myrtle my blade ill entwine', 'of sculturd ivy and stone flowers', 'ceasing their hymns attend the spell', 'and yet it need not be  that object hid', 'if i was to consent to give some sign', 'as the leaves that were withering and sere', 'the tower said one', 'to bring me to for broadboard paneling', 'in the seraphic glancing of thine eyes', 'like those champions devoted and brave', 'take one old davis bade me graciously', 'whose heartstrings are a lute', 'and perhaps hear some word about the weather', 'i took the one less traveled by', 'i thought the growing things would do him good', 'on fathers side it seems were let me see  ', 'will start which lately slept in apathy', 'where no wind dared to stir unless on tiptoe', 'and conquered her scruples and gloom', 'of his old song the wild colonial boy', 'so as to sort of turn me out of it', 'oh fly let us fly for we must', 'are on a level with the waves', 'several times over and by marrying father', 'he said i could have to bush my peas', 'we can just see the infant up astride', 'at sight of thee and thine at once awake', 'where did i see one of those pieces lately', 'by him who as he pens them thrills to think', 'what well may prove the years high girdle mark', 'they have best right to be heard in this place', 'better than banking trade or leases', 'well i know now this dim lake of auber ', 'resemble nothing that is ours', 'if i could see it or else mow the room', 'tell me about her does she look like me', 'to think to know the country and now know', 'in heaven a spirit doth dwell', 'to make a present of me to each other', 'i guess estelle and i have filled the purse', 'and tell me whether', 'can do a good deal to bad masonry', 'perhaps it may be that my mind is wrought', 'over the snow my creaking feet', 'builder in building the little house', 'this eden day is done at two oclock', 'but i got wonted to it and besides', 'oh i kept the first for another day', 'i scarce know which to prize most high', 'he might not sing so wildly well', 'so that was what was back shes bad thats all', 'thine eyes in heaven of heart enshrined', 'and stifling hot with the odor of sap', 'you dont know what a gentle lot we are', 'of cypress with psyche my soul', 'how many scenes of what departed bliss', 'john said i was too old to have grandchildren', 'â€˜tis the vault of thy lost ulalume', 'here once through an alley titanic', 'the meaning of it all is out of you', 'on slippery rocks beside a waterfall', 'i mean shes married married someone else', 'her pallor i strangely mistrust ', 'up many a melancholy shrine', 'yankees are what they always were', 'i might have but it doesnt seem as if', 'sancta maria turn thine eyes ', 'do springs upstart', 'perhaps you have the art of what i mean', 'yes whats it all about when did she go', 'was only adding frost to snow', 'in some tumultuous sea', 'to make it worth lifes while to wake and sport', 'from us in life but common which doth lie', 'hell sort of swear the time away hes awful', 'how shall we', 'and if id left him hitched unblanketed', 'the unembodied essence and no more', 'ill tell you what you show me you remember', 'of what in other worlds shall be and given', 'that you shall find lies in the cellar charred', 'on the door of this legended tomb', 'that israfelis fire', 'see that you get her greatness right dont stint her', 'who are they for', 'for hog reeve in march meeting here in warren', 'i promised toffile to be cruel to them', 'you must be learned thats what you see in it', 'wishing that night', 'we may as well see that and save the day', 'the darkest evening of the year', 'but only a belilaced cellar hole', 'you mean miles from that mormon settlement', 'i have looked down the saddest city lane', 'i wonder where your oracle is tending', 'and many must have seen him make', 'son we never could find out whose bones they were', 'while like a rapid ghastly river', 'no doubt its grown up some to woods around it', 'i let myself in at the kitchen door', 'you must have heard of clara robinson', 'that crowd around my earthly path', 'of wire with something in it from men to men', 'does it purport to speak in not old grandsirs', 'long since gave up pretense of keeping covered', 'its as sound as the day when it was cut', 'strung on your hair wont hurt your summer looks', 'they might be good for garden things', 'he saw no stay unless he stove', 'it looks that way', 'that doesnt exist', 'no one at all with whom to talk', 'and shell come back but bless you im her mother', 'and spoke his doubts in every open place', 'is also great', 'the door they halted helpless on the landing', 'to set the voices speaking out of it', 'hadnt you long suspected where you were', 'yes what do i see', 'im going to tell them something they wont like', 'i cant say hes much help', 'and lift themselves up off the ground', 'how many visions of a maiden that is', 'how fathomless a capacity for love', 'between the house and barn the gale', 'he said he had besides because a horse', 'i had to stop and lift my face', 'of the bells bells bells', 'and round about his home the glory', 'the leaves they were withering and sere', 'her early leafs a flower', 'excuse me if i ask you in a window', 'to let on he was plagued to death with me', 'that was the way he started courting me', 'dont think brown ever gave up hope', 'a vacuum in the filmy heaven', 'somewhere ages and ages hence', 'i had a vision of them put together', 'they set a lot now dont they by a record', 'and yet that spirit knew not in the hour', 'only too well i knew there must be something', 'with desperate energy t hath beaten down', 'up fanes up babylonlike walls', 'but feared the cold', 'by doubling and redoubling song and twitter', 'goodlooking books like that he picked one fresh', 'to heaven with that ungodly gloom', 'to come to his house when hes gone to yours', 'is the sunshine of ours', 'and thou a ghost amid the entombing trees', 'of earthly weather', 'there wasnt always hudsons bay', 'they found hed gnawed the four posts of his bed', 'as often as he had in the tail of the night', 'of youthful forms and youthful faces', 'see  it flickers up the sky through the night', 'they filled their throats', 'transfixed on mountain slopes almost erect', 'where driven rain had wet and swollen them', 'up from the tangle of withered weeds', 'however natural give you your books', 'the poetess had sighed i knew in heaven', 'died in the arms of the adoring airs', 'of the tower clock', 'though set so far', 'and yet it need not be that object hid', 'astartes bediamonded crescent', 'proclaimed the time was neither wrong nor right', 'with stone and lead to unprotected glass', 'and travellers now within that valley', 'o hyacinthine isle o purple zante', 'about where henry hudsons gone', 'our talk had been serious and sober', 'which have witherd as they rose', 'two words two foreign soft dissyllables', 'they dont dispose me either one of them', 'and i thought i had the folk within', 'from the high west she makes a gentle cast', 'i wont accept the substitute its empty', 'in ways that i can hardly tell you of', 'to see if the town wanted to take over', 'by being invisible for what it was', 'that all seem pendulous in air', 'of the one bearing it done in detail', 'my mother was a lane yet might have married', 'and that has made all the difference', 'and hes off setting traps', 'the sigmas and taus', 'to make them out', 'by all i tell but sos the moon a witch', 'of cypress with psyche my soul', 'with the hiss of spray', 'yet knowing how way leads on to way', 'in truth in virtue in humanity', 'some shattered dishes underneath a pine', 'one level nearer heaven overhead', 'they eddy over it too toppling weak', 'so that it looked like lightning or a scribble', 'my french indian esquimaux', 'and when i come to the garden ground', 'i dont know where myself john thinks i do', 'a tree that had been down and raised againâ€”', 'and stardials pointed to morn', 'you poor dear great great great great granny', 'as pale and dim as a match flame in the sun', 'to breathe the incense of those slumbering roses', 'and all our blandishments would seem defied', 'he guessed theyd know what he had to put up with', 'when i can hurt someone by doing it'] [0, 0, 0, 1, 0, 0, 1, 0, 0, 0, 0, 0, 0, 0, 0, 0, 0, 0, 0, 0, 0, 1, 0, 1, 0, 0, 0, 0, 0, 1, 0, 1, 1, 0, 0, 0, 0, 0, 0, 0, 0, 0, 1, 0, 0, 0, 1, 0, 0, 0, 1, 0, 0, 1, 0, 1, 1, 1, 0, 0, 0, 0, 1, 0, 1, 1, 0, 0, 0, 0, 0, 0, 1, 0, 1, 1, 0, 1, 1, 0, 0, 0, 0, 0, 0, 1, 0, 1, 0, 0, 0, 0, 0, 0, 0, 0, 0, 0, 0, 1, 0, 0, 0, 0, 0, 1, 1, 0, 1, 1, 1, 0, 0, 0, 1, 0, 0, 1, 0, 0, 0, 0, 0, 0, 1, 0, 1, 0, 0, 1, 1, 0, 0, 0, 0, 1, 0, 0, 0, 1, 0, 0, 0, 0, 1, 0, 1, 1, 0, 0, 0, 0, 0, 0, 0, 0, 0, 0, 0, 0, 0, 1, 0, 0, 1, 0, 0, 1, 0, 1, 0, 0, 0, 1, 0, 0, 1, 0, 1, 0, 0, 1, 0, 0, 0, 0, 0, 1, 1, 0, 0, 0, 0, 1, 0, 0, 1, 0, 0, 0, 1, 0, 1, 0, 1, 1, 1, 0, 0, 0, 0, 1, 1, 0, 1, 0, 0, 0, 1, 0, 1, 0, 0, 1, 1, 1, 0, 0, 0, 0, 0, 0, 0, 0, 0, 1, 1, 1, 0, 1, 0, 0, 0, 1, 1, 0, 0, 0, 1, 0, 1, 0, 1, 1, 0, 0, 1, 0, 0, 0, 0, 0, 0, 0, 0, 0, 0, 1, 1, 0, 1, 1, 0, 1, 0, 1, 0, 0, 0, 0, 1, 0, 0, 0, 0, 0, 0, 0, 0, 0, 1, 0, 0, 1, 1, 0, 1, 0, 0, 0, 1, 0, 0, 1, 1, 0, 1, 0, 0, 0, 0, 1, 1, 1, 0, 0, 0, 1, 0, 0, 0, 1, 0, 1, 0, 0, 0, 1, 1, 1, 1, 0, 0, 0, 1, 1, 0, 0, 0, 0, 0, 0, 1, 0, 0, 0, 1, 0, 1, 0, 1, 0, 0, 0, 0, 1, 0, 0, 0, 0, 1, 0, 0, 0, 0, 0, 1, 0, 0, 0, 1, 0, 0, 1, 0, 0, 0, 1, 0, 0, 0, 0, 0, 1, 0, 0, 0, 0, 0, 0, 0, 0, 0, 1, 1, 0, 1, 0, 0, 0, 0, 1, 1, 1, 1, 1, 0, 0, 0, 0, 0, 0, 0, 0, 1, 0, 1, 0, 1, 0, 0, 1, 0, 1, 0, 0, 1, 0, 0, 1, 1, 0, 0, 0, 0, 1, 0, 0, 0, 0, 0, 0, 1, 1, 0, 0, 1, 0, 1, 0, 1, 0, 1, 0, 1, 1, 0, 0, 0, 0, 1, 1, 0, 1, 0, 1, 0, 1, 0, 1, 1, 1, 1, 0, 0, 1, 0, 0, 0, 1, 1, 0, 1, 0, 0, 1, 0, 0, 0, 1, 0, 0, 0, 1, 1, 1, 0, 0, 1, 1, 0, 0, 1, 0, 0, 0, 1, 0, 0, 1, 0, 1, 0, 0, 1, 0, 0, 0, 0, 1, 0, 0, 1, 1, 0, 0, 0, 0, 1, 1, 0, 1, 0, 1, 1, 0, 0, 0, 1, 1, 1, 1, 1, 1, 0, 0, 0, 1, 1, 0, 0, 0, 0, 0, 1, 0, 1, 1, 0, 0, 1, 1, 0, 0, 1, 0, 0, 0, 0, 1, 0, 0, 0, 0, 1, 1, 1, 1, 1, 0, 0, 0, 0, 0, 0, 0, 0, 1, 1, 0, 0, 0, 0, 0, 0, 0, 1, 1, 0, 0, 1, 1, 0, 0, 0, 1, 1, 0, 0, 1, 0, 0, 1, 1, 0, 0, 0, 1, 0, 0, 0, 0, 0, 1, 0, 0, 0, 1, 0, 1, 1, 0, 0, 0, 0, 0, 1, 1, 0, 0, 0, 0, 0, 0, 1, 0, 0, 0, 0, 1, 1, 0, 0, 0, 0, 1, 0, 0, 1, 0, 0, 0, 0, 0, 0, 0, 0, 0, 1, 0, 1, 0, 0, 0, 0, 1, 0, 0, 1, 0, 1, 0, 1, 1, 0, 0, 0, 0, 1, 1, 0, 0, 0, 1, 1, 1, 1, 1, 0, 1, 1, 0, 1, 0, 0, 1, 0, 0, 1, 0, 0, 0, 0, 0, 1, 0, 0, 1, 0, 0, 1, 0, 1, 0, 0, 1, 0, 1, 0, 0, 1, 0, 1, 1, 1, 1, 0, 0, 0, 0, 0, 1, 0, 0, 0, 0, 0, 0, 0, 1, 0, 0, 0, 1, 0, 0, 0, 0, 0, 0, 0, 0, 1, 1, 1, 1, 0, 1, 0, 0, 0, 0, 0, 1, 0, 0, 0, 1, 1, 1, 1, 1, 0, 0, 1, 1, 1, 0, 1, 0, 1, 0, 0, 0, 0, 0, 1, 1, 0, 0, 1, 0, 0, 0, 0, 0, 1, 0, 0, 1, 0, 0, 1, 0, 0, 0, 0, 0, 1, 1, 1, 0, 0, 0, 1, 0, 0, 0, 0, 0, 1, 0, 0, 1, 1, 0, 1, 1, 0, 0, 0, 1, 0, 1, 0, 0, 0, 0, 1, 0, 0, 0, 0, 1, 1, 0, 0, 0, 0, 0, 1, 1, 0, 0, 0, 0, 0, 0, 0, 1, 0, 1, 0, 1, 0, 0, 0, 0, 1, 0, 0, 0, 0, 0, 0, 0, 1, 0, 0, 1, 0, 1, 0, 1, 0, 0, 1, 1, 0, 0, 0, 0, 0, 0, 0, 1, 1, 1, 0, 1, 0, 1, 0, 1, 1, 0, 1, 0, 0, 0, 0, 0, 0, 0, 0, 0, 0, 0, 1, 1, 1, 0, 1, 0, 0, 1, 1, 0, 0, 0, 0, 1, 1, 1, 0, 0, 1, 1, 1, 1, 1, 0, 0, 0, 0, 0, 0, 1, 0, 0, 1, 1, 1, 0, 1, 0, 0, 0, 1, 0, 1, 0, 1, 1, 0, 0, 0, 0, 0, 1, 0, 0, 1, 1, 0, 0, 1, 0, 1, 0, 1, 1, 0, 0, 0, 1, 1, 1, 0, 0, 0, 0, 0, 1, 0, 0, 1, 1, 0, 1, 0, 0, 0, 1, 0, 1, 0, 0, 0, 1, 0, 1, 0, 0, 0, 1, 0, 0, 0, 1, 1, 1, 0, 0, 0, 0, 0, 1, 0, 0, 0, 0, 1, 0, 0, 0, 0, 0, 0, 1, 1, 0, 0, 0, 1, 1, 0, 0, 0, 1, 0, 0, 0, 0, 1, 0, 0, 1, 0, 0, 0, 1, 0, 0, 1, 0, 0, 0, 0, 1, 1, 0, 1, 1, 0, 1, 1, 0, 1, 0, 0, 0, 0, 0, 1, 0, 0, 0, 0, 1, 0, 0, 0, 0, 0, 0, 0, 1, 1, 0, 1, 0, 1, 0, 0, 0, 1, 1, 1, 0, 1, 0, 1, 0, 1, 1, 0, 1, 0, 1, 0, 0, 0, 0, 0, 0, 1, 0, 0, 0, 0, 0, 0, 1, 0, 0, 0, 1, 0, 0, 1, 0, 0, 0, 0, 0, 1, 1, 0, 1, 0, 1, 0, 0, 0, 0, 0, 1, 1, 0, 0, 1, 1, 1, 0, 1, 1, 0, 0, 1, 0, 1, 0, 0, 0, 0, 0, 0, 1, 0, 1, 0, 0, 0, 1, 0, 0, 0, 1, 1, 1, 0, 1, 0, 1, 0, 0, 0, 1, 0, 0, 0, 0, 1, 0, 0, 0, 0, 1, 0, 1, 1, 1, 0, 0, 0, 0, 0, 1, 1, 0, 0, 1, 0, 0, 1, 0, 0, 0, 0, 0, 1, 1, 0, 0, 1, 0, 0, 0, 0, 0, 1, 1, 0, 1, 1, 0, 1, 1, 0, 0, 0, 1, 0, 0, 0, 1, 0, 0, 1, 1, 0, 0, 1, 1, 1, 1, 1, 0, 0, 1, 0, 0, 0, 0, 1, 1, 0, 1, 0, 0, 1, 1, 1, 1, 0, 1, 0, 0, 0, 0, 0, 1, 1, 0, 1, 0, 1, 0, 0, 0, 0, 0, 1, 0, 0, 0, 0, 0, 1, 1, 0, 0, 0, 0, 1, 1, 0, 1, 1, 0, 1, 1, 0, 0, 1, 1, 1, 1, 0, 1, 0, 0, 0, 0, 0, 0, 0, 0, 1, 0, 1, 0, 1, 0, 0, 0, 0, 0, 1, 1, 0, 0, 1, 0, 1, 0, 0, 0, 0, 0, 1, 0, 0, 1, 0, 1, 0, 1, 0, 0, 0, 0, 1, 0, 0, 0, 0, 1, 0, 1, 0, 0, 0, 0, 0, 1, 1, 0, 0, 0, 0, 0, 0, 0, 0, 0, 0, 1, 1, 1, 1, 1, 0, 1, 0, 0, 1, 1, 0, 1, 0, 0, 0, 0, 1, 1, 1, 0, 0, 1, 1, 0, 0, 0, 1, 0, 1, 0, 0, 1, 1, 1, 0, 0, 0, 1, 0, 0, 0, 0, 1, 0, 0, 0, 0, 0, 1, 1, 0, 1, 0, 0, 1, 1, 0, 1, 1, 0, 0, 0, 1, 1, 0, 0, 1, 1, 0, 0, 0, 1, 0, 1, 0, 0, 0, 1, 0, 1, 0, 1, 1, 0, 0, 0, 0, 0, 0, 0, 0, 0, 0, 0, 0, 0, 0, 1, 0, 0, 0, 1, 0, 0, 0, 0, 0, 0, 0, 0, 0, 0, 0, 0, 0, 0, 0, 0, 0, 0, 0, 0, 1, 1, 0, 0, 0, 1, 1, 1, 0, 0, 0, 0, 0, 1, 0, 0, 0, 1, 0, 1, 1, 0, 0, 0, 1, 0, 1, 1, 0, 0, 0, 0, 0, 1, 0, 0, 0, 0, 0, 0, 1, 0, 0, 1, 1, 0, 0, 1, 1, 0, 1, 1, 1, 0, 0, 0, 0, 0, 0, 0, 1, 0, 0, 0, 0, 0, 0, 0, 1, 0, 0, 1, 0, 0, 0, 0, 0, 0, 0, 0, 1, 0, 0, 1, 0, 0, 0]\n"
     ]
    }
   ],
   "source": [
    "print(train_x , train_y)"
   ]
  },
  {
   "cell_type": "code",
   "execution_count": 6,
   "id": "696349f3",
   "metadata": {},
   "outputs": [],
   "source": [
    "idx=1\n",
    "word2idx={'<unk>':0}\n",
    "for text in train_x:\n",
    "    tokens=text.split()\n",
    "    for token in tokens:\n",
    "        if token not in word2idx:\n",
    "            word2idx[token]=idx\n",
    "            idx+=1"
   ]
  },
  {
   "cell_type": "code",
   "execution_count": 7,
   "id": "30619ccf",
   "metadata": {},
   "outputs": [
    {
     "data": {
      "text/plain": [
       "2534"
      ]
     },
     "execution_count": 7,
     "metadata": {},
     "output_type": "execute_result"
    }
   ],
   "source": [
    "len(word2idx)"
   ]
  },
  {
   "cell_type": "code",
   "execution_count": 8,
   "id": "0fd3959a",
   "metadata": {},
   "outputs": [],
   "source": [
    "train_text_int =[]\n",
    "test_text_int=[]\n",
    "\n",
    "for text in train_x:\n",
    "    tokens=text.split()\n",
    "    line_as_int=[word2idx[token] for token in tokens]\n",
    "    train_text_int.append(line_as_int)\n",
    "    \n",
    "for text in test_x:\n",
    "    tokens=text.split()\n",
    "    line_as_int=[word2idx.get(token , 0) for token in tokens]\n",
    "    test_text_int.append(line_as_int)"
   ]
  },
  {
   "cell_type": "code",
   "execution_count": 9,
   "id": "319e84f0",
   "metadata": {},
   "outputs": [],
   "source": [
    "V=len(word2idx)+1"
   ]
  },
  {
   "cell_type": "code",
   "execution_count": 62,
   "id": "c618e3bd",
   "metadata": {},
   "outputs": [
    {
     "data": {
      "text/plain": [
       "[[203, 79, 0, 1502, 38, 1044, 19, 2301, 0],\n",
       " [184, 27, 0, 12, 55, 2062, 12, 0],\n",
       " [113, 114, 84, 115, 3, 116, 117, 118],\n",
       " [27, 156, 1191, 1301, 27, 0, 179],\n",
       " [12, 249, 25, 1643, 1754, 297, 0],\n",
       " [168, 0, 3, 1088, 184, 170, 0, 1105],\n",
       " [545, 490, 491, 27, 492, 146, 493, 373],\n",
       " [170, 354, 170, 354, 61, 2400, 1, 0],\n",
       " [1185, 1186, 89, 0, 27, 0, 131, 211, 0],\n",
       " [529, 170, 1621, 246, 254, 66, 289, 101],\n",
       " [170, 1151, 170, 22, 105, 252],\n",
       " [616, 38, 565, 1029, 0, 61, 414, 0],\n",
       " [217, 289, 303, 0, 134, 351, 567, 0],\n",
       " [10, 27, 625, 626, 12, 426],\n",
       " [0, 6, 315, 456, 54, 0, 42, 0],\n",
       " [3, 2470, 12, 286, 38, 0, 249, 1567, 121, 1293],\n",
       " [81, 1, 81, 435, 545, 200, 66, 315, 566],\n",
       " [759, 249, 2038, 350, 885, 40, 163],\n",
       " [198, 415, 38, 1068],\n",
       " [200, 0, 0, 200, 81, 0, 1473],\n",
       " [719, 27, 0, 836, 249, 140, 0, 211],\n",
       " [1, 42, 0, 199, 10, 529, 27, 201],\n",
       " [27, 0, 79, 0, 184, 21],\n",
       " [752, 908, 315, 909, 1, 317],\n",
       " [184, 22, 12, 0, 105, 367, 0],\n",
       " [1, 0, 21, 184, 42, 0, 0],\n",
       " [0, 730, 121, 146, 27, 1177, 12, 1352],\n",
       " [10, 251, 1, 10, 252, 131, 185, 253],\n",
       " [1, 49, 42, 0],\n",
       " [12, 3, 168, 97, 1160, 1161, 679],\n",
       " [176, 0, 38, 1591, 286, 1670, 27, 1016],\n",
       " [300, 0, 71, 27, 99],\n",
       " [198, 184, 232, 10, 27, 447, 74, 198, 27, 694],\n",
       " [1964, 200, 903, 200, 375, 759, 867, 3],\n",
       " [203, 300, 27, 0, 131, 158, 84, 2288, 315, 0],\n",
       " [52, 61, 351, 0, 38, 1266],\n",
       " [0, 0, 1850, 27, 0, 1420],\n",
       " [61, 786, 0, 21, 419, 529, 1427],\n",
       " [121, 304, 38, 563, 1214, 1778, 110, 304, 38, 1266],\n",
       " [0, 297, 0, 110, 79, 0],\n",
       " [131, 170, 2242, 432, 867],\n",
       " [450, 91, 260, 1933, 407, 25, 0],\n",
       " [12, 3, 168, 169, 170, 171, 110, 27, 172],\n",
       " [39, 21, 1792, 361, 27, 578, 165, 27, 26],\n",
       " [21, 25, 93, 123, 27, 310, 311, 12, 312],\n",
       " [0, 0, 89, 0, 79, 623, 537],\n",
       " [79, 0, 68, 0, 52, 0],\n",
       " [393, 372, 40, 42, 0, 179],\n",
       " [9, 1158, 121, 131, 27, 0, 12, 3, 417],\n",
       " [123, 410, 0, 10, 205, 0, 1115, 1330, 134],\n",
       " [184, 42, 44, 331, 110, 12, 42, 2044, 1304],\n",
       " [184, 22, 12, 0, 105, 367, 0],\n",
       " [54, 1561, 38, 0, 3, 0, 0],\n",
       " [27, 218, 109, 38, 18],\n",
       " [38, 42, 0, 1577],\n",
       " [84, 0, 752, 417, 10, 1, 27, 1425, 0],\n",
       " [297, 61, 135, 355, 64, 38, 639, 27, 218],\n",
       " [759, 26, 12, 3, 878, 10, 27, 879],\n",
       " [141, 237, 419, 184, 257, 1, 2137, 185, 0],\n",
       " [27, 0, 1115, 38, 752, 0, 145, 84, 2017],\n",
       " [27, 402, 0, 87, 0, 123, 71, 0],\n",
       " [0, 934, 564, 53, 1202, 1105, 0],\n",
       " [27, 0, 2169, 12, 55, 0, 0],\n",
       " [134, 39, 6, 299, 61, 236, 91, 205, 891],\n",
       " [297, 1853, 123, 486, 0, 121, 2530, 286],\n",
       " [1306, 38, 565, 40, 117, 269, 1273, 93],\n",
       " [27, 0, 300, 62, 27, 1690, 1, 616, 27, 0],\n",
       " [12, 27, 1162],\n",
       " [1, 0, 529, 0, 0],\n",
       " [61, 2373, 79, 889, 79, 632, 22, 137, 12, 40],\n",
       " [1, 410, 110, 27, 26, 25, 1808],\n",
       " [121, 1193, 110, 6, 1194, 93, 851, 481],\n",
       " [0, 908, 1431, 643, 443],\n",
       " [52, 0, 1088, 10, 0, 12, 1888],\n",
       " [4, 141, 134, 374, 71, 121, 249, 141, 134, 299],\n",
       " [27, 53, 435, 1769, 27, 0],\n",
       " [1, 612, 192, 1105, 0, 38, 0],\n",
       " [119, 200, 192, 1217, 1274, 79, 58],\n",
       " [54, 184, 27, 448, 170, 1519, 1026],\n",
       " [97, 55, 1780, 0],\n",
       " [27, 0, 867],\n",
       " [1044, 6, 1357, 1045, 10, 27, 1046],\n",
       " [19, 350, 510, 121, 27, 1718, 146, 89, 1719, 97],\n",
       " [200, 0, 286, 289, 2416, 164, 38, 257],\n",
       " [38, 0, 27, 409, 1, 214, 27, 417],\n",
       " [52, 0, 1554, 21, 200, 1969],\n",
       " [1, 0, 10, 318, 0, 343],\n",
       " [790, 27, 1591, 12, 27, 1054, 179],\n",
       " [27, 0, 0, 315, 2204, 110, 0, 807],\n",
       " [52, 490, 42, 0, 303, 160, 12, 286, 200, 0],\n",
       " [184, 27, 497, 415, 123, 1740, 27, 1474],\n",
       " [12, 610, 0, 10, 27, 650, 753],\n",
       " [38, 2046, 97, 232, 184, 211, 1120, 1105],\n",
       " [0, 0, 12, 177, 101],\n",
       " [42, 204],\n",
       " [121, 0, 1, 1831, 10, 203, 0, 768],\n",
       " [81, 93, 82],\n",
       " [52, 315, 1028, 123, 27, 201, 12, 42, 917],\n",
       " [394, 395, 134, 249, 27, 218, 1438, 18],\n",
       " [12, 249, 10, 435, 2405, 452, 289, 1, 1073],\n",
       " [643, 361, 165, 27, 0, 12, 27, 645],\n",
       " [1594, 61, 1664, 895, 1, 1665, 211],\n",
       " [10, 325, 326, 327, 110, 79, 184, 21],\n",
       " [0, 3, 170, 0, 452, 1960, 68, 22],\n",
       " [61, 0, 361, 97, 27, 1610, 1, 1133, 119],\n",
       " [0, 710, 0, 710, 0, 511],\n",
       " [52, 0, 200, 27, 0, 38, 0, 192, 76],\n",
       " [880, 79, 0, 68, 406, 200, 27, 1969],\n",
       " [68, 406, 113, 710, 1, 113, 160, 761],\n",
       " [42, 665, 101, 554, 200, 185, 466, 25, 666],\n",
       " [79, 0, 38, 1266, 27, 573, 276],\n",
       " [1, 117, 1413, 68, 2430, 0],\n",
       " [27, 1468, 742, 1132, 1, 0, 62, 110, 1145],\n",
       " [71, 0, 0, 0, 10, 27, 462],\n",
       " [1427, 254, 40, 59, 61, 39, 0, 0],\n",
       " [0, 0, 0, 27, 0, 12, 185, 1105],\n",
       " [1330, 27, 728, 184, 42, 407, 1, 35],\n",
       " [74, 110, 200, 121, 27, 0, 66],\n",
       " [54, 117, 10, 1718],\n",
       " [0, 192, 1713, 1893, 1195, 121, 26],\n",
       " [12, 198, 247, 0, 249, 91, 155, 21, 250],\n",
       " [49, 61, 217, 299, 21, 85, 289, 44, 65],\n",
       " [52, 752, 730, 6, 315, 1647, 1, 317],\n",
       " [6, 1611, 192, 1037, 184, 252, 158, 300, 903],\n",
       " [254, 192, 0, 281, 2046],\n",
       " [38, 18, 158, 0, 146, 782, 1, 158, 146, 0],\n",
       " [2470, 0, 81, 2466, 567, 0, 81, 200, 434, 794],\n",
       " [21],\n",
       " [71, 1462, 0, 10, 27, 0],\n",
       " [54, 2098, 2112, 93, 38, 460],\n",
       " [407, 694, 42, 0],\n",
       " [110, 81, 168, 0, 211, 354, 6, 0, 443],\n",
       " [103, 632, 0, 93, 261, 8, 0, 97, 567, 761],\n",
       " [175, 97, 27, 207, 208, 12, 27, 210],\n",
       " [54, 0, 27, 2035, 1, 0, 66],\n",
       " [10, 1041, 10, 2509, 10, 2510],\n",
       " [75, 726, 209, 146, 61, 90, 61, 299],\n",
       " [168, 485, 42, 0, 123],\n",
       " [1, 61, 58, 19, 300, 984, 105, 985],\n",
       " [5, 565, 27, 0, 224, 27, 0],\n",
       " [131, 318, 320],\n",
       " [131, 318, 320],\n",
       " [84, 721, 89, 27, 1155, 991, 12, 312],\n",
       " [27, 239, 240, 61, 25, 241, 38],\n",
       " [105, 1072, 71, 232, 351, 1029, 753, 184],\n",
       " [75, 0, 0],\n",
       " [42, 0, 0, 0, 137, 0],\n",
       " [1, 1204, 93, 81, 110, 710, 110, 61, 88],\n",
       " [0, 27, 1091, 131, 318, 679],\n",
       " [2240, 289, 0, 547, 61, 1655, 1141],\n",
       " [756],\n",
       " [546, 21, 771, 79, 58, 61, 195, 38, 299],\n",
       " [3, 2336, 1, 331, 131, 27, 0, 1010],\n",
       " [145, 27, 1485, 2451, 867, 27, 2437],\n",
       " [632, 257, 123, 491, 79, 91, 97],\n",
       " [1, 0, 27, 677, 12, 27, 679, 577, 21],\n",
       " [407, 545, 84, 88, 303, 35, 395, 27, 1041, 200, 164],\n",
       " [143, 49, 198, 532, 1075, 61, 0],\n",
       " [61, 0, 27, 891, 0, 172, 119],\n",
       " [71, 0, 97, 42, 0],\n",
       " [1, 0, 257, 137, 97, 27, 0, 0],\n",
       " [361, 145, 27, 1289, 0, 562, 27, 0, 1763],\n",
       " [117, 6, 0, 10, 27, 0, 318, 0],\n",
       " [1, 989, 249, 79, 108, 299],\n",
       " [0, 299, 42, 0, 54, 0, 38, 758],\n",
       " [79, 85, 351, 390, 185, 766, 1, 260, 38, 0],\n",
       " [10, 27, 292, 12, 286, 3, 0],\n",
       " [89, 71, 42, 582, 52, 71, 42, 0],\n",
       " [394, 739, 134, 113, 19, 91, 211, 0, 0],\n",
       " [184, 40, 38, 791, 1, 395, 257, 617],\n",
       " [198, 0, 407, 0, 21, 10, 27, 26],\n",
       " [84, 351, 752, 413],\n",
       " [61, 382, 42, 582, 79, 451, 0, 12, 40],\n",
       " [61, 87, 1044, 66, 315, 68, 1999, 889],\n",
       " [81, 2012, 529, 27, 41, 12, 1221, 0],\n",
       " [1, 350, 643, 644, 27, 60, 12, 27, 645],\n",
       " [1553, 145, 6, 315, 25, 42, 2511, 0],\n",
       " [61, 369, 800, 164, 164, 53, 51, 898],\n",
       " [89, 0, 258, 97, 0, 1, 0],\n",
       " [10, 27, 0, 12, 752, 0],\n",
       " [61, 452, 289, 0, 203, 184, 42, 0],\n",
       " [61, 2373, 2532, 890, 2167, 21, 165, 405],\n",
       " [249, 141, 134, 90, 259, 71, 38, 639, 1465],\n",
       " [1, 0, 184, 566, 444, 71, 55, 0, 0],\n",
       " [1680, 134, 21, 546, 1910, 880, 198, 532],\n",
       " [0, 1186, 1787, 89, 501],\n",
       " [103, 1073, 211, 116, 38, 90, 12, 491, 1853],\n",
       " [200, 747, 1217, 717, 134, 1733, 12, 0, 0],\n",
       " [42, 2041, 79, 393, 0, 184, 0],\n",
       " [61, 452, 0],\n",
       " [42, 497, 121, 25, 27, 296, 12, 27, 530],\n",
       " [198, 303, 106, 93, 203, 300, 27, 945, 12, 21],\n",
       " [10, 314, 68, 1916, 91, 0, 371],\n",
       " [61, 173, 4, 79, 108, 552, 211],\n",
       " [1, 341, 12, 27, 891, 880, 0, 10, 2294],\n",
       " [27, 99, 175, 349],\n",
       " [185, 466, 300, 326, 184, 55, 125],\n",
       " [12, 201, 1, 677, 145, 21, 1076, 38, 457],\n",
       " [1330, 27, 201, 1, 677, 12, 27, 679],\n",
       " [84, 658, 659, 660, 38, 42, 661],\n",
       " [1847, 184, 198, 1355, 1356],\n",
       " [103, 2, 55, 445, 201, 38, 457, 1667],\n",
       " [1, 3, 52, 1447, 1130, 42, 2077, 12, 343],\n",
       " [27, 0, 12, 3, 27, 1054, 66],\n",
       " [61, 53, 382, 192, 407, 25, 42, 880],\n",
       " [10, 121, 427, 460],\n",
       " [121, 2350, 40, 0, 614, 121, 0],\n",
       " [1226, 61, 716, 89, 121, 192, 2430, 2386],\n",
       " [27, 774, 279, 1162],\n",
       " [12, 1423, 1195, 405, 23],\n",
       " [79, 1269, 289, 392, 10, 121, 1446, 134, 414, 1852],\n",
       " [38, 0, 405, 38, 134],\n",
       " [1384, 541, 0],\n",
       " [61, 135, 0, 38, 395, 27, 387, 198, 887],\n",
       " [66, 175, 42, 0, 0, 12, 101],\n",
       " [0, 121, 25, 3, 79, 58],\n",
       " [25, 239, 240, 134, 299, 168, 79, 25],\n",
       " [1, 1587, 38, 237, 614, 61, 781],\n",
       " [19, 25, 1134, 10, 200, 375, 19, 2017, 211, 2087],\n",
       " [184, 427, 1932, 12, 800, 1, 1202],\n",
       " [79, 135, 537, 741, 38, 565, 211, 593],\n",
       " [84, 315, 845, 21, 81, 26, 10, 27, 94],\n",
       " [0, 0, 123, 27, 242],\n",
       " [452, 355, 185, 0, 116],\n",
       " [61, 91, 27, 331, 12, 42, 0],\n",
       " [10, 0, 0, 610, 318, 0, 887],\n",
       " [17, 71, 38, 565, 40, 66, 1, 739, 21, 38, 40],\n",
       " [83, 741, 91, 510, 40, 63, 1195],\n",
       " [185, 265, 0, 789, 10, 27, 0, 1876],\n",
       " [1150, 1275, 97, 27, 1144, 1702, 361],\n",
       " [61, 485, 42, 1310],\n",
       " [27, 161, 300, 622, 12, 0, 0, 1, 0],\n",
       " [61, 135, 0, 21, 1029, 435, 387],\n",
       " [624, 195, 38],\n",
       " [121, 42, 497, 605, 10, 554, 42, 268, 0],\n",
       " [110, 241, 261, 249, 79, 350, 541, 58],\n",
       " [79, 393, 180, 1, 1069, 185, 2287, 2015, 97, 286],\n",
       " [84, 351, 0, 100, 121, 84, 236, 611],\n",
       " [10, 1221, 387, 134, 659, 1960, 1448],\n",
       " [0, 1107, 328, 145, 0],\n",
       " [254, 232, 255, 10, 203, 256, 101],\n",
       " [1, 486, 0, 168, 369, 0],\n",
       " [203, 625, 626, 12, 426],\n",
       " [19, 20, 59, 71, 134, 347, 27, 387, 134, 146],\n",
       " [0, 379, 1, 392],\n",
       " [410, 1494, 2285, 71, 42, 0, 10, 0],\n",
       " [84, 299, 27, 500, 2034, 121, 117, 0],\n",
       " [89, 121, 27, 157, 1226, 659, 21, 0],\n",
       " [71, 401, 2034],\n",
       " [708, 89, 121, 27, 417, 12, 13, 2396],\n",
       " [1413, 0, 0, 710, 564],\n",
       " [163, 79, 300, 410, 203, 1609, 713, 21, 564],\n",
       " [1, 0, 52, 1878, 68, 22],\n",
       " [27, 1114, 97, 27, 460, 27, 242, 843, 237],\n",
       " [10, 121, 92, 2353],\n",
       " [162, 1, 0, 334, 124, 841, 38, 379, 10],\n",
       " [81, 12, 27, 761, 25, 117, 846, 10, 27, 0],\n",
       " [0, 39, 719, 19, 887, 52, 168, 168],\n",
       " [0, 27, 2528, 855, 1239],\n",
       " [1, 91, 21, 0, 21, 25, 3, 845],\n",
       " [61, 414, 62, 39, 192, 2277, 0],\n",
       " [566, 914, 623, 453],\n",
       " [1, 0, 12, 0, 1, 0, 1, 0],\n",
       " [52, 83, 21, 91, 38, 0, 1370],\n",
       " [491, 61, 85, 351, 2417, 0, 10, 0],\n",
       " [0, 110, 79, 2459, 38, 0],\n",
       " [486, 0, 73, 0, 0],\n",
       " [110, 699, 10, 27, 2426, 1115],\n",
       " [55, 0, 418],\n",
       " [12, 341, 0, 0],\n",
       " [4, 89, 565, 0, 163, 97, 27, 94, 181],\n",
       " [667, 668, 669, 670, 454],\n",
       " [21, 36, 110, 83, 486, 0, 12, 27, 242],\n",
       " [27, 0, 27, 0, 1, 27, 0],\n",
       " [10, 27, 423, 424, 425, 12, 426],\n",
       " [566, 0, 0, 10, 42, 1056, 1979],\n",
       " [61, 91, 42, 0, 165, 0, 0],\n",
       " [79, 662, 61, 53, 351, 38, 18, 27, 2353],\n",
       " [52, 1141, 217, 0, 269, 71, 257, 66],\n",
       " [38, 39, 249, 6, 315, 180, 27, 2217],\n",
       " [116, 194, 1020, 184, 0, 1, 817],\n",
       " [38, 289, 42, 0],\n",
       " [1141, 38, 141, 27, 1630, 200, 27, 149],\n",
       " [103, 54, 710, 224, 79, 135, 39, 249, 191, 643, 38],\n",
       " [184, 752, 2109, 529, 27, 1738, 12, 752, 1258],\n",
       " [467, 404, 827, 297, 300, 21, 12, 42, 1352],\n",
       " [1, 1201, 1, 60],\n",
       " [297, 21, 623, 374, 10, 0, 75, 57],\n",
       " [117, 61, 237, 361, 165, 27, 0, 2250],\n",
       " [1, 781, 38, 1191, 1044, 460],\n",
       " [52, 83, 61, 74, 38, 2137, 27, 1315, 0],\n",
       " [12, 3, 38, 957, 1202, 2304, 300, 27, 26],\n",
       " [1, 0, 289, 65, 38, 945, 200, 1393],\n",
       " [595, 1902, 21, 0, 53, 38, 341],\n",
       " [61, 71, 205, 415, 38, 289, 134, 58, 62, 410],\n",
       " [529, 583, 38, 233, 123, 1, 39, 168, 79, 25],\n",
       " [84, 1775, 42, 1115, 61, 786, 1362],\n",
       " [68, 61, 217, 660, 205, 1105, 2187, 58, 65],\n",
       " [0, 61, 785, 21, 766, 84, 217, 0],\n",
       " [2187, 1447, 21, 49],\n",
       " [89, 0, 205, 1903, 61, 414, 68, 22],\n",
       " [121, 66, 541, 300, 117, 27, 0, 0],\n",
       " [3, 3, 0, 1358, 800, 1358, 298, 105, 1186],\n",
       " [38, 2396, 121, 0, 1567, 2309],\n",
       " [61, 351, 1632, 137, 10, 1068, 1, 373, 10, 1068],\n",
       " [1, 1907, 1908, 25, 1909],\n",
       " [83, 27, 694, 1602, 27, 402, 254, 286, 351, 21],\n",
       " [486, 18, 10, 1780],\n",
       " [1462, 848, 6, 1045, 10, 27, 1046],\n",
       " [38, 18, 121, 200, 0, 1780],\n",
       " [52, 752, 730, 6, 315, 1647, 1, 317],\n",
       " [61, 25, 0, 0, 200, 27, 116, 345],\n",
       " [145, 0, 1, 0, 1869],\n",
       " [121, 0, 1, 0],\n",
       " [337, 1952],\n",
       " [12, 2194, 61, 2195, 184, 192, 1037],\n",
       " [1, 885, 211, 137, 12, 211, 886],\n",
       " [290, 564],\n",
       " [143, 49, 144, 163, 300, 145, 61, 739, 134, 755],\n",
       " [1, 0, 1, 58, 1088, 38, 1130],\n",
       " [427, 417, 0, 392],\n",
       " [1, 0],\n",
       " [12, 192, 559, 1263, 879],\n",
       " [27, 608, 417, 1, 27, 0, 1289],\n",
       " [49, 192, 354, 21, 1027, 1137, 1, 1138],\n",
       " [61, 114, 39, 417, 131, 42, 0, 1189],\n",
       " [52, 89, 27, 0, 66, 121, 43],\n",
       " [1, 890, 0, 190],\n",
       " [61, 756, 88, 351, 887, 27, 1261, 61, 1567],\n",
       " [21, 25, 392, 61, 437],\n",
       " [1, 719, 27, 1077, 134, 0, 134, 299],\n",
       " [0, 3, 10, 0, 230, 42, 0, 1482],\n",
       " [0, 46],\n",
       " [49, 121, 1690, 1928, 194, 58, 38, 59],\n",
       " [110, 27, 314, 121, 315, 2115, 1, 317],\n",
       " [38, 341, 0, 0, 205, 354, 38, 0],\n",
       " [121, 2301, 137, 10, 0, 200, 27, 0],\n",
       " [2477, 710, 134, 85, 237, 200, 0],\n",
       " [192, 774, 853, 85, 90, 21, 0],\n",
       " [42, 0, 161, 145, 0, 350, 0, 224],\n",
       " [203, 25, 486, 880, 19, 786, 299, 79, 0],\n",
       " [19, 662, 83, 21, 25, 335, 38, 379, 184, 257],\n",
       " [61, 1915, 286, 119, 786, 109, 38, 639, 286],\n",
       " [42, 0, 21, 25, 2483, 203, 116],\n",
       " [68, 400, 25, 477, 10, 21, 410],\n",
       " [27, 242, 10, 27, 0, 0, 0],\n",
       " [66, 25, 68, 0, 845, 2273],\n",
       " [192, 370, 1418],\n",
       " [12, 27, 0, 121, 21, 659],\n",
       " [21, 85, 351, 1204, 110, 83, 27, 225],\n",
       " [61, 299, 12, 486, 1072, 0, 289, 1332, 361],\n",
       " [529, 170, 1621, 246, 254, 66, 289, 101],\n",
       " [1, 61, 299, 12, 81, 121, 786, 0],\n",
       " [119, 457, 0, 61, 176, 257, 0, 27, 201, 1134],\n",
       " [103, 62, 612, 617, 103, 71, 42, 1955],\n",
       " [21, 605, 21, 3, 27, 606, 134, 85, 289, 0],\n",
       " [27, 1144, 659, 351, 0, 1373, 61, 369, 21],\n",
       " [6, 351, 89, 128, 40, 110, 192, 1932, 351, 1373],\n",
       " [2395, 1186, 1185, 1915, 192, 0],\n",
       " [61, 41, 89, 710, 131, 192, 415, 245],\n",
       " [10, 2414, 529, 2413, 1582, 200, 27, 2192],\n",
       " [21, 10, 0],\n",
       " [321, 12, 27, 0, 2169, 74, 110, 200, 121],\n",
       " [10, 156, 117, 61, 953, 27, 593],\n",
       " [945, 26, 25, 81, 12, 211, 878, 137, 269, 1179],\n",
       " [110, 27, 1646, 1649],\n",
       " [68, 0, 1465, 79, 58],\n",
       " [0, 12, 185, 247, 335, 0],\n",
       " [10, 81, 0, 0],\n",
       " [68, 198, 0, 843, 289, 9],\n",
       " [131, 1821, 38, 0, 433, 27, 599],\n",
       " [249, 61, 39, 198, 42, 774, 774, 2361],\n",
       " [1, 0, 613, 992, 27, 0, 0],\n",
       " [21, 25, 93, 123, 27, 310, 311, 12, 312],\n",
       " [335, 38, 457, 241, 117, 19, 91, 27, 0],\n",
       " [0, 254, 286, 347, 10, 27, 402, 1373, 6, 87, 66],\n",
       " [1, 97, 1202, 247, 207, 328, 10, 1888],\n",
       " [68, 0, 0, 121, 914, 659, 289],\n",
       " [192, 1427, 863, 25, 38, 457, 38, 27, 0],\n",
       " [168, 0, 623, 2235, 131, 375, 1, 595],\n",
       " [27, 583, 61, 88, 141, 25, 38, 1016, 0, 318, 92],\n",
       " [198, 2274, 2275, 300, 2276],\n",
       " [1, 409, 121, 0, 10, 27, 0, 386],\n",
       " [38, 830, 40, 1, 39, 249, 61, 1020, 38, 457],\n",
       " [121, 61, 1842, 61, 1842, 93, 163],\n",
       " [27, 2447, 0, 176, 42, 2421],\n",
       " [38, 1528, 42, 774, 897, 1086],\n",
       " [1, 89, 0, 99, 297, 1146, 42, 0, 179],\n",
       " [486, 18, 27, 448, 140, 41, 10, 343],\n",
       " [0, 27, 250, 12, 246, 0, 121, 404],\n",
       " [21, 85, 289, 144, 38, 1069, 257],\n",
       " [10, 0],\n",
       " [784, 81, 844, 38, 211, 249, 20, 19, 18],\n",
       " [42, 0, 1577],\n",
       " [643, 361, 165, 27, 0, 12, 27, 645],\n",
       " [145, 0, 410, 643, 137, 38, 242, 1, 0],\n",
       " [2, 27, 0, 12, 752, 854],\n",
       " [407, 1, 117, 191, 887, 21, 249, 124, 351, 61],\n",
       " [1, 494, 2524, 38, 496],\n",
       " [185, 268, 0, 131, 66, 81, 26],\n",
       " [3, 0, 486, 0, 10, 0],\n",
       " [957, 27, 242, 1, 27, 153],\n",
       " [19, 1431, 110, 143, 758, 52, 79, 1602, 1706],\n",
       " [12, 0, 0],\n",
       " [42, 412, 767, 10, 55, 0, 687],\n",
       " [0, 61, 946, 89, 123, 192, 1352],\n",
       " [145, 1649],\n",
       " [38, 302, 54, 1835, 1, 0, 361, 10, 1072, 208],\n",
       " [289, 124, 27, 218, 18],\n",
       " [103, 0, 134, 299, 83, 103, 42, 460],\n",
       " [38, 617, 79, 2301, 21, 361],\n",
       " [168, 0, 623, 2235, 131, 375, 1, 595],\n",
       " [58, 121, 61, 1554, 257, 137, 10, 185, 72, 2062],\n",
       " [1373, 21, 1792, 361, 38, 595, 165, 27, 26],\n",
       " [254, 286, 347, 10, 27, 402, 117, 6, 301],\n",
       " [529, 27, 41, 12, 752, 1107, 42, 1229],\n",
       " [6, 1628, 40, 6, 1248, 40, 165, 27, 51],\n",
       " [19, 776, 165, 55, 777, 12, 778],\n",
       " [61, 2373, 938, 537, 27, 1173, 62, 110, 499],\n",
       " [21, 0, 184, 232, 541, 38, 1170, 211, 224],\n",
       " [61, 395, 286, 6, 135, 457, 40, 165, 27, 201, 74],\n",
       " [89, 27, 0, 492],\n",
       " [91, 2060, 27, 0],\n",
       " [547, 24, 38, 395, 27, 0, 79, 350, 91],\n",
       " [1, 643, 1, 302, 205, 156, 0, 163],\n",
       " [61, 786, 299, 25, 66, 21, 25, 27, 459],\n",
       " [134, 85, 289, 142, 742, 134, 875, 844],\n",
       " [49, 198, 3, 361, 61, 90, 394, 457, 564],\n",
       " [84, 721, 89, 27, 1155, 991, 12, 312],\n",
       " [1, 27, 101, 2045, 97, 286, 176, 286, 106],\n",
       " [72, 1975, 0, 42, 0, 0, 1144],\n",
       " [27, 1162, 759, 27, 1162],\n",
       " [121, 0, 71, 42, 1356, 12, 0],\n",
       " [27, 0, 121, 315, 0, 42, 1584, 0],\n",
       " [1, 1740, 0, 42, 497, 652, 10, 1289],\n",
       " [131, 0, 911],\n",
       " [419, 121, 0, 12, 1418],\n",
       " [407, 27, 53, 0, 192, 0, 889, 184, 40],\n",
       " [565, 3, 134, 195],\n",
       " [83, 27, 638, 1165, 8, 303, 0, 10, 40],\n",
       " [0, 61, 0, 38, 27, 201, 1, 327, 27, 0],\n",
       " [12, 334, 12, 232, 52, 59, 113, 21, 0, 137],\n",
       " [42, 0, 297, 566, 110, 124, 110, 247, 27, 238],\n",
       " [117, 61, 25, 901, 61, 542, 27, 0],\n",
       " [134, 382, 261, 7, 1121],\n",
       " [21, 95, 42, 0, 0, 0],\n",
       " [1, 1352, 61, 1915, 257, 0, 10, 27, 94],\n",
       " [113, 0, 42, 1577, 66, 2262],\n",
       " [110, 392, 898, 110, 121],\n",
       " [27, 1240, 1241, 131, 137, 464, 595],\n",
       " [1, 27, 0, 60, 54, 0, 395],\n",
       " [110, 1561, 42, 0, 110, 21, 414, 289],\n",
       " [339, 874, 414, 347],\n",
       " [375, 392, 10, 679, 1, 2095, 211, 1088, 10, 679],\n",
       " [38, 554, 42, 0],\n",
       " [829, 0],\n",
       " [452, 289, 55, 905, 0, 12, 0],\n",
       " [61, 1775, 27, 276, 224, 0, 97, 27, 1610],\n",
       " [174, 110, 42, 1412, 110, 100, 54, 1561, 198, 0],\n",
       " [84, 1020, 137, 97, 42, 0, 145, 84, 0],\n",
       " [49, 0, 2235],\n",
       " [91, 0, 286, 1438, 845, 27, 1690],\n",
       " [566, 0, 0, 10, 42, 1979, 1, 61],\n",
       " [27, 1710, 282, 0, 103, 0],\n",
       " [79, 756, 58, 304, 2, 84, 315, 241],\n",
       " [269, 254, 21, 0, 211, 134, 393, 27, 0],\n",
       " [244, 291, 161, 845, 203, 94, 538],\n",
       " [117, 0, 1195, 433, 27, 0],\n",
       " [27, 402, 25, 298, 38, 232, 105, 27, 94],\n",
       " [529, 277, 1938, 12, 42, 412, 0],\n",
       " [0, 318, 0, 0, 184, 0, 1832],\n",
       " [58, 1324, 203, 913, 61, 1325],\n",
       " [361, 1585, 361, 0, 1939],\n",
       " [123, 125, 676, 10, 27, 0, 153],\n",
       " [529, 27, 1621, 246, 121, 315, 1622],\n",
       " [191, 756, 1817, 10, 992, 27, 1769],\n",
       " [19, 1076, 752, 1425, 38, 289, 27, 1706, 66, 146],\n",
       " [79, 756, 1234, 27, 1267, 83, 1214, 1778],\n",
       " [230, 341, 256, 0, 0],\n",
       " [318, 239, 240, 25, 27, 450, 12, 0],\n",
       " [27, 2007, 536, 2301, 1399, 253],\n",
       " [27, 0, 12, 1138, 409],\n",
       " [302, 1448, 361, 42, 0, 418, 12, 113],\n",
       " [2189, 0, 12, 0, 0],\n",
       " [79, 784, 1118, 121, 1205, 1206],\n",
       " [121, 6, 88, 639, 395, 12, 25, 0],\n",
       " [230, 42, 238, 121, 300, 68, 22, 42, 238],\n",
       " [198, 110, 61, 18, 269, 475, 131, 257, 261, 3],\n",
       " [0, 0],\n",
       " [1, 791, 361, 123, 40, 1, 565, 214, 12, 40],\n",
       " [0, 8, 163, 1764, 51],\n",
       " [97, 185, 247, 238, 103, 0, 52, 110, 38, 1425],\n",
       " [79, 58, 27, 492, 91, 1177, 52, 117, 61, 1434, 257],\n",
       " [12, 185, 57, 3, 1377],\n",
       " [110, 27, 314, 121, 315, 2115, 1, 317],\n",
       " [134, 217, 71, 0, 3, 134, 71, 300, 755],\n",
       " [184, 27, 0, 12, 170, 2352],\n",
       " [2481, 2482, 656],\n",
       " [61, 707, 0, 61, 707, 374, 297, 90],\n",
       " [121, 184, 42, 732, 733, 231, 155, 232, 233],\n",
       " [38, 379, 443, 1, 49, 0, 0],\n",
       " [0, 1350, 121, 0, 89],\n",
       " [146, 2054, 427, 105, 61],\n",
       " [97, 0, 52, 1912, 2053, 38, 582],\n",
       " [52, 134, 39, 217, 134, 84, 565, 716, 12, 257],\n",
       " [0, 203, 0, 1979],\n",
       " [52, 1511, 27, 101, 131, 415, 137],\n",
       " [373, 137, 12, 3, 203, 410, 303, 304, 200, 232],\n",
       " [848, 111, 91, 257, 0, 38, 0, 1, 694],\n",
       " [27, 0, 79, 1148, 10, 1, 110, 0, 259, 1909],\n",
       " [119, 83, 79, 315, 163, 61, 217, 673],\n",
       " [249, 21, 300, 38, 257],\n",
       " [27, 1690, 110, 134, 0, 0, 0],\n",
       " [134, 90, 938, 1706, 0, 211, 529, 554, 42, 116],\n",
       " [74, 164, 84, 91, 2253, 93, 163],\n",
       " [110, 83, 200, 0, 12, 0, 230, 40],\n",
       " [1, 2358, 211, 2359, 1, 886],\n",
       " [198, 1875, 243, 140, 1412, 1, 0],\n",
       " [1, 1373, 66, 25, 68, 435, 387, 38, 59],\n",
       " [529, 583, 191, 704, 134, 38, 27, 0, 635],\n",
       " [27, 733, 121, 54, 88, 214, 286, 110, 6, 315],\n",
       " [52, 74, 0, 79, 0],\n",
       " [1, 0, 110, 61, 39, 230, 27, 144],\n",
       " [49, 192, 354, 21, 1027, 1137, 1, 1138],\n",
       " [315, 10, 318, 0, 0],\n",
       " [10, 0, 121, 623, 1371, 302, 185, 0],\n",
       " [21, 393, 66],\n",
       " [1, 791, 614, 134, 10, 27, 445, 201],\n",
       " [134, 288, 38, 351, 27, 363, 38, 1448],\n",
       " [131, 192, 2281, 1395, 27, 578],\n",
       " [61, 0, 89, 121, 27, 2099],\n",
       " [52, 42, 782, 121, 0, 188],\n",
       " [49, 0, 81, 1903],\n",
       " [38, 2137, 1670, 42, 0, 1561],\n",
       " [55, 507, 12, 0, 0],\n",
       " [121, 131, 365, 0, 0],\n",
       " [71, 0, 27, 0, 1, 124],\n",
       " [203, 423, 424, 425, 12, 426],\n",
       " [74, 44, 1, 0],\n",
       " [164, 22, 614, 84, 453, 0]]"
      ]
     },
     "execution_count": 62,
     "metadata": {},
     "output_type": "execute_result"
    }
   ],
   "source": [
    "test_text_int"
   ]
  },
  {
   "cell_type": "code",
   "execution_count": 10,
   "id": "694aa0b4",
   "metadata": {},
   "outputs": [],
   "source": [
    "A_0 = np.ones((V , V))\n",
    "pi_0 = np.ones(V)\n",
    "\n",
    "A_1 = np.ones((V , V))\n",
    "pi_1 = np.ones(V)"
   ]
  },
  {
   "cell_type": "code",
   "execution_count": 98,
   "id": "3b6f033e",
   "metadata": {},
   "outputs": [],
   "source": [
    "def compute_count(text_as_int , A , pi , epsilon):\n",
    "    \n",
    "    for tokens in text_as_int:\n",
    "        last_idx=None\n",
    "        for idx in tokens:\n",
    "            if last_idx is None :\n",
    "                pi[idx]+=epsilon\n",
    "            else:\n",
    "                A[last_idx , idx]+=epsilon\n",
    "            last_idx = idx\n",
    "    A/=A.sum(axis=1 , keepdims=True)+V*epsilon\n",
    "    pi/=pi.sum()+V*epsilon\n",
    "    \n",
    "compute_count([t for t,y in zip(train_text_int , train_y) if y==0] , A_0 , pi_0 , 1)\n",
    "compute_count([t for t,y in zip(train_text_int , train_y) if y==1] , A_1, pi_1 , 1)\n",
    "        "
   ]
  },
  {
   "cell_type": "code",
   "execution_count": 99,
   "id": "38ee6e21",
   "metadata": {},
   "outputs": [
    {
     "data": {
      "text/plain": [
       "array([[9.45407734e-18, 9.45407734e-18, 9.45407734e-18, ...,\n",
       "        9.45407734e-18, 9.45407734e-18, 9.45407734e-18],\n",
       "       [6.32653846e-18, 6.32653846e-18, 6.72914118e-04, ...,\n",
       "        6.32653846e-18, 6.32653846e-18, 6.32653846e-18],\n",
       "       [9.36144189e-18, 9.36144189e-18, 9.36144189e-18, ...,\n",
       "        9.36144189e-18, 9.36144189e-18, 9.36144189e-18],\n",
       "       ...,\n",
       "       [9.43545083e-18, 9.43545083e-18, 9.43545083e-18, ...,\n",
       "        9.43545083e-18, 9.43545083e-18, 9.43545083e-18],\n",
       "       [9.43545083e-18, 9.43545083e-18, 9.43545083e-18, ...,\n",
       "        9.43545083e-18, 9.43545083e-18, 9.43545083e-18],\n",
       "       [4.66962425e-18, 4.66962425e-18, 4.66962425e-18, ...,\n",
       "        4.66962425e-18, 4.66962425e-18, 1.82416759e-11]])"
      ]
     },
     "execution_count": 99,
     "metadata": {},
     "output_type": "execute_result"
    }
   ],
   "source": [
    "A_0"
   ]
  },
  {
   "cell_type": "code",
   "execution_count": 70,
   "id": "7b4a0739",
   "metadata": {},
   "outputs": [
    {
     "data": {
      "text/plain": [
       "array([9.11124550e-15, 4.10199548e-02, 9.11124550e-15, ...,\n",
       "       9.11124550e-15, 9.11124550e-15, 2.33554934e-11])"
      ]
     },
     "execution_count": 70,
     "metadata": {},
     "output_type": "execute_result"
    }
   ],
   "source": [
    "pi_0"
   ]
  },
  {
   "cell_type": "code",
   "execution_count": 85,
   "id": "9ac52374",
   "metadata": {},
   "outputs": [],
   "source": [
    "loga0 = np.log(A_0)\n",
    "logpi0 = np.log(pi_0)\n",
    "loga1 = np.log(A_1)\n",
    "logpi1 = np.log(pi_1)"
   ]
  },
  {
   "cell_type": "code",
   "execution_count": 86,
   "id": "148866c9",
   "metadata": {},
   "outputs": [
    {
     "data": {
      "text/plain": [
       "1073"
      ]
     },
     "execution_count": 86,
     "metadata": {},
     "output_type": "execute_result"
    }
   ],
   "source": [
    "count0"
   ]
  },
  {
   "cell_type": "code",
   "execution_count": 87,
   "id": "f358ffe6",
   "metadata": {},
   "outputs": [],
   "source": [
    "count0 = sum(y==0 for y in train_y)\n",
    "count1 = sum(y==1 for y in train_y)"
   ]
  },
  {
   "cell_type": "code",
   "execution_count": 88,
   "id": "accaa5b1",
   "metadata": {},
   "outputs": [],
   "source": [
    "total= len(train_y)"
   ]
  },
  {
   "cell_type": "code",
   "execution_count": 89,
   "id": "bdcaa33a",
   "metadata": {},
   "outputs": [
    {
     "data": {
      "text/plain": [
       "(0.6631644004944376, 0.3368355995055624)"
      ]
     },
     "execution_count": 89,
     "metadata": {},
     "output_type": "execute_result"
    }
   ],
   "source": [
    "p0=count0/total\n",
    "p1=count1/total\n",
    "logp0=np.log(p0)\n",
    "logp1=np.log(p1)\n",
    "p0 , p1"
   ]
  },
  {
   "cell_type": "code",
   "execution_count": 90,
   "id": "3789fe79",
   "metadata": {},
   "outputs": [],
   "source": [
    "class Classifier:\n",
    "    def __init__(self , logA , logpi , logprior):\n",
    "        self.logA = logA\n",
    "        self.logpi= logpi\n",
    "        self.logprior = logprior\n",
    "        self.K = len(logprior)\n",
    "        \n",
    "        \n",
    "        \n",
    "    def _compute_log_likelihood(self , input_ , class_):\n",
    "        logA=self.logA[class_]\n",
    "        logpi = self.logpi[class_]\n",
    "        lastidx=None\n",
    "        logprob =0 \n",
    "        for idx in input_:\n",
    "            if lastidx is None:\n",
    "                logprob+=logpi[idx]\n",
    "            else:\n",
    "                logprob+=logA[lastidx , idx]\n",
    "            lastidx=idx\n",
    "        return logprob\n",
    "        \n",
    "    \n",
    "    \n",
    "    \n",
    "    def predict(self , inputs):\n",
    "        pred=np.zeros(len(inputs))\n",
    "        for i , input_ in enumerate(inputs):\n",
    "            pos =[self._compute_log_likelihood(input_ , c)+self.logprior[c] for c in range(self.K)]\n",
    "            pre=np.argmax(pos)\n",
    "            pred[i]=pre\n",
    "        return pred\n",
    "            \n",
    "        "
   ]
  },
  {
   "cell_type": "code",
   "execution_count": 100,
   "id": "d1a7ce6a",
   "metadata": {},
   "outputs": [],
   "source": [
    "clf= Classifier([loga0 , loga1] , [logpi0 , logpi1] , [logp0 , logp1])"
   ]
  },
  {
   "cell_type": "code",
   "execution_count": 101,
   "id": "8d96dd43",
   "metadata": {},
   "outputs": [],
   "source": [
    "ptrain = clf.predict(train_text_int)"
   ]
  },
  {
   "cell_type": "code",
   "execution_count": 102,
   "id": "f478b820",
   "metadata": {},
   "outputs": [
    {
     "name": "stdout",
     "output_type": "stream",
     "text": [
      "train acc:1.0\n"
     ]
    }
   ],
   "source": [
    "print(f\"train acc:{np.mean(ptrain==train_y)}\")"
   ]
  },
  {
   "cell_type": "code",
   "execution_count": 103,
   "id": "a7192e1b",
   "metadata": {},
   "outputs": [
    {
     "name": "stdout",
     "output_type": "stream",
     "text": [
      "test acc:0.8185185185185185\n"
     ]
    }
   ],
   "source": [
    "ptest = clf.predict(test_text_int)\n",
    "print(f\"test acc:{np.mean(ptest==test_y)}\")"
   ]
  },
  {
   "cell_type": "code",
   "execution_count": 104,
   "id": "9732c089",
   "metadata": {},
   "outputs": [],
   "source": [
    "from sklearn.metrics import confusion_matrix , f1_score"
   ]
  },
  {
   "cell_type": "code",
   "execution_count": 105,
   "id": "5c60f9bd",
   "metadata": {},
   "outputs": [],
   "source": [
    "cm=confusion_matrix(train_y , ptrain)"
   ]
  },
  {
   "cell_type": "code",
   "execution_count": 106,
   "id": "8f095914",
   "metadata": {},
   "outputs": [
    {
     "data": {
      "text/plain": [
       "array([[1073,    0],\n",
       "       [   0,  545]], dtype=int64)"
      ]
     },
     "execution_count": 106,
     "metadata": {},
     "output_type": "execute_result"
    }
   ],
   "source": [
    "cm"
   ]
  },
  {
   "cell_type": "code",
   "execution_count": 107,
   "id": "9527b1eb",
   "metadata": {},
   "outputs": [
    {
     "data": {
      "text/plain": [
       "array([[335,  28],\n",
       "       [ 70, 107]], dtype=int64)"
      ]
     },
     "execution_count": 107,
     "metadata": {},
     "output_type": "execute_result"
    }
   ],
   "source": [
    "cm_test=confusion_matrix(test_y , ptest)\n",
    "cm_test"
   ]
  },
  {
   "cell_type": "code",
   "execution_count": 108,
   "id": "0924807f",
   "metadata": {},
   "outputs": [
    {
     "data": {
      "text/plain": [
       "1.0"
      ]
     },
     "execution_count": 108,
     "metadata": {},
     "output_type": "execute_result"
    }
   ],
   "source": [
    "f1_score(train_y , ptrain)"
   ]
  },
  {
   "cell_type": "code",
   "execution_count": 109,
   "id": "da90a676",
   "metadata": {},
   "outputs": [
    {
     "data": {
      "text/plain": [
       "0.6858974358974359"
      ]
     },
     "execution_count": 109,
     "metadata": {},
     "output_type": "execute_result"
    }
   ],
   "source": [
    "f1_score(test_y , ptest)"
   ]
  },
  {
   "cell_type": "code",
   "execution_count": null,
   "id": "6409a285",
   "metadata": {},
   "outputs": [],
   "source": []
  }
 ],
 "metadata": {
  "kernelspec": {
   "display_name": "Python 3 (ipykernel)",
   "language": "python",
   "name": "python3"
  },
  "language_info": {
   "codemirror_mode": {
    "name": "ipython",
    "version": 3
   },
   "file_extension": ".py",
   "mimetype": "text/x-python",
   "name": "python",
   "nbconvert_exporter": "python",
   "pygments_lexer": "ipython3",
   "version": "3.11.7"
  }
 },
 "nbformat": 4,
 "nbformat_minor": 5
}
