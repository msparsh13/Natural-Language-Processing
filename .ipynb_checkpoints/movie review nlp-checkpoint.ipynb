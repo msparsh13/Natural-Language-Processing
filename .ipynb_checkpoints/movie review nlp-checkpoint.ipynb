{
 "cells": [
  {
   "cell_type": "code",
   "execution_count": 1,
   "id": "27de8e10",
   "metadata": {},
   "outputs": [],
   "source": [
    "import numpy as np\n",
    "import pandas as pd"
   ]
  },
  {
   "cell_type": "code",
   "execution_count": 76,
   "id": "279e3b63",
   "metadata": {},
   "outputs": [],
   "source": [
    "df=pd.read_csv(r\"C:\\Users\\Sparsh Mahajan\\Downloads\\archive (12)\\IMDB Dataset.csv\")"
   ]
  },
  {
   "cell_type": "code",
   "execution_count": 3,
   "id": "b40e8fee",
   "metadata": {},
   "outputs": [
    {
     "data": {
      "text/html": [
       "<div>\n",
       "<style scoped>\n",
       "    .dataframe tbody tr th:only-of-type {\n",
       "        vertical-align: middle;\n",
       "    }\n",
       "\n",
       "    .dataframe tbody tr th {\n",
       "        vertical-align: top;\n",
       "    }\n",
       "\n",
       "    .dataframe thead th {\n",
       "        text-align: right;\n",
       "    }\n",
       "</style>\n",
       "<table border=\"1\" class=\"dataframe\">\n",
       "  <thead>\n",
       "    <tr style=\"text-align: right;\">\n",
       "      <th></th>\n",
       "      <th>review</th>\n",
       "      <th>sentiment</th>\n",
       "    </tr>\n",
       "  </thead>\n",
       "  <tbody>\n",
       "    <tr>\n",
       "      <th>0</th>\n",
       "      <td>One of the other reviewers has mentioned that ...</td>\n",
       "      <td>positive</td>\n",
       "    </tr>\n",
       "    <tr>\n",
       "      <th>1</th>\n",
       "      <td>A wonderful little production. &lt;br /&gt;&lt;br /&gt;The...</td>\n",
       "      <td>positive</td>\n",
       "    </tr>\n",
       "    <tr>\n",
       "      <th>2</th>\n",
       "      <td>I thought this was a wonderful way to spend ti...</td>\n",
       "      <td>positive</td>\n",
       "    </tr>\n",
       "    <tr>\n",
       "      <th>3</th>\n",
       "      <td>Basically there's a family where a little boy ...</td>\n",
       "      <td>negative</td>\n",
       "    </tr>\n",
       "    <tr>\n",
       "      <th>4</th>\n",
       "      <td>Petter Mattei's \"Love in the Time of Money\" is...</td>\n",
       "      <td>positive</td>\n",
       "    </tr>\n",
       "    <tr>\n",
       "      <th>...</th>\n",
       "      <td>...</td>\n",
       "      <td>...</td>\n",
       "    </tr>\n",
       "    <tr>\n",
       "      <th>49995</th>\n",
       "      <td>I thought this movie did a down right good job...</td>\n",
       "      <td>positive</td>\n",
       "    </tr>\n",
       "    <tr>\n",
       "      <th>49996</th>\n",
       "      <td>Bad plot, bad dialogue, bad acting, idiotic di...</td>\n",
       "      <td>negative</td>\n",
       "    </tr>\n",
       "    <tr>\n",
       "      <th>49997</th>\n",
       "      <td>I am a Catholic taught in parochial elementary...</td>\n",
       "      <td>negative</td>\n",
       "    </tr>\n",
       "    <tr>\n",
       "      <th>49998</th>\n",
       "      <td>I'm going to have to disagree with the previou...</td>\n",
       "      <td>negative</td>\n",
       "    </tr>\n",
       "    <tr>\n",
       "      <th>49999</th>\n",
       "      <td>No one expects the Star Trek movies to be high...</td>\n",
       "      <td>negative</td>\n",
       "    </tr>\n",
       "  </tbody>\n",
       "</table>\n",
       "<p>50000 rows × 2 columns</p>\n",
       "</div>"
      ],
      "text/plain": [
       "                                                  review sentiment\n",
       "0      One of the other reviewers has mentioned that ...  positive\n",
       "1      A wonderful little production. <br /><br />The...  positive\n",
       "2      I thought this was a wonderful way to spend ti...  positive\n",
       "3      Basically there's a family where a little boy ...  negative\n",
       "4      Petter Mattei's \"Love in the Time of Money\" is...  positive\n",
       "...                                                  ...       ...\n",
       "49995  I thought this movie did a down right good job...  positive\n",
       "49996  Bad plot, bad dialogue, bad acting, idiotic di...  negative\n",
       "49997  I am a Catholic taught in parochial elementary...  negative\n",
       "49998  I'm going to have to disagree with the previou...  negative\n",
       "49999  No one expects the Star Trek movies to be high...  negative\n",
       "\n",
       "[50000 rows x 2 columns]"
      ]
     },
     "execution_count": 3,
     "metadata": {},
     "output_type": "execute_result"
    }
   ],
   "source": [
    "df"
   ]
  },
  {
   "cell_type": "code",
   "execution_count": 4,
   "id": "8521f6ad",
   "metadata": {},
   "outputs": [
    {
     "data": {
      "text/plain": [
       "review       0\n",
       "sentiment    0\n",
       "dtype: int64"
      ]
     },
     "execution_count": 4,
     "metadata": {},
     "output_type": "execute_result"
    }
   ],
   "source": [
    "df.isnull().sum()"
   ]
  },
  {
   "cell_type": "markdown",
   "id": "96ad15fb",
   "metadata": {},
   "source": [
    "# text preperation\n"
   ]
  },
  {
   "cell_type": "code",
   "execution_count": 5,
   "id": "e6f1e85a",
   "metadata": {},
   "outputs": [
    {
     "data": {
      "text/html": [
       "<div>\n",
       "<style scoped>\n",
       "    .dataframe tbody tr th:only-of-type {\n",
       "        vertical-align: middle;\n",
       "    }\n",
       "\n",
       "    .dataframe tbody tr th {\n",
       "        vertical-align: top;\n",
       "    }\n",
       "\n",
       "    .dataframe thead th {\n",
       "        text-align: right;\n",
       "    }\n",
       "</style>\n",
       "<table border=\"1\" class=\"dataframe\">\n",
       "  <thead>\n",
       "    <tr style=\"text-align: right;\">\n",
       "      <th></th>\n",
       "      <th>review</th>\n",
       "      <th>sentiment</th>\n",
       "    </tr>\n",
       "  </thead>\n",
       "  <tbody>\n",
       "    <tr>\n",
       "      <th>count</th>\n",
       "      <td>50000</td>\n",
       "      <td>50000</td>\n",
       "    </tr>\n",
       "    <tr>\n",
       "      <th>unique</th>\n",
       "      <td>49582</td>\n",
       "      <td>2</td>\n",
       "    </tr>\n",
       "    <tr>\n",
       "      <th>top</th>\n",
       "      <td>Loved today's show!!! It was a variety and not...</td>\n",
       "      <td>positive</td>\n",
       "    </tr>\n",
       "    <tr>\n",
       "      <th>freq</th>\n",
       "      <td>5</td>\n",
       "      <td>25000</td>\n",
       "    </tr>\n",
       "  </tbody>\n",
       "</table>\n",
       "</div>"
      ],
      "text/plain": [
       "                                                   review sentiment\n",
       "count                                               50000     50000\n",
       "unique                                              49582         2\n",
       "top     Loved today's show!!! It was a variety and not...  positive\n",
       "freq                                                    5     25000"
      ]
     },
     "execution_count": 5,
     "metadata": {},
     "output_type": "execute_result"
    }
   ],
   "source": [
    "df.describe()"
   ]
  },
  {
   "cell_type": "code",
   "execution_count": 6,
   "id": "3899cc60",
   "metadata": {},
   "outputs": [],
   "source": [
    "df['review']=df['review'].str.lower()"
   ]
  },
  {
   "cell_type": "code",
   "execution_count": null,
   "id": "446919f0",
   "metadata": {},
   "outputs": [],
   "source": []
  },
  {
   "cell_type": "code",
   "execution_count": 7,
   "id": "ba218090",
   "metadata": {},
   "outputs": [
    {
     "data": {
      "text/plain": [
       "0        one of the other reviewers has mentioned that ...\n",
       "1        a wonderful little production. <br /><br />the...\n",
       "2        i thought this was a wonderful way to spend ti...\n",
       "3        basically there's a family where a little boy ...\n",
       "4        petter mattei's \"love in the time of money\" is...\n",
       "                               ...                        \n",
       "49995    i thought this movie did a down right good job...\n",
       "49996    bad plot, bad dialogue, bad acting, idiotic di...\n",
       "49997    i am a catholic taught in parochial elementary...\n",
       "49998    i'm going to have to disagree with the previou...\n",
       "49999    no one expects the star trek movies to be high...\n",
       "Name: review, Length: 50000, dtype: object"
      ]
     },
     "execution_count": 7,
     "metadata": {},
     "output_type": "execute_result"
    }
   ],
   "source": [
    "df['review']"
   ]
  },
  {
   "cell_type": "code",
   "execution_count": 77,
   "id": "94057279",
   "metadata": {},
   "outputs": [],
   "source": [
    "import re\n",
    "re = '(<[a-z]*>)|(</.[a-z ]>)|<[a-z]*./>|([!$#%^&*._-])'"
   ]
  },
  {
   "cell_type": "code",
   "execution_count": 78,
   "id": "d8789435",
   "metadata": {},
   "outputs": [
    {
     "data": {
      "text/plain": [
       "'A wonderful little production. <br /><br />The filming technique is very unassuming- very old-time-BBC fashion and gives a comforting, and sometimes discomforting, sense of realism to the entire piece. <br /><br />The actors are extremely well chosen- Michael Sheen not only \"has got all the polari\" but he has all the voices down pat too! You can truly see the seamless editing guided by the references to Williams\\' diary entries, not only is it well worth the watching but it is a terrificly written and performed piece. A masterful production about one of the great master\\'s of comedy and his life. <br /><br />The realism really comes home with the little things: the fantasy of the guard which, rather than use the traditional \\'dream\\' techniques remains solid then disappears. It plays on our knowledge and our senses, particularly with the scenes concerning Orton and Halliwell and the sets (particularly of their flat with Halliwell\\'s murals decorating every surface) are terribly well done.'"
      ]
     },
     "execution_count": 78,
     "metadata": {},
     "output_type": "execute_result"
    }
   ],
   "source": [
    "df['review'][1]"
   ]
  },
  {
   "cell_type": "code",
   "execution_count": 79,
   "id": "bc231f81",
   "metadata": {},
   "outputs": [
    {
     "name": "stderr",
     "output_type": "stream",
     "text": [
      "C:\\Users\\Sparsh Mahajan\\AppData\\Local\\Temp\\ipykernel_25448\\3971979403.py:1: FutureWarning: The default value of regex will change from True to False in a future version.\n",
      "  df['review']=df['review'].str.replace(re , '')\n"
     ]
    }
   ],
   "source": [
    "df['review']=df['review'].str.replace(re , '')"
   ]
  },
  {
   "cell_type": "code",
   "execution_count": 80,
   "id": "6007f3d4",
   "metadata": {},
   "outputs": [],
   "source": [
    "df['review']=df['review'].str.replace('\\'' , '')"
   ]
  },
  {
   "cell_type": "code",
   "execution_count": 81,
   "id": "a8e7eb83",
   "metadata": {},
   "outputs": [
    {
     "name": "stderr",
     "output_type": "stream",
     "text": [
      "C:\\Users\\Sparsh Mahajan\\AppData\\Local\\Temp\\ipykernel_25448\\1290241654.py:1: FutureWarning: The default value of regex will change from True to False in a future version.\n",
      "  df['review']=df['review'].str.replace(\"'[a-z] \" , '')\n",
      "C:\\Users\\Sparsh Mahajan\\AppData\\Local\\Temp\\ipykernel_25448\\1290241654.py:2: FutureWarning: The default value of regex will change from True to False in a future version.\n",
      "  df['review']=df['review'].str.replace('[?)(\".,:;]' , '')\n"
     ]
    }
   ],
   "source": [
    "df['review']=df['review'].str.replace(\"'[a-z] \" , '')\n",
    "df['review']=df['review'].str.replace('[?)(\".,:;]' , '')"
   ]
  },
  {
   "cell_type": "code",
   "execution_count": 82,
   "id": "74cb94f3",
   "metadata": {},
   "outputs": [
    {
     "data": {
      "text/plain": [
       "'A wonderful little production The filming technique is very unassuming very oldtimeBBC fashion and gives a comforting and sometimes discomforting sense of realism to the entire piece The actors are extremely well chosen Michael Sheen not only has got all the polari but he has all the voices down pat too You can truly see the seamless editing guided by the references to Williams diary entries not only is it well worth the watching but it is a terrificly written and performed piece A masterful production about one of the great masters of comedy and his life The realism really comes home with the little things the fantasy of the guard which rather than use the traditional dream techniques remains solid then disappears It plays on our knowledge and our senses particularly with the scenes concerning Orton and Halliwell and the sets particularly of their flat with Halliwells murals decorating every surface are terribly well done'"
      ]
     },
     "execution_count": 82,
     "metadata": {},
     "output_type": "execute_result"
    }
   ],
   "source": [
    "df['review'][1]"
   ]
  },
  {
   "cell_type": "code",
   "execution_count": 83,
   "id": "32cfd380",
   "metadata": {},
   "outputs": [
    {
     "name": "stderr",
     "output_type": "stream",
     "text": [
      "C:\\Users\\Sparsh Mahajan\\AppData\\Local\\Temp\\ipykernel_25448\\705607232.py:1: FutureWarning: The default value of regex will change from True to False in a future version.\n",
      "  df['review']=df['review'].str.replace(\"(')\" , '')\n"
     ]
    }
   ],
   "source": [
    "df['review']=df['review'].str.replace(\"(')\" , '')"
   ]
  },
  {
   "cell_type": "code",
   "execution_count": 84,
   "id": "0d7c1715",
   "metadata": {},
   "outputs": [
    {
     "data": {
      "text/plain": [
       "'A wonderful little production The filming technique is very unassuming very oldtimeBBC fashion and gives a comforting and sometimes discomforting sense of realism to the entire piece The actors are extremely well chosen Michael Sheen not only has got all the polari but he has all the voices down pat too You can truly see the seamless editing guided by the references to Williams diary entries not only is it well worth the watching but it is a terrificly written and performed piece A masterful production about one of the great masters of comedy and his life The realism really comes home with the little things the fantasy of the guard which rather than use the traditional dream techniques remains solid then disappears It plays on our knowledge and our senses particularly with the scenes concerning Orton and Halliwell and the sets particularly of their flat with Halliwells murals decorating every surface are terribly well done'"
      ]
     },
     "execution_count": 84,
     "metadata": {},
     "output_type": "execute_result"
    }
   ],
   "source": [
    "df['review'][1]"
   ]
  },
  {
   "cell_type": "code",
   "execution_count": 85,
   "id": "e23e25a8",
   "metadata": {},
   "outputs": [
    {
     "data": {
      "text/plain": [
       "'One of the other reviewers has mentioned that after watching just 1 Oz episode youll be hooked They are right as this is exactly what happened with meThe first thing that struck me about Oz was its brutality and unflinching scenes of violence which set in right from the word GO Trust me this is not a show for the faint hearted or timid This show pulls no punches with regards to drugs sex or violence Its is hardcore in the classic use of the wordIt is called OZ as that is the nickname given to the Oswald Maximum Security State Penitentary It focuses mainly on Emerald City an experimental section of the prison where all the cells have glass fronts and face inwards so privacy is not high on the agenda Em City is home to manyAryans Muslims gangstas Latinos Christians Italians Irish and moreso scuffles death stares dodgy dealings and shady agreements are never far awayI would say the main appeal of the show is due to the fact that it goes where other shows wouldnt dare Forget pretty pictures painted for mainstream audiences forget charm forget romanceOZ doesnt mess around The first episode I ever saw struck me as so nasty it was surreal I couldnt say I was ready for it but as I watched more I developed a taste for Oz and got accustomed to the high levels of graphic violence Not just violence but injustice crooked guards wholl be sold out for a nickel inmates wholl kill on order and get away with it well mannered middle class inmates being turned into prison bitches due to their lack of street skills or prison experience Watching Oz you may become comfortable with what is uncomfortable viewingthats if you can get in touch with your darker side'"
      ]
     },
     "execution_count": 85,
     "metadata": {},
     "output_type": "execute_result"
    }
   ],
   "source": [
    "df['review'][0]"
   ]
  },
  {
   "cell_type": "code",
   "execution_count": 17,
   "id": "53f578e1",
   "metadata": {},
   "outputs": [],
   "source": [
    "from textblob import TextBlob"
   ]
  },
  {
   "cell_type": "code",
   "execution_count": 210,
   "id": "884fa91f",
   "metadata": {},
   "outputs": [
    {
     "name": "stdout",
     "output_type": "stream",
     "text": [
      "Requirement already satisfied: textblob in c:\\users\\sparsh mahajan\\anaconda3\\lib\\site-packages (0.17.1)\n",
      "Requirement already satisfied: nltk>=3.1 in c:\\users\\sparsh mahajan\\anaconda3\\lib\\site-packages (from textblob) (3.7)\n",
      "Requirement already satisfied: click in c:\\users\\sparsh mahajan\\anaconda3\\lib\\site-packages (from nltk>=3.1->textblob) (8.0.4)\n",
      "Requirement already satisfied: joblib in c:\\users\\sparsh mahajan\\anaconda3\\lib\\site-packages (from nltk>=3.1->textblob) (1.2.0)\n",
      "Requirement already satisfied: regex>=2021.8.3 in c:\\users\\sparsh mahajan\\anaconda3\\lib\\site-packages (from nltk>=3.1->textblob) (2022.7.9)\n",
      "Requirement already satisfied: tqdm in c:\\users\\sparsh mahajan\\anaconda3\\lib\\site-packages (from nltk>=3.1->textblob) (4.65.0)\n",
      "Requirement already satisfied: colorama in c:\\users\\sparsh mahajan\\anaconda3\\lib\\site-packages (from click->nltk>=3.1->textblob) (0.4.6)\n"
     ]
    }
   ],
   "source": [
    "!pip install textblob\n"
   ]
  },
  {
   "cell_type": "code",
   "execution_count": 211,
   "id": "4f471250",
   "metadata": {},
   "outputs": [
    {
     "ename": "KeyboardInterrupt",
     "evalue": "",
     "output_type": "error",
     "traceback": [
      "\u001b[1;31m---------------------------------------------------------------------------\u001b[0m",
      "\u001b[1;31mKeyboardInterrupt\u001b[0m                         Traceback (most recent call last)",
      "Cell \u001b[1;32mIn[211], line 3\u001b[0m\n\u001b[0;32m      1\u001b[0m \u001b[38;5;28;01mfor\u001b[39;00m data \u001b[38;5;129;01min\u001b[39;00m df[\u001b[38;5;124m'\u001b[39m\u001b[38;5;124mreview\u001b[39m\u001b[38;5;124m'\u001b[39m]:\n\u001b[1;32m----> 3\u001b[0m     df[\u001b[38;5;124m'\u001b[39m\u001b[38;5;124mreview\u001b[39m\u001b[38;5;124m'\u001b[39m]\u001b[38;5;241m.\u001b[39mapply(\u001b[38;5;28;01mlambda\u001b[39;00m x: \u001b[38;5;28mstr\u001b[39m(TextBlob(x)\u001b[38;5;241m.\u001b[39mcorrect()))\n",
      "File \u001b[1;32m~\\anaconda3\\Lib\\site-packages\\pandas\\core\\series.py:4771\u001b[0m, in \u001b[0;36mSeries.apply\u001b[1;34m(self, func, convert_dtype, args, **kwargs)\u001b[0m\n\u001b[0;32m   4661\u001b[0m \u001b[38;5;28;01mdef\u001b[39;00m \u001b[38;5;21mapply\u001b[39m(\n\u001b[0;32m   4662\u001b[0m     \u001b[38;5;28mself\u001b[39m,\n\u001b[0;32m   4663\u001b[0m     func: AggFuncType,\n\u001b[1;32m   (...)\u001b[0m\n\u001b[0;32m   4666\u001b[0m     \u001b[38;5;241m*\u001b[39m\u001b[38;5;241m*\u001b[39mkwargs,\n\u001b[0;32m   4667\u001b[0m ) \u001b[38;5;241m-\u001b[39m\u001b[38;5;241m>\u001b[39m DataFrame \u001b[38;5;241m|\u001b[39m Series:\n\u001b[0;32m   4668\u001b[0m \u001b[38;5;250m    \u001b[39m\u001b[38;5;124;03m\"\"\"\u001b[39;00m\n\u001b[0;32m   4669\u001b[0m \u001b[38;5;124;03m    Invoke function on values of Series.\u001b[39;00m\n\u001b[0;32m   4670\u001b[0m \n\u001b[1;32m   (...)\u001b[0m\n\u001b[0;32m   4769\u001b[0m \u001b[38;5;124;03m    dtype: float64\u001b[39;00m\n\u001b[0;32m   4770\u001b[0m \u001b[38;5;124;03m    \"\"\"\u001b[39;00m\n\u001b[1;32m-> 4771\u001b[0m     \u001b[38;5;28;01mreturn\u001b[39;00m SeriesApply(\u001b[38;5;28mself\u001b[39m, func, convert_dtype, args, kwargs)\u001b[38;5;241m.\u001b[39mapply()\n",
      "File \u001b[1;32m~\\anaconda3\\Lib\\site-packages\\pandas\\core\\apply.py:1123\u001b[0m, in \u001b[0;36mSeriesApply.apply\u001b[1;34m(self)\u001b[0m\n\u001b[0;32m   1120\u001b[0m     \u001b[38;5;28;01mreturn\u001b[39;00m \u001b[38;5;28mself\u001b[39m\u001b[38;5;241m.\u001b[39mapply_str()\n\u001b[0;32m   1122\u001b[0m \u001b[38;5;66;03m# self.f is Callable\u001b[39;00m\n\u001b[1;32m-> 1123\u001b[0m \u001b[38;5;28;01mreturn\u001b[39;00m \u001b[38;5;28mself\u001b[39m\u001b[38;5;241m.\u001b[39mapply_standard()\n",
      "File \u001b[1;32m~\\anaconda3\\Lib\\site-packages\\pandas\\core\\apply.py:1174\u001b[0m, in \u001b[0;36mSeriesApply.apply_standard\u001b[1;34m(self)\u001b[0m\n\u001b[0;32m   1172\u001b[0m     \u001b[38;5;28;01melse\u001b[39;00m:\n\u001b[0;32m   1173\u001b[0m         values \u001b[38;5;241m=\u001b[39m obj\u001b[38;5;241m.\u001b[39mastype(\u001b[38;5;28mobject\u001b[39m)\u001b[38;5;241m.\u001b[39m_values\n\u001b[1;32m-> 1174\u001b[0m         mapped \u001b[38;5;241m=\u001b[39m lib\u001b[38;5;241m.\u001b[39mmap_infer(\n\u001b[0;32m   1175\u001b[0m             values,\n\u001b[0;32m   1176\u001b[0m             f,\n\u001b[0;32m   1177\u001b[0m             convert\u001b[38;5;241m=\u001b[39m\u001b[38;5;28mself\u001b[39m\u001b[38;5;241m.\u001b[39mconvert_dtype,\n\u001b[0;32m   1178\u001b[0m         )\n\u001b[0;32m   1180\u001b[0m \u001b[38;5;28;01mif\u001b[39;00m \u001b[38;5;28mlen\u001b[39m(mapped) \u001b[38;5;129;01mand\u001b[39;00m \u001b[38;5;28misinstance\u001b[39m(mapped[\u001b[38;5;241m0\u001b[39m], ABCSeries):\n\u001b[0;32m   1181\u001b[0m     \u001b[38;5;66;03m# GH#43986 Need to do list(mapped) in order to get treated as nested\u001b[39;00m\n\u001b[0;32m   1182\u001b[0m     \u001b[38;5;66;03m#  See also GH#25959 regarding EA support\u001b[39;00m\n\u001b[0;32m   1183\u001b[0m     \u001b[38;5;28;01mreturn\u001b[39;00m obj\u001b[38;5;241m.\u001b[39m_constructor_expanddim(\u001b[38;5;28mlist\u001b[39m(mapped), index\u001b[38;5;241m=\u001b[39mobj\u001b[38;5;241m.\u001b[39mindex)\n",
      "File \u001b[1;32m~\\anaconda3\\Lib\\site-packages\\pandas\\_libs\\lib.pyx:2924\u001b[0m, in \u001b[0;36mpandas._libs.lib.map_infer\u001b[1;34m()\u001b[0m\n",
      "Cell \u001b[1;32mIn[211], line 3\u001b[0m, in \u001b[0;36m<lambda>\u001b[1;34m(x)\u001b[0m\n\u001b[0;32m      1\u001b[0m \u001b[38;5;28;01mfor\u001b[39;00m data \u001b[38;5;129;01min\u001b[39;00m df[\u001b[38;5;124m'\u001b[39m\u001b[38;5;124mreview\u001b[39m\u001b[38;5;124m'\u001b[39m]:\n\u001b[1;32m----> 3\u001b[0m     df[\u001b[38;5;124m'\u001b[39m\u001b[38;5;124mreview\u001b[39m\u001b[38;5;124m'\u001b[39m]\u001b[38;5;241m.\u001b[39mapply(\u001b[38;5;28;01mlambda\u001b[39;00m x: \u001b[38;5;28mstr\u001b[39m(TextBlob(x)\u001b[38;5;241m.\u001b[39mcorrect()))\n",
      "File \u001b[1;32m~\\anaconda3\\Lib\\site-packages\\textblob\\blob.py:609\u001b[0m, in \u001b[0;36mBaseBlob.correct\u001b[1;34m(self)\u001b[0m\n\u001b[0;32m    607\u001b[0m tokens \u001b[38;5;241m=\u001b[39m nltk\u001b[38;5;241m.\u001b[39mtokenize\u001b[38;5;241m.\u001b[39mregexp_tokenize(\u001b[38;5;28mself\u001b[39m\u001b[38;5;241m.\u001b[39mraw, \u001b[38;5;124mr\u001b[39m\u001b[38;5;124m\"\u001b[39m\u001b[38;5;124m\\\u001b[39m\u001b[38;5;124mw+|[^\u001b[39m\u001b[38;5;124m\\\u001b[39m\u001b[38;5;124mw\u001b[39m\u001b[38;5;124m\\\u001b[39m\u001b[38;5;124ms]|\u001b[39m\u001b[38;5;124m\\\u001b[39m\u001b[38;5;124ms\u001b[39m\u001b[38;5;124m\"\u001b[39m)\n\u001b[0;32m    608\u001b[0m corrected \u001b[38;5;241m=\u001b[39m (Word(w)\u001b[38;5;241m.\u001b[39mcorrect() \u001b[38;5;28;01mfor\u001b[39;00m w \u001b[38;5;129;01min\u001b[39;00m tokens)\n\u001b[1;32m--> 609\u001b[0m ret \u001b[38;5;241m=\u001b[39m \u001b[38;5;124m'\u001b[39m\u001b[38;5;124m'\u001b[39m\u001b[38;5;241m.\u001b[39mjoin(corrected)\n\u001b[0;32m    610\u001b[0m \u001b[38;5;28;01mreturn\u001b[39;00m \u001b[38;5;28mself\u001b[39m\u001b[38;5;241m.\u001b[39m\u001b[38;5;18m__class__\u001b[39m(ret)\n",
      "File \u001b[1;32m~\\anaconda3\\Lib\\site-packages\\textblob\\blob.py:608\u001b[0m, in \u001b[0;36m<genexpr>\u001b[1;34m(.0)\u001b[0m\n\u001b[0;32m    606\u001b[0m \u001b[38;5;66;03m# regex matches: word or punctuation or whitespace\u001b[39;00m\n\u001b[0;32m    607\u001b[0m tokens \u001b[38;5;241m=\u001b[39m nltk\u001b[38;5;241m.\u001b[39mtokenize\u001b[38;5;241m.\u001b[39mregexp_tokenize(\u001b[38;5;28mself\u001b[39m\u001b[38;5;241m.\u001b[39mraw, \u001b[38;5;124mr\u001b[39m\u001b[38;5;124m\"\u001b[39m\u001b[38;5;124m\\\u001b[39m\u001b[38;5;124mw+|[^\u001b[39m\u001b[38;5;124m\\\u001b[39m\u001b[38;5;124mw\u001b[39m\u001b[38;5;124m\\\u001b[39m\u001b[38;5;124ms]|\u001b[39m\u001b[38;5;124m\\\u001b[39m\u001b[38;5;124ms\u001b[39m\u001b[38;5;124m\"\u001b[39m)\n\u001b[1;32m--> 608\u001b[0m corrected \u001b[38;5;241m=\u001b[39m (Word(w)\u001b[38;5;241m.\u001b[39mcorrect() \u001b[38;5;28;01mfor\u001b[39;00m w \u001b[38;5;129;01min\u001b[39;00m tokens)\n\u001b[0;32m    609\u001b[0m ret \u001b[38;5;241m=\u001b[39m \u001b[38;5;124m'\u001b[39m\u001b[38;5;124m'\u001b[39m\u001b[38;5;241m.\u001b[39mjoin(corrected)\n\u001b[0;32m    610\u001b[0m \u001b[38;5;28;01mreturn\u001b[39;00m \u001b[38;5;28mself\u001b[39m\u001b[38;5;241m.\u001b[39m\u001b[38;5;18m__class__\u001b[39m(ret)\n",
      "File \u001b[1;32m~\\anaconda3\\Lib\\site-packages\\textblob\\blob.py:142\u001b[0m, in \u001b[0;36mWord.correct\u001b[1;34m(self)\u001b[0m\n\u001b[0;32m    136\u001b[0m \u001b[38;5;28;01mdef\u001b[39;00m \u001b[38;5;21mcorrect\u001b[39m(\u001b[38;5;28mself\u001b[39m):\n\u001b[0;32m    137\u001b[0m \u001b[38;5;250m    \u001b[39m\u001b[38;5;124;03m'''Correct the spelling of the word. Returns the word with the highest\u001b[39;00m\n\u001b[0;32m    138\u001b[0m \u001b[38;5;124;03m    confidence using the spelling corrector.\u001b[39;00m\n\u001b[0;32m    139\u001b[0m \n\u001b[0;32m    140\u001b[0m \u001b[38;5;124;03m    .. versionadded:: 0.6.0\u001b[39;00m\n\u001b[0;32m    141\u001b[0m \u001b[38;5;124;03m    '''\u001b[39;00m\n\u001b[1;32m--> 142\u001b[0m     \u001b[38;5;28;01mreturn\u001b[39;00m Word(\u001b[38;5;28mself\u001b[39m\u001b[38;5;241m.\u001b[39mspellcheck()[\u001b[38;5;241m0\u001b[39m][\u001b[38;5;241m0\u001b[39m])\n",
      "File \u001b[1;32m~\\anaconda3\\Lib\\site-packages\\textblob\\blob.py:134\u001b[0m, in \u001b[0;36mWord.spellcheck\u001b[1;34m(self)\u001b[0m\n\u001b[0;32m    125\u001b[0m \u001b[38;5;28;01mdef\u001b[39;00m \u001b[38;5;21mspellcheck\u001b[39m(\u001b[38;5;28mself\u001b[39m):\n\u001b[0;32m    126\u001b[0m \u001b[38;5;250m    \u001b[39m\u001b[38;5;124;03m'''Return a list of (word, confidence) tuples of spelling corrections.\u001b[39;00m\n\u001b[0;32m    127\u001b[0m \n\u001b[0;32m    128\u001b[0m \u001b[38;5;124;03m    Based on: Peter Norvig, \"How to Write a Spelling Corrector\"\u001b[39;00m\n\u001b[1;32m   (...)\u001b[0m\n\u001b[0;32m    132\u001b[0m \u001b[38;5;124;03m    .. versionadded:: 0.6.0\u001b[39;00m\n\u001b[0;32m    133\u001b[0m \u001b[38;5;124;03m    '''\u001b[39;00m\n\u001b[1;32m--> 134\u001b[0m     \u001b[38;5;28;01mreturn\u001b[39;00m suggest(\u001b[38;5;28mself\u001b[39m\u001b[38;5;241m.\u001b[39mstring)\n",
      "File \u001b[1;32m~\\anaconda3\\Lib\\site-packages\\textblob\\en\\__init__.py:123\u001b[0m, in \u001b[0;36msuggest\u001b[1;34m(w)\u001b[0m\n\u001b[0;32m    120\u001b[0m \u001b[38;5;28;01mdef\u001b[39;00m \u001b[38;5;21msuggest\u001b[39m(w):\n\u001b[0;32m    121\u001b[0m \u001b[38;5;250m    \u001b[39m\u001b[38;5;124;03m\"\"\" Returns a list of (word, confidence)-tuples of spelling corrections.\u001b[39;00m\n\u001b[0;32m    122\u001b[0m \u001b[38;5;124;03m    \"\"\"\u001b[39;00m\n\u001b[1;32m--> 123\u001b[0m     \u001b[38;5;28;01mreturn\u001b[39;00m spelling\u001b[38;5;241m.\u001b[39msuggest(w)\n",
      "File \u001b[1;32m~\\anaconda3\\Lib\\site-packages\\textblob\\_text.py:1399\u001b[0m, in \u001b[0;36mSpelling.suggest\u001b[1;34m(self, w)\u001b[0m\n\u001b[0;32m   1395\u001b[0m \u001b[38;5;28;01mif\u001b[39;00m w\u001b[38;5;241m.\u001b[39mreplace(\u001b[38;5;124m\"\u001b[39m\u001b[38;5;124m.\u001b[39m\u001b[38;5;124m\"\u001b[39m, \u001b[38;5;124m\"\u001b[39m\u001b[38;5;124m\"\u001b[39m)\u001b[38;5;241m.\u001b[39misdigit():\n\u001b[0;32m   1396\u001b[0m     \u001b[38;5;28;01mreturn\u001b[39;00m [(w, \u001b[38;5;241m1.0\u001b[39m)] \u001b[38;5;66;03m# 1.5\u001b[39;00m\n\u001b[0;32m   1397\u001b[0m candidates \u001b[38;5;241m=\u001b[39m \u001b[38;5;28mself\u001b[39m\u001b[38;5;241m.\u001b[39m_known([w]) \\\n\u001b[0;32m   1398\u001b[0m           \u001b[38;5;129;01mor\u001b[39;00m \u001b[38;5;28mself\u001b[39m\u001b[38;5;241m.\u001b[39m_known(\u001b[38;5;28mself\u001b[39m\u001b[38;5;241m.\u001b[39m_edit1(w)) \\\n\u001b[1;32m-> 1399\u001b[0m           \u001b[38;5;129;01mor\u001b[39;00m \u001b[38;5;28mself\u001b[39m\u001b[38;5;241m.\u001b[39m_known(\u001b[38;5;28mself\u001b[39m\u001b[38;5;241m.\u001b[39m_edit2(w)) \\\n\u001b[0;32m   1400\u001b[0m           \u001b[38;5;129;01mor\u001b[39;00m [w]\n\u001b[0;32m   1401\u001b[0m candidates \u001b[38;5;241m=\u001b[39m [(\u001b[38;5;28mself\u001b[39m\u001b[38;5;241m.\u001b[39mget(c, \u001b[38;5;241m0.0\u001b[39m), c) \u001b[38;5;28;01mfor\u001b[39;00m c \u001b[38;5;129;01min\u001b[39;00m candidates]\n\u001b[0;32m   1402\u001b[0m s \u001b[38;5;241m=\u001b[39m \u001b[38;5;28mfloat\u001b[39m(\u001b[38;5;28msum\u001b[39m(p \u001b[38;5;28;01mfor\u001b[39;00m p, word \u001b[38;5;129;01min\u001b[39;00m candidates) \u001b[38;5;129;01mor\u001b[39;00m \u001b[38;5;241m1\u001b[39m)\n",
      "File \u001b[1;32m~\\anaconda3\\Lib\\site-packages\\textblob\\_text.py:1376\u001b[0m, in \u001b[0;36mSpelling._edit2\u001b[1;34m(self, w)\u001b[0m\n\u001b[0;32m   1372\u001b[0m \u001b[38;5;250m\u001b[39m\u001b[38;5;124;03m\"\"\" Returns a set of words with edit distance 2 from the given word\u001b[39;00m\n\u001b[0;32m   1373\u001b[0m \u001b[38;5;124;03m\"\"\"\u001b[39;00m\n\u001b[0;32m   1374\u001b[0m \u001b[38;5;66;03m# Of all spelling errors, 99% is covered by edit distance 2.\u001b[39;00m\n\u001b[0;32m   1375\u001b[0m \u001b[38;5;66;03m# Only keep candidates that are actually known words (20% speedup).\u001b[39;00m\n\u001b[1;32m-> 1376\u001b[0m \u001b[38;5;28;01mreturn\u001b[39;00m \u001b[38;5;28mset\u001b[39m(e2 \u001b[38;5;28;01mfor\u001b[39;00m e1 \u001b[38;5;129;01min\u001b[39;00m \u001b[38;5;28mself\u001b[39m\u001b[38;5;241m.\u001b[39m_edit1(w) \u001b[38;5;28;01mfor\u001b[39;00m e2 \u001b[38;5;129;01min\u001b[39;00m \u001b[38;5;28mself\u001b[39m\u001b[38;5;241m.\u001b[39m_edit1(e1) \u001b[38;5;28;01mif\u001b[39;00m e2 \u001b[38;5;129;01min\u001b[39;00m \u001b[38;5;28mself\u001b[39m)\n",
      "File \u001b[1;32m~\\anaconda3\\Lib\\site-packages\\textblob\\_text.py:1376\u001b[0m, in \u001b[0;36m<genexpr>\u001b[1;34m(.0)\u001b[0m\n\u001b[0;32m   1372\u001b[0m \u001b[38;5;250m\u001b[39m\u001b[38;5;124;03m\"\"\" Returns a set of words with edit distance 2 from the given word\u001b[39;00m\n\u001b[0;32m   1373\u001b[0m \u001b[38;5;124;03m\"\"\"\u001b[39;00m\n\u001b[0;32m   1374\u001b[0m \u001b[38;5;66;03m# Of all spelling errors, 99% is covered by edit distance 2.\u001b[39;00m\n\u001b[0;32m   1375\u001b[0m \u001b[38;5;66;03m# Only keep candidates that are actually known words (20% speedup).\u001b[39;00m\n\u001b[1;32m-> 1376\u001b[0m \u001b[38;5;28;01mreturn\u001b[39;00m \u001b[38;5;28mset\u001b[39m(e2 \u001b[38;5;28;01mfor\u001b[39;00m e1 \u001b[38;5;129;01min\u001b[39;00m \u001b[38;5;28mself\u001b[39m\u001b[38;5;241m.\u001b[39m_edit1(w) \u001b[38;5;28;01mfor\u001b[39;00m e2 \u001b[38;5;129;01min\u001b[39;00m \u001b[38;5;28mself\u001b[39m\u001b[38;5;241m.\u001b[39m_edit1(e1) \u001b[38;5;28;01mif\u001b[39;00m e2 \u001b[38;5;129;01min\u001b[39;00m \u001b[38;5;28mself\u001b[39m)\n",
      "File \u001b[1;32m~\\anaconda3\\Lib\\site-packages\\textblob\\_text.py:96\u001b[0m, in \u001b[0;36mlazydict.__contains__\u001b[1;34m(self, *args)\u001b[0m\n\u001b[0;32m     95\u001b[0m \u001b[38;5;28;01mdef\u001b[39;00m \u001b[38;5;21m__contains__\u001b[39m(\u001b[38;5;28mself\u001b[39m, \u001b[38;5;241m*\u001b[39margs):\n\u001b[1;32m---> 96\u001b[0m     \u001b[38;5;28;01mreturn\u001b[39;00m \u001b[38;5;28mself\u001b[39m\u001b[38;5;241m.\u001b[39m_lazy(\u001b[38;5;124m\"\u001b[39m\u001b[38;5;124m__contains__\u001b[39m\u001b[38;5;124m\"\u001b[39m, \u001b[38;5;241m*\u001b[39margs)\n",
      "File \u001b[1;32m~\\anaconda3\\Lib\\site-packages\\textblob\\_text.py:84\u001b[0m, in \u001b[0;36mlazydict._lazy\u001b[1;34m(self, method, *args)\u001b[0m\n\u001b[0;32m     80\u001b[0m \u001b[38;5;28;01mdef\u001b[39;00m \u001b[38;5;21m_lazy\u001b[39m(\u001b[38;5;28mself\u001b[39m, method, \u001b[38;5;241m*\u001b[39margs):\n\u001b[0;32m     81\u001b[0m \u001b[38;5;250m    \u001b[39m\u001b[38;5;124;03m\"\"\" If the dictionary is empty, calls lazydict.load().\u001b[39;00m\n\u001b[0;32m     82\u001b[0m \u001b[38;5;124;03m        Replaces lazydict.method() with dict.method() and calls it.\u001b[39;00m\n\u001b[0;32m     83\u001b[0m \u001b[38;5;124;03m    \"\"\"\u001b[39;00m\n\u001b[1;32m---> 84\u001b[0m     \u001b[38;5;28;01mif\u001b[39;00m \u001b[38;5;28mdict\u001b[39m\u001b[38;5;241m.\u001b[39m\u001b[38;5;21m__len__\u001b[39m(\u001b[38;5;28mself\u001b[39m) \u001b[38;5;241m==\u001b[39m \u001b[38;5;241m0\u001b[39m:\n\u001b[0;32m     85\u001b[0m         \u001b[38;5;28mself\u001b[39m\u001b[38;5;241m.\u001b[39mload()\n\u001b[0;32m     86\u001b[0m         \u001b[38;5;28msetattr\u001b[39m(\u001b[38;5;28mself\u001b[39m, method, types\u001b[38;5;241m.\u001b[39mMethodType(\u001b[38;5;28mgetattr\u001b[39m(\u001b[38;5;28mdict\u001b[39m, method), \u001b[38;5;28mself\u001b[39m))\n",
      "\u001b[1;31mKeyboardInterrupt\u001b[0m: "
     ]
    }
   ],
   "source": [
    "\n",
    "for data in df['review']:\n",
    "    \n",
    "    df['review'].apply(lambda x: str(TextBlob(x).correct()))\n",
    "    "
   ]
  },
  {
   "cell_type": "code",
   "execution_count": 18,
   "id": "397f04cf",
   "metadata": {},
   "outputs": [
    {
     "data": {
      "text/html": [
       "<div>\n",
       "<style scoped>\n",
       "    .dataframe tbody tr th:only-of-type {\n",
       "        vertical-align: middle;\n",
       "    }\n",
       "\n",
       "    .dataframe tbody tr th {\n",
       "        vertical-align: top;\n",
       "    }\n",
       "\n",
       "    .dataframe thead th {\n",
       "        text-align: right;\n",
       "    }\n",
       "</style>\n",
       "<table border=\"1\" class=\"dataframe\">\n",
       "  <thead>\n",
       "    <tr style=\"text-align: right;\">\n",
       "      <th></th>\n",
       "      <th>review</th>\n",
       "      <th>sentiment</th>\n",
       "    </tr>\n",
       "  </thead>\n",
       "  <tbody>\n",
       "    <tr>\n",
       "      <th>0</th>\n",
       "      <td>one of the other reviewers has mentioned that ...</td>\n",
       "      <td>positive</td>\n",
       "    </tr>\n",
       "    <tr>\n",
       "      <th>1</th>\n",
       "      <td>a wonderful little production the filming tech...</td>\n",
       "      <td>positive</td>\n",
       "    </tr>\n",
       "    <tr>\n",
       "      <th>2</th>\n",
       "      <td>i thought this was a wonderful way to spend ti...</td>\n",
       "      <td>positive</td>\n",
       "    </tr>\n",
       "    <tr>\n",
       "      <th>3</th>\n",
       "      <td>basically theres a family where a little boy j...</td>\n",
       "      <td>negative</td>\n",
       "    </tr>\n",
       "    <tr>\n",
       "      <th>4</th>\n",
       "      <td>petter matteis love in the time of money is a ...</td>\n",
       "      <td>positive</td>\n",
       "    </tr>\n",
       "    <tr>\n",
       "      <th>...</th>\n",
       "      <td>...</td>\n",
       "      <td>...</td>\n",
       "    </tr>\n",
       "    <tr>\n",
       "      <th>49995</th>\n",
       "      <td>i thought this movie did a down right good job...</td>\n",
       "      <td>positive</td>\n",
       "    </tr>\n",
       "    <tr>\n",
       "      <th>49996</th>\n",
       "      <td>bad plot bad dialogue bad acting idiotic direc...</td>\n",
       "      <td>negative</td>\n",
       "    </tr>\n",
       "    <tr>\n",
       "      <th>49997</th>\n",
       "      <td>i am a catholic taught in parochial elementary...</td>\n",
       "      <td>negative</td>\n",
       "    </tr>\n",
       "    <tr>\n",
       "      <th>49998</th>\n",
       "      <td>im going to have to disagree with the previous...</td>\n",
       "      <td>negative</td>\n",
       "    </tr>\n",
       "    <tr>\n",
       "      <th>49999</th>\n",
       "      <td>no one expects the star trek movies to be high...</td>\n",
       "      <td>negative</td>\n",
       "    </tr>\n",
       "  </tbody>\n",
       "</table>\n",
       "<p>50000 rows × 2 columns</p>\n",
       "</div>"
      ],
      "text/plain": [
       "                                                  review sentiment\n",
       "0      one of the other reviewers has mentioned that ...  positive\n",
       "1      a wonderful little production the filming tech...  positive\n",
       "2      i thought this was a wonderful way to spend ti...  positive\n",
       "3      basically theres a family where a little boy j...  negative\n",
       "4      petter matteis love in the time of money is a ...  positive\n",
       "...                                                  ...       ...\n",
       "49995  i thought this movie did a down right good job...  positive\n",
       "49996  bad plot bad dialogue bad acting idiotic direc...  negative\n",
       "49997  i am a catholic taught in parochial elementary...  negative\n",
       "49998  im going to have to disagree with the previous...  negative\n",
       "49999  no one expects the star trek movies to be high...  negative\n",
       "\n",
       "[50000 rows x 2 columns]"
      ]
     },
     "execution_count": 18,
     "metadata": {},
     "output_type": "execute_result"
    }
   ],
   "source": [
    "df"
   ]
  },
  {
   "cell_type": "code",
   "execution_count": 86,
   "id": "b80dbc25",
   "metadata": {},
   "outputs": [
    {
     "data": {
      "text/plain": [
       "0        One of the other reviewers has mentioned that ...\n",
       "1        A wonderful little production The filming tech...\n",
       "2        I thought this was a wonderful way to spend ti...\n",
       "3        Basically theres a family where a little boy J...\n",
       "4        Petter Matteis Love in the Time of Money is a ...\n",
       "                               ...                        \n",
       "49995    I thought this movie did a down right good job...\n",
       "49996    Bad plot bad dialogue bad acting idiotic direc...\n",
       "49997    I am a Catholic taught in parochial elementary...\n",
       "49998    Im going to have to disagree with the previous...\n",
       "49999    No one expects the Star Trek movies to be high...\n",
       "Name: review, Length: 50000, dtype: object"
      ]
     },
     "execution_count": 86,
     "metadata": {},
     "output_type": "execute_result"
    }
   ],
   "source": [
    "df['review']"
   ]
  },
  {
   "cell_type": "code",
   "execution_count": 214,
   "id": "9c22c489",
   "metadata": {},
   "outputs": [
    {
     "data": {
      "text/html": [
       "<div>\n",
       "<style scoped>\n",
       "    .dataframe tbody tr th:only-of-type {\n",
       "        vertical-align: middle;\n",
       "    }\n",
       "\n",
       "    .dataframe tbody tr th {\n",
       "        vertical-align: top;\n",
       "    }\n",
       "\n",
       "    .dataframe thead th {\n",
       "        text-align: right;\n",
       "    }\n",
       "</style>\n",
       "<table border=\"1\" class=\"dataframe\">\n",
       "  <thead>\n",
       "    <tr style=\"text-align: right;\">\n",
       "      <th></th>\n",
       "      <th>review</th>\n",
       "      <th>sentiment</th>\n",
       "    </tr>\n",
       "  </thead>\n",
       "  <tbody>\n",
       "    <tr>\n",
       "      <th>0</th>\n",
       "      <td>one of the other reviewers has mentioned that ...</td>\n",
       "      <td>positive</td>\n",
       "    </tr>\n",
       "    <tr>\n",
       "      <th>1</th>\n",
       "      <td>a wonderful little production the filming tech...</td>\n",
       "      <td>positive</td>\n",
       "    </tr>\n",
       "    <tr>\n",
       "      <th>2</th>\n",
       "      <td>i thought this was a wonderful way to spend ti...</td>\n",
       "      <td>positive</td>\n",
       "    </tr>\n",
       "    <tr>\n",
       "      <th>3</th>\n",
       "      <td>basically theres a family where a little boy j...</td>\n",
       "      <td>negative</td>\n",
       "    </tr>\n",
       "    <tr>\n",
       "      <th>4</th>\n",
       "      <td>petter matteis love in the time of money is a ...</td>\n",
       "      <td>positive</td>\n",
       "    </tr>\n",
       "  </tbody>\n",
       "</table>\n",
       "</div>"
      ],
      "text/plain": [
       "                                              review sentiment\n",
       "0  one of the other reviewers has mentioned that ...  positive\n",
       "1  a wonderful little production the filming tech...  positive\n",
       "2  i thought this was a wonderful way to spend ti...  positive\n",
       "3  basically theres a family where a little boy j...  negative\n",
       "4  petter matteis love in the time of money is a ...  positive"
      ]
     },
     "execution_count": 214,
     "metadata": {},
     "output_type": "execute_result"
    }
   ],
   "source": [
    "df.head()"
   ]
  },
  {
   "cell_type": "code",
   "execution_count": 20,
   "id": "55927e6b",
   "metadata": {},
   "outputs": [
    {
     "ename": "TypeError",
     "evalue": "The `text` argument passed to `__init__(text)` must be a string, not <class 'pandas.core.series.Series'>",
     "output_type": "error",
     "traceback": [
      "\u001b[1;31m---------------------------------------------------------------------------\u001b[0m",
      "\u001b[1;31mTypeError\u001b[0m                                 Traceback (most recent call last)",
      "Cell \u001b[1;32mIn[20], line 1\u001b[0m\n\u001b[1;32m----> 1\u001b[0m TextBlob(df[\u001b[38;5;124m'\u001b[39m\u001b[38;5;124mreview\u001b[39m\u001b[38;5;124m'\u001b[39m])\u001b[38;5;241m.\u001b[39mcorrect\n",
      "File \u001b[1;32m~\\anaconda3\\Lib\\site-packages\\textblob\\blob.py:384\u001b[0m, in \u001b[0;36mBaseBlob.__init__\u001b[1;34m(self, text, tokenizer, pos_tagger, np_extractor, analyzer, parser, classifier, clean_html)\u001b[0m\n\u001b[0;32m    380\u001b[0m \u001b[38;5;28;01mdef\u001b[39;00m \u001b[38;5;21m__init__\u001b[39m(\u001b[38;5;28mself\u001b[39m, text, tokenizer\u001b[38;5;241m=\u001b[39m\u001b[38;5;28;01mNone\u001b[39;00m,\n\u001b[0;32m    381\u001b[0m             pos_tagger\u001b[38;5;241m=\u001b[39m\u001b[38;5;28;01mNone\u001b[39;00m, np_extractor\u001b[38;5;241m=\u001b[39m\u001b[38;5;28;01mNone\u001b[39;00m, analyzer\u001b[38;5;241m=\u001b[39m\u001b[38;5;28;01mNone\u001b[39;00m,\n\u001b[0;32m    382\u001b[0m             parser\u001b[38;5;241m=\u001b[39m\u001b[38;5;28;01mNone\u001b[39;00m, classifier\u001b[38;5;241m=\u001b[39m\u001b[38;5;28;01mNone\u001b[39;00m, clean_html\u001b[38;5;241m=\u001b[39m\u001b[38;5;28;01mFalse\u001b[39;00m):\n\u001b[0;32m    383\u001b[0m     \u001b[38;5;28;01mif\u001b[39;00m \u001b[38;5;129;01mnot\u001b[39;00m \u001b[38;5;28misinstance\u001b[39m(text, basestring):\n\u001b[1;32m--> 384\u001b[0m         \u001b[38;5;28;01mraise\u001b[39;00m \u001b[38;5;167;01mTypeError\u001b[39;00m(\u001b[38;5;124m'\u001b[39m\u001b[38;5;124mThe `text` argument passed to `__init__(text)` \u001b[39m\u001b[38;5;124m'\u001b[39m\n\u001b[0;32m    385\u001b[0m                         \u001b[38;5;124m'\u001b[39m\u001b[38;5;124mmust be a string, not \u001b[39m\u001b[38;5;132;01m{0}\u001b[39;00m\u001b[38;5;124m'\u001b[39m\u001b[38;5;241m.\u001b[39mformat(\u001b[38;5;28mtype\u001b[39m(text)))\n\u001b[0;32m    386\u001b[0m     \u001b[38;5;28;01mif\u001b[39;00m clean_html:\n\u001b[0;32m    387\u001b[0m         \u001b[38;5;28;01mraise\u001b[39;00m \u001b[38;5;167;01mNotImplementedError\u001b[39;00m(\u001b[38;5;124m\"\u001b[39m\u001b[38;5;124mclean_html has been deprecated. \u001b[39m\u001b[38;5;124m\"\u001b[39m\n\u001b[0;32m    388\u001b[0m                                 \u001b[38;5;124m\"\u001b[39m\u001b[38;5;124mTo remove HTML markup, use BeautifulSoup\u001b[39m\u001b[38;5;124m'\u001b[39m\u001b[38;5;124ms \u001b[39m\u001b[38;5;124m\"\u001b[39m\n\u001b[0;32m    389\u001b[0m                                 \u001b[38;5;124m\"\u001b[39m\u001b[38;5;124mget_text() function\u001b[39m\u001b[38;5;124m\"\u001b[39m)\n",
      "\u001b[1;31mTypeError\u001b[0m: The `text` argument passed to `__init__(text)` must be a string, not <class 'pandas.core.series.Series'>"
     ]
    }
   ],
   "source": [
    "TextBlob(df['review']).correct"
   ]
  },
  {
   "cell_type": "code",
   "execution_count": 19,
   "id": "3378fb07",
   "metadata": {},
   "outputs": [
    {
     "name": "stderr",
     "output_type": "stream",
     "text": [
      "[nltk_data] Error loading wordnet: <urlopen error [Errno 11001]\n",
      "[nltk_data]     getaddrinfo failed>\n"
     ]
    }
   ],
   "source": [
    "import nltk\n",
    "nltk.download('wordnet')\n",
    "from nltk.stem import WordNetLemmatizer"
   ]
  },
  {
   "cell_type": "code",
   "execution_count": 21,
   "id": "8044ae86",
   "metadata": {},
   "outputs": [],
   "source": [
    "lemmatizer = WordNetLemmatizer()"
   ]
  },
  {
   "cell_type": "code",
   "execution_count": 87,
   "id": "aec651f9",
   "metadata": {},
   "outputs": [],
   "source": [
    "df['review'] = df['review'].apply(lambda x : lemmatizer.lemmatize(x))"
   ]
  },
  {
   "cell_type": "code",
   "execution_count": 23,
   "id": "ef2ec5df",
   "metadata": {},
   "outputs": [
    {
     "name": "stderr",
     "output_type": "stream",
     "text": [
      "[nltk_data] Error loading omw-1.4: <urlopen error [Errno 11001]\n",
      "[nltk_data]     getaddrinfo failed>\n"
     ]
    },
    {
     "data": {
      "text/plain": [
       "False"
      ]
     },
     "execution_count": 23,
     "metadata": {},
     "output_type": "execute_result"
    }
   ],
   "source": [
    "import nltk\n",
    "nltk.download('omw-1.4')"
   ]
  },
  {
   "cell_type": "code",
   "execution_count": 88,
   "id": "af547fd9",
   "metadata": {},
   "outputs": [
    {
     "data": {
      "text/plain": [
       "0        One of the other reviewers has mentioned that ...\n",
       "1        A wonderful little production The filming tech...\n",
       "2        I thought this was a wonderful way to spend ti...\n",
       "3        Basically theres a family where a little boy J...\n",
       "4        Petter Matteis Love in the Time of Money is a ...\n",
       "                               ...                        \n",
       "49995    I thought this movie did a down right good job...\n",
       "49996    Bad plot bad dialogue bad acting idiotic direc...\n",
       "49997    I am a Catholic taught in parochial elementary...\n",
       "49998    Im going to have to disagree with the previous...\n",
       "49999    No one expects the Star Trek movies to be high...\n",
       "Name: review, Length: 50000, dtype: object"
      ]
     },
     "execution_count": 88,
     "metadata": {},
     "output_type": "execute_result"
    }
   ],
   "source": [
    "df['review']"
   ]
  },
  {
   "cell_type": "code",
   "execution_count": 25,
   "id": "5eff2e92",
   "metadata": {},
   "outputs": [
    {
     "name": "stderr",
     "output_type": "stream",
     "text": [
      "[nltk_data] Error loading punkt: <urlopen error [Errno 11001]\n",
      "[nltk_data]     getaddrinfo failed>\n"
     ]
    },
    {
     "data": {
      "text/plain": [
       "False"
      ]
     },
     "execution_count": 25,
     "metadata": {},
     "output_type": "execute_result"
    }
   ],
   "source": [
    "from nltk.tokenize import word_tokenize \n",
    "import nltk\n",
    "nltk.download('punkt')\n",
    "              "
   ]
  },
  {
   "cell_type": "code",
   "execution_count": 26,
   "id": "81abed9f",
   "metadata": {},
   "outputs": [],
   "source": [
    "df['review']=df['review'].apply(lambda row: nltk.word_tokenize(row))"
   ]
  },
  {
   "cell_type": "code",
   "execution_count": 27,
   "id": "ab331acc",
   "metadata": {},
   "outputs": [
    {
     "data": {
      "text/plain": [
       "0        [one, of, the, other, reviewers, has, mentione...\n",
       "1        [a, wonderful, little, production, the, filmin...\n",
       "2        [i, thought, this, was, a, wonderful, way, to,...\n",
       "3        [basically, theres, a, family, where, a, littl...\n",
       "4        [petter, matteis, love, in, the, time, of, mon...\n",
       "                               ...                        \n",
       "49995    [i, thought, this, movie, did, a, down, right,...\n",
       "49996    [bad, plot, bad, dialogue, bad, acting, idioti...\n",
       "49997    [i, am, a, catholic, taught, in, parochial, el...\n",
       "49998    [im, going, to, have, to, disagree, with, the,...\n",
       "49999    [no, one, expects, the, star, trek, movies, to...\n",
       "Name: review, Length: 50000, dtype: object"
      ]
     },
     "execution_count": 27,
     "metadata": {},
     "output_type": "execute_result"
    }
   ],
   "source": [
    "df['review']"
   ]
  },
  {
   "cell_type": "code",
   "execution_count": 28,
   "id": "fa2606b1",
   "metadata": {},
   "outputs": [
    {
     "name": "stderr",
     "output_type": "stream",
     "text": [
      "[nltk_data] Error loading stopwords: <urlopen error [Errno 11001]\n",
      "[nltk_data]     getaddrinfo failed>\n"
     ]
    },
    {
     "data": {
      "text/plain": [
       "False"
      ]
     },
     "execution_count": 28,
     "metadata": {},
     "output_type": "execute_result"
    }
   ],
   "source": [
    "import nltk\n",
    "from nltk.corpus import stopwords\n",
    " \n",
    "nltk.download('stopwords')"
   ]
  },
  {
   "cell_type": "code",
   "execution_count": 29,
   "id": "2159e597",
   "metadata": {},
   "outputs": [],
   "source": [
    "from nltk.corpus import stopwords\n",
    "from nltk.tokenize import word_tokenize"
   ]
  },
  {
   "cell_type": "code",
   "execution_count": 30,
   "id": "422e8d77",
   "metadata": {},
   "outputs": [],
   "source": [
    "stop_words = set(stopwords.words('english'))\n"
   ]
  },
  {
   "cell_type": "code",
   "execution_count": 111,
   "id": "d150f53c",
   "metadata": {},
   "outputs": [],
   "source": [
    "for data in df['review']:\n",
    "     filtered_sentence = [w for w in data  if not w.lower() in stop_words]"
   ]
  },
  {
   "cell_type": "code",
   "execution_count": 32,
   "id": "fcac118a",
   "metadata": {},
   "outputs": [
    {
     "data": {
      "text/plain": [
       "['one',\n",
       " 'expects',\n",
       " 'star',\n",
       " 'trek',\n",
       " 'movies',\n",
       " 'high',\n",
       " 'art',\n",
       " 'fans',\n",
       " 'expect',\n",
       " 'movie',\n",
       " 'good',\n",
       " 'best',\n",
       " 'episodes',\n",
       " 'unfortunately',\n",
       " 'movie',\n",
       " 'muddled',\n",
       " 'implausible',\n",
       " 'plot',\n",
       " 'left',\n",
       " 'cringing',\n",
       " 'far',\n",
       " 'worst',\n",
       " 'nine',\n",
       " 'far',\n",
       " 'movies',\n",
       " 'even',\n",
       " 'chance',\n",
       " 'watch',\n",
       " 'well',\n",
       " 'known',\n",
       " 'characters',\n",
       " 'interact',\n",
       " 'another',\n",
       " 'movie',\n",
       " 'cant',\n",
       " 'save',\n",
       " 'movie',\n",
       " 'including',\n",
       " 'goofy',\n",
       " 'scenes',\n",
       " 'kirk',\n",
       " 'spock',\n",
       " 'mccoy',\n",
       " 'yosemitei',\n",
       " 'would',\n",
       " 'say',\n",
       " 'movie',\n",
       " 'worth',\n",
       " 'rental',\n",
       " 'hardly',\n",
       " 'worth',\n",
       " 'watching',\n",
       " 'however',\n",
       " 'true',\n",
       " 'fan',\n",
       " 'needs',\n",
       " 'see',\n",
       " 'movies',\n",
       " 'renting',\n",
       " 'movie',\n",
       " 'way',\n",
       " 'youll',\n",
       " 'see',\n",
       " 'even',\n",
       " 'cable',\n",
       " 'channels',\n",
       " 'avoid',\n",
       " 'movie']"
      ]
     },
     "execution_count": 32,
     "metadata": {},
     "output_type": "execute_result"
    }
   ],
   "source": [
    "filtered_sentence"
   ]
  },
  {
   "cell_type": "code",
   "execution_count": 112,
   "id": "508dd3c5",
   "metadata": {},
   "outputs": [
    {
     "data": {
      "text/plain": [
       "0        One of the other reviewers has mentioned that ...\n",
       "1        A wonderful little production The filming tech...\n",
       "2        I thought this was a wonderful way to spend ti...\n",
       "3        Basically theres a family where a little boy J...\n",
       "4        Petter Matteis Love in the Time of Money is a ...\n",
       "                               ...                        \n",
       "49995    I thought this movie did a down right good job...\n",
       "49996    Bad plot bad dialogue bad acting idiotic direc...\n",
       "49997    I am a Catholic taught in parochial elementary...\n",
       "49998    Im going to have to disagree with the previous...\n",
       "49999    No one expects the Star Trek movies to be high...\n",
       "Name: review, Length: 50000, dtype: object"
      ]
     },
     "execution_count": 112,
     "metadata": {},
     "output_type": "execute_result"
    }
   ],
   "source": [
    "df['review']\n",
    "\n"
   ]
  },
  {
   "cell_type": "code",
   "execution_count": 55,
   "id": "f6751240",
   "metadata": {},
   "outputs": [],
   "source": [
    "from sklearn.model_selection import train_test_split"
   ]
  },
  {
   "cell_type": "code",
   "execution_count": 54,
   "id": "d8b8c9f9",
   "metadata": {},
   "outputs": [],
   "source": [
    "df['sentiment']=df['sentiment'].map({'negative':0 , 'positive':1})"
   ]
  },
  {
   "cell_type": "code",
   "execution_count": null,
   "id": "cc1b8896",
   "metadata": {},
   "outputs": [],
   "source": [
    "df['re']"
   ]
  },
  {
   "cell_type": "code",
   "execution_count": 90,
   "id": "97855221",
   "metadata": {},
   "outputs": [],
   "source": [
    "df['abc']=df[\"review\"].apply(lambda words : \" \".join([ words for w in filtered_sentence if not w.lower() in stop_words]))#wrong one"
   ]
  },
  {
   "cell_type": "raw",
   "id": "0729dcb1",
   "metadata": {},
   "source": []
  },
  {
   "cell_type": "code",
   "execution_count": 91,
   "id": "2b4a04e3",
   "metadata": {},
   "outputs": [
    {
     "data": {
      "text/plain": [
       "0        One of the other reviewers has mentioned that ...\n",
       "1        A wonderful little production The filming tech...\n",
       "2        I thought this was a wonderful way to spend ti...\n",
       "3        Basically theres a family where a little boy J...\n",
       "4        Petter Matteis Love in the Time of Money is a ...\n",
       "                               ...                        \n",
       "49995    I thought this movie did a down right good job...\n",
       "49996    Bad plot bad dialogue bad acting idiotic direc...\n",
       "49997    I am a Catholic taught in parochial elementary...\n",
       "49998    Im going to have to disagree with the previous...\n",
       "49999    No one expects the Star Trek movies to be high...\n",
       "Name: abc, Length: 50000, dtype: object"
      ]
     },
     "execution_count": 91,
     "metadata": {},
     "output_type": "execute_result"
    }
   ],
   "source": [
    "df['abc']\n"
   ]
  },
  {
   "cell_type": "code",
   "execution_count": 97,
   "id": "2df630e5",
   "metadata": {},
   "outputs": [],
   "source": [
    "from sklearn.feature_extraction.text import CountVectorizer\n",
    "vectorizer = CountVectorizer()"
   ]
  },
  {
   "cell_type": "code",
   "execution_count": 113,
   "id": "3079967e",
   "metadata": {},
   "outputs": [
    {
     "data": {
      "text/html": [
       "<style>#sk-container-id-1 {color: black;background-color: white;}#sk-container-id-1 pre{padding: 0;}#sk-container-id-1 div.sk-toggleable {background-color: white;}#sk-container-id-1 label.sk-toggleable__label {cursor: pointer;display: block;width: 100%;margin-bottom: 0;padding: 0.3em;box-sizing: border-box;text-align: center;}#sk-container-id-1 label.sk-toggleable__label-arrow:before {content: \"▸\";float: left;margin-right: 0.25em;color: #696969;}#sk-container-id-1 label.sk-toggleable__label-arrow:hover:before {color: black;}#sk-container-id-1 div.sk-estimator:hover label.sk-toggleable__label-arrow:before {color: black;}#sk-container-id-1 div.sk-toggleable__content {max-height: 0;max-width: 0;overflow: hidden;text-align: left;background-color: #f0f8ff;}#sk-container-id-1 div.sk-toggleable__content pre {margin: 0.2em;color: black;border-radius: 0.25em;background-color: #f0f8ff;}#sk-container-id-1 input.sk-toggleable__control:checked~div.sk-toggleable__content {max-height: 200px;max-width: 100%;overflow: auto;}#sk-container-id-1 input.sk-toggleable__control:checked~label.sk-toggleable__label-arrow:before {content: \"▾\";}#sk-container-id-1 div.sk-estimator input.sk-toggleable__control:checked~label.sk-toggleable__label {background-color: #d4ebff;}#sk-container-id-1 div.sk-label input.sk-toggleable__control:checked~label.sk-toggleable__label {background-color: #d4ebff;}#sk-container-id-1 input.sk-hidden--visually {border: 0;clip: rect(1px 1px 1px 1px);clip: rect(1px, 1px, 1px, 1px);height: 1px;margin: -1px;overflow: hidden;padding: 0;position: absolute;width: 1px;}#sk-container-id-1 div.sk-estimator {font-family: monospace;background-color: #f0f8ff;border: 1px dotted black;border-radius: 0.25em;box-sizing: border-box;margin-bottom: 0.5em;}#sk-container-id-1 div.sk-estimator:hover {background-color: #d4ebff;}#sk-container-id-1 div.sk-parallel-item::after {content: \"\";width: 100%;border-bottom: 1px solid gray;flex-grow: 1;}#sk-container-id-1 div.sk-label:hover label.sk-toggleable__label {background-color: #d4ebff;}#sk-container-id-1 div.sk-serial::before {content: \"\";position: absolute;border-left: 1px solid gray;box-sizing: border-box;top: 0;bottom: 0;left: 50%;z-index: 0;}#sk-container-id-1 div.sk-serial {display: flex;flex-direction: column;align-items: center;background-color: white;padding-right: 0.2em;padding-left: 0.2em;position: relative;}#sk-container-id-1 div.sk-item {position: relative;z-index: 1;}#sk-container-id-1 div.sk-parallel {display: flex;align-items: stretch;justify-content: center;background-color: white;position: relative;}#sk-container-id-1 div.sk-item::before, #sk-container-id-1 div.sk-parallel-item::before {content: \"\";position: absolute;border-left: 1px solid gray;box-sizing: border-box;top: 0;bottom: 0;left: 50%;z-index: -1;}#sk-container-id-1 div.sk-parallel-item {display: flex;flex-direction: column;z-index: 1;position: relative;background-color: white;}#sk-container-id-1 div.sk-parallel-item:first-child::after {align-self: flex-end;width: 50%;}#sk-container-id-1 div.sk-parallel-item:last-child::after {align-self: flex-start;width: 50%;}#sk-container-id-1 div.sk-parallel-item:only-child::after {width: 0;}#sk-container-id-1 div.sk-dashed-wrapped {border: 1px dashed gray;margin: 0 0.4em 0.5em 0.4em;box-sizing: border-box;padding-bottom: 0.4em;background-color: white;}#sk-container-id-1 div.sk-label label {font-family: monospace;font-weight: bold;display: inline-block;line-height: 1.2em;}#sk-container-id-1 div.sk-label-container {text-align: center;}#sk-container-id-1 div.sk-container {/* jupyter's `normalize.less` sets `[hidden] { display: none; }` but bootstrap.min.css set `[hidden] { display: none !important; }` so we also need the `!important` here to be able to override the default hidden behavior on the sphinx rendered scikit-learn.org. See: https://github.com/scikit-learn/scikit-learn/issues/21755 */display: inline-block !important;position: relative;}#sk-container-id-1 div.sk-text-repr-fallback {display: none;}</style><div id=\"sk-container-id-1\" class=\"sk-top-container\"><div class=\"sk-text-repr-fallback\"><pre>CountVectorizer()</pre><b>In a Jupyter environment, please rerun this cell to show the HTML representation or trust the notebook. <br />On GitHub, the HTML representation is unable to render, please try loading this page with nbviewer.org.</b></div><div class=\"sk-container\" hidden><div class=\"sk-item\"><div class=\"sk-estimator sk-toggleable\"><input class=\"sk-toggleable__control sk-hidden--visually\" id=\"sk-estimator-id-1\" type=\"checkbox\" checked><label for=\"sk-estimator-id-1\" class=\"sk-toggleable__label sk-toggleable__label-arrow\">CountVectorizer</label><div class=\"sk-toggleable__content\"><pre>CountVectorizer()</pre></div></div></div></div></div>"
      ],
      "text/plain": [
       "CountVectorizer()"
      ]
     },
     "execution_count": 113,
     "metadata": {},
     "output_type": "execute_result"
    }
   ],
   "source": [
    "vectorizer.fit(df['review'])"
   ]
  },
  {
   "cell_type": "code",
   "execution_count": 114,
   "id": "f571ea3e",
   "metadata": {},
   "outputs": [
    {
     "data": {
      "text/plain": [
       "{'one': 136355,\n",
       " 'of': 135031,\n",
       " 'the': 190250,\n",
       " 'other': 138229,\n",
       " 'reviewers': 159705,\n",
       " 'has': 86454,\n",
       " 'mentioned': 120639,\n",
       " 'that': 189996,\n",
       " 'after': 7119,\n",
       " 'watching': 207700,\n",
       " 'just': 103139,\n",
       " 'oz': 140068,\n",
       " 'episode': 62896,\n",
       " 'youll': 215519,\n",
       " 'be': 19640,\n",
       " 'hooked': 91463,\n",
       " 'they': 191315,\n",
       " 'are': 13590,\n",
       " 'right': 160467,\n",
       " 'as': 14547,\n",
       " 'this': 191838,\n",
       " 'is': 99157,\n",
       " 'exactly': 64835,\n",
       " 'what': 209814,\n",
       " 'happened': 85720,\n",
       " 'with': 211778,\n",
       " 'methe': 121233,\n",
       " 'first': 71769,\n",
       " 'thing': 191432,\n",
       " 'struck': 183110,\n",
       " 'me': 119381,\n",
       " 'about': 4450,\n",
       " 'was': 207299,\n",
       " 'its': 100217,\n",
       " 'brutality': 28157,\n",
       " 'and': 10809,\n",
       " 'unflinching': 200969,\n",
       " 'scenes': 165817,\n",
       " 'violence': 205435,\n",
       " 'which': 210123,\n",
       " 'set': 170053,\n",
       " 'in': 95509,\n",
       " 'from': 75739,\n",
       " 'word': 212666,\n",
       " 'go': 80281,\n",
       " 'trust': 197887,\n",
       " 'not': 133021,\n",
       " 'show': 172359,\n",
       " 'for': 73631,\n",
       " 'faint': 67340,\n",
       " 'hearted': 87324,\n",
       " 'or': 137547,\n",
       " 'timid': 193861,\n",
       " 'pulls': 152525,\n",
       " 'no': 131675,\n",
       " 'punches': 152606,\n",
       " 'regards': 157140,\n",
       " 'to': 194240,\n",
       " 'drugs': 57215,\n",
       " 'sex': 170310,\n",
       " 'hardcore': 86014,\n",
       " 'classic': 37327,\n",
       " 'use': 202953,\n",
       " 'wordit': 212685,\n",
       " 'called': 30314,\n",
       " 'nickname': 131115,\n",
       " 'given': 79828,\n",
       " 'oswald': 138204,\n",
       " 'maximum': 118688,\n",
       " 'security': 167952,\n",
       " 'state': 180737,\n",
       " 'penitentary': 142921,\n",
       " 'it': 99654,\n",
       " 'focuses': 73151,\n",
       " 'mainly': 115705,\n",
       " 'on': 136199,\n",
       " 'emerald': 60802,\n",
       " 'city': 37027,\n",
       " 'an': 10656,\n",
       " 'experimental': 65937,\n",
       " 'section': 167916,\n",
       " 'prison': 150465,\n",
       " 'where': 210078,\n",
       " 'all': 8851,\n",
       " 'cells': 33284,\n",
       " 'have': 86748,\n",
       " 'glass': 79951,\n",
       " 'fronts': 75820,\n",
       " 'face': 66932,\n",
       " 'inwards': 98835,\n",
       " 'so': 176280,\n",
       " 'privacy': 150518,\n",
       " 'high': 89188,\n",
       " 'agenda': 7523,\n",
       " 'em': 60642,\n",
       " 'home': 91048,\n",
       " 'manyaryans': 116952,\n",
       " 'muslims': 128357,\n",
       " 'gangstas': 77445,\n",
       " 'latinos': 108317,\n",
       " 'christians': 36247,\n",
       " 'italians': 99711,\n",
       " 'irish': 98957,\n",
       " 'moreso': 125268,\n",
       " 'scuffles': 167362,\n",
       " 'death': 48404,\n",
       " 'stares': 180438,\n",
       " 'dodgy': 54759,\n",
       " 'dealings': 48336,\n",
       " 'shady': 170647,\n",
       " 'agreements': 7791,\n",
       " 'never': 130632,\n",
       " 'far': 68122,\n",
       " 'awayi': 16648,\n",
       " 'would': 213465,\n",
       " 'say': 165180,\n",
       " 'main': 115684,\n",
       " 'appeal': 12981,\n",
       " 'due': 57547,\n",
       " 'fact': 67084,\n",
       " 'goes': 80555,\n",
       " 'shows': 172541,\n",
       " 'wouldnt': 213484,\n",
       " 'dare': 47399,\n",
       " 'forget': 73944,\n",
       " 'pretty': 150128,\n",
       " 'pictures': 145010,\n",
       " 'painted': 140458,\n",
       " 'mainstream': 115718,\n",
       " 'audiences': 15881,\n",
       " 'charm': 34668,\n",
       " 'romanceoz': 161878,\n",
       " 'doesnt': 54818,\n",
       " 'mess': 120983,\n",
       " 'around': 14082,\n",
       " 'ever': 64266,\n",
       " 'saw': 165115,\n",
       " 'nasty': 129391,\n",
       " 'surreal': 185807,\n",
       " 'couldnt': 43447,\n",
       " 'ready': 155537,\n",
       " 'but': 29456,\n",
       " 'watched': 207654,\n",
       " 'more': 125131,\n",
       " 'developed': 51205,\n",
       " 'taste': 188110,\n",
       " 'got': 81617,\n",
       " 'accustomed': 5150,\n",
       " 'levels': 110191,\n",
       " 'graphic': 82160,\n",
       " 'injustice': 96983,\n",
       " 'crooked': 45399,\n",
       " 'guards': 83420,\n",
       " 'wholl': 210552,\n",
       " 'sold': 176755,\n",
       " 'out': 138540,\n",
       " 'nickel': 131088,\n",
       " 'inmates': 97025,\n",
       " 'kill': 104956,\n",
       " 'order': 137647,\n",
       " 'get': 78927,\n",
       " 'away': 16611,\n",
       " 'well': 208883,\n",
       " 'mannered': 116713,\n",
       " 'middle': 121662,\n",
       " 'class': 37309,\n",
       " 'being': 20795,\n",
       " 'turned': 198428,\n",
       " 'into': 98427,\n",
       " 'bitches': 23131,\n",
       " 'their': 190414,\n",
       " 'lack': 107088,\n",
       " 'street': 182743,\n",
       " 'skills': 174534,\n",
       " 'experience': 65852,\n",
       " 'you': 215418,\n",
       " 'may': 118709,\n",
       " 'become': 20134,\n",
       " 'comfortable': 39741,\n",
       " 'uncomfortable': 200156,\n",
       " 'viewingthats': 205111,\n",
       " 'if': 94290,\n",
       " 'can': 30749,\n",
       " 'touch': 195658,\n",
       " 'your': 215611,\n",
       " 'darker': 47454,\n",
       " 'side': 173019,\n",
       " 'wonderful': 212353,\n",
       " 'little': 111919,\n",
       " 'production': 150887,\n",
       " 'filming': 70631,\n",
       " 'technique': 188596,\n",
       " 'very': 204481,\n",
       " 'unassuming': 199914,\n",
       " 'oldtimebbc': 136036,\n",
       " 'fashion': 68435,\n",
       " 'gives': 79849,\n",
       " 'comforting': 39749,\n",
       " 'sometimes': 177137,\n",
       " 'discomforting': 53398,\n",
       " 'sense': 169255,\n",
       " 'realism': 155613,\n",
       " 'entire': 62626,\n",
       " 'piece': 145084,\n",
       " 'actors': 5828,\n",
       " 'extremely': 66530,\n",
       " 'chosen': 36153,\n",
       " 'michael': 121469,\n",
       " 'sheen': 171211,\n",
       " 'only': 136903,\n",
       " 'polari': 147335,\n",
       " 'he': 87000,\n",
       " 'voices': 205944,\n",
       " 'down': 56071,\n",
       " 'pat': 141968,\n",
       " 'too': 194950,\n",
       " 'truly': 197845,\n",
       " 'see': 168008,\n",
       " 'seamless': 167510,\n",
       " 'editing': 59189,\n",
       " 'guided': 83592,\n",
       " 'by': 29748,\n",
       " 'references': 156951,\n",
       " 'williams': 211109,\n",
       " 'diary': 51729,\n",
       " 'entries': 62705,\n",
       " 'worth': 213394,\n",
       " 'terrificly': 189588,\n",
       " 'written': 213845,\n",
       " 'performed': 143544,\n",
       " 'masterful': 118028,\n",
       " 'great': 82402,\n",
       " 'masters': 118107,\n",
       " 'comedy': 39534,\n",
       " 'his': 90139,\n",
       " 'life': 110558,\n",
       " 'really': 155766,\n",
       " 'comes': 39707,\n",
       " 'things': 191520,\n",
       " 'fantasy': 68040,\n",
       " 'guard': 83400,\n",
       " 'rather': 155070,\n",
       " 'than': 189935,\n",
       " 'traditional': 196119,\n",
       " 'dream': 56672,\n",
       " 'techniques': 188600,\n",
       " 'remains': 157853,\n",
       " 'solid': 176823,\n",
       " 'then': 190830,\n",
       " 'disappears': 53081,\n",
       " 'plays': 146349,\n",
       " 'our': 138509,\n",
       " 'knowledge': 105976,\n",
       " 'senses': 169322,\n",
       " 'particularly': 141545,\n",
       " 'concerning': 40881,\n",
       " 'orton': 138042,\n",
       " 'halliwell': 85042,\n",
       " 'sets': 170095,\n",
       " 'flat': 72281,\n",
       " 'halliwells': 85043,\n",
       " 'murals': 127931,\n",
       " 'decorating': 48964,\n",
       " 'every': 64479,\n",
       " 'surface': 185618,\n",
       " 'terribly': 189565,\n",
       " 'done': 55306,\n",
       " 'thought': 192328,\n",
       " 'way': 208054,\n",
       " 'spend': 178754,\n",
       " 'time': 193299,\n",
       " 'hot': 92148,\n",
       " 'summer': 184777,\n",
       " 'weekend': 208606,\n",
       " 'sitting': 174176,\n",
       " 'air': 8058,\n",
       " 'conditioned': 41067,\n",
       " 'theater': 190271,\n",
       " 'lighthearted': 110908,\n",
       " 'plot': 146592,\n",
       " 'simplistic': 173664,\n",
       " 'dialogue': 51595,\n",
       " 'witty': 211990,\n",
       " 'characters': 34348,\n",
       " 'likable': 110991,\n",
       " 'even': 64148,\n",
       " 'bread': 26911,\n",
       " 'suspected': 185971,\n",
       " 'serial': 169753,\n",
       " 'killer': 105014,\n",
       " 'while': 210147,\n",
       " 'some': 176942,\n",
       " 'disappointed': 53098,\n",
       " 'when': 210053,\n",
       " 'realize': 155738,\n",
       " 'match': 118186,\n",
       " 'point': 147068,\n",
       " 'risk': 160842,\n",
       " 'addiction': 6210,\n",
       " 'proof': 151414,\n",
       " 'woody': 212574,\n",
       " 'allen': 8978,\n",
       " 'still': 181498,\n",
       " 'fully': 76142,\n",
       " 'control': 42226,\n",
       " 'style': 183637,\n",
       " 'many': 116948,\n",
       " 'us': 202882,\n",
       " 'grown': 83225,\n",
       " 'lovethis': 113783,\n",
       " 'most': 125631,\n",
       " 'id': 93995,\n",
       " 'laughed': 108441,\n",
       " 'at': 15239,\n",
       " 'woodys': 212578,\n",
       " 'comedies': 39509,\n",
       " 'years': 214845,\n",
       " 'decade': 48681,\n",
       " 'ive': 100548,\n",
       " 'been': 20285,\n",
       " 'impressed': 95329,\n",
       " 'scarlet': 165538,\n",
       " 'johanson': 102208,\n",
       " 'she': 171163,\n",
       " 'managed': 116278,\n",
       " 'tone': 194846,\n",
       " 'her': 88238,\n",
       " 'sexy': 170496,\n",
       " 'image': 94691,\n",
       " 'jumped': 102967,\n",
       " 'average': 16397,\n",
       " 'spirited': 178984,\n",
       " 'young': 215530,\n",
       " 'womanthis': 212257,\n",
       " 'crown': 45596,\n",
       " 'jewel': 101742,\n",
       " 'career': 31468,\n",
       " 'wittier': 211983,\n",
       " 'devil': 51315,\n",
       " 'wears': 208450,\n",
       " 'prada': 149106,\n",
       " 'interesting': 97998,\n",
       " 'superman': 185230,\n",
       " 'friends': 75505,\n",
       " 'basically': 19129,\n",
       " 'theres': 191168,\n",
       " 'family': 67668,\n",
       " 'boy': 26312,\n",
       " 'jake': 100895,\n",
       " 'thinks': 191716,\n",
       " 'zombie': 216502,\n",
       " 'closet': 38118,\n",
       " 'parents': 141203,\n",
       " 'fighting': 70144,\n",
       " 'timethis': 193784,\n",
       " 'movie': 126153,\n",
       " 'slower': 175389,\n",
       " 'soap': 176299,\n",
       " 'opera': 137250,\n",
       " 'suddenly': 184437,\n",
       " 'decides': 48847,\n",
       " 'rambo': 154557,\n",
       " 'zombieok': 216532,\n",
       " 'youre': 215614,\n",
       " 'going': 80630,\n",
       " 'make': 115799,\n",
       " 'film': 70306,\n",
       " 'must': 128383,\n",
       " 'decide': 48836,\n",
       " 'thriller': 192611,\n",
       " 'drama': 56440,\n",
       " 'watchable': 207597,\n",
       " 'divorcing': 54418,\n",
       " 'arguing': 13770,\n",
       " 'like': 111009,\n",
       " 'real': 155570,\n",
       " 'we': 208351,\n",
       " 'totally': 195596,\n",
       " 'ruins': 162944,\n",
       " 'expected': 65758,\n",
       " 'boogeyman': 25262,\n",
       " 'similar': 173533,\n",
       " 'instead': 97512,\n",
       " 'meaningless': 119484,\n",
       " 'spots3': 179532,\n",
       " '10': 80,\n",
       " 'playing': 146309,\n",
       " 'descent': 50546,\n",
       " 'dialogs': 51582,\n",
       " 'shots': 172238,\n",
       " 'ignore': 94360,\n",
       " 'them': 190455,\n",
       " 'petter': 144228,\n",
       " 'matteis': 118446,\n",
       " 'love': 113547,\n",
       " 'money': 124368,\n",
       " 'visually': 205719,\n",
       " 'stunning': 183440,\n",
       " 'watch': 207586,\n",
       " 'mr': 127137,\n",
       " 'mattei': 118444,\n",
       " 'offers': 135203,\n",
       " 'vivid': 205810,\n",
       " 'portrait': 148204,\n",
       " 'human': 92908,\n",
       " 'relations': 157545,\n",
       " 'seems': 168154,\n",
       " 'telling': 189047,\n",
       " 'power': 148935,\n",
       " 'success': 184208,\n",
       " 'do': 54520,\n",
       " 'people': 143017,\n",
       " 'different': 52168,\n",
       " 'situations': 174211,\n",
       " 'encounter': 61209,\n",
       " 'variation': 203823,\n",
       " 'arthur': 14350,\n",
       " 'schnitzlers': 166235,\n",
       " 'play': 146215,\n",
       " 'same': 164214,\n",
       " 'theme': 190540,\n",
       " 'director': 52833,\n",
       " 'transfers': 196437,\n",
       " 'action': 5581,\n",
       " 'present': 149881,\n",
       " 'new': 130691,\n",
       " 'york': 215358,\n",
       " 'these': 191250,\n",
       " 'meet': 119897,\n",
       " 'connect': 41411,\n",
       " 'each': 58469,\n",
       " 'connected': 41412,\n",
       " 'another': 11676,\n",
       " 'next': 130881,\n",
       " 'person': 143847,\n",
       " 'know': 105917,\n",
       " 'previous': 150202,\n",
       " 'contact': 41868,\n",
       " 'stylishly': 183696,\n",
       " 'sophisticated': 177541,\n",
       " 'luxurious': 114543,\n",
       " 'look': 112922,\n",
       " 'taken': 187348,\n",
       " 'how': 92520,\n",
       " 'live': 111981,\n",
       " 'world': 213017,\n",
       " 'own': 139937,\n",
       " 'habitatthe': 84338,\n",
       " 'gets': 78967,\n",
       " 'souls': 177809,\n",
       " 'picture': 144952,\n",
       " 'stages': 180064,\n",
       " 'loneliness': 112693,\n",
       " 'inhabits': 96867,\n",
       " 'big': 22565,\n",
       " 'best': 21788,\n",
       " 'place': 145770,\n",
       " 'find': 71386,\n",
       " 'sincere': 173755,\n",
       " 'fulfillment': 76069,\n",
       " 'discerns': 53349,\n",
       " 'case': 32214,\n",
       " 'encounterthe': 61227,\n",
       " 'acting': 5433,\n",
       " 'good': 80919,\n",
       " 'under': 200319,\n",
       " 'direction': 52758,\n",
       " 'steve': 181338,\n",
       " 'buscemi': 29285,\n",
       " 'rosario': 162229,\n",
       " 'dawson': 47894,\n",
       " 'carol': 31863,\n",
       " 'kane': 103591,\n",
       " 'imperioli': 95132,\n",
       " 'adrian': 6559,\n",
       " 'grenier': 82718,\n",
       " 'rest': 159067,\n",
       " 'talented': 187457,\n",
       " 'cast': 32406,\n",
       " 'come': 39459,\n",
       " 'alivewe': 8835,\n",
       " 'wish': 211669,\n",
       " 'luck': 114114,\n",
       " 'await': 16535,\n",
       " 'anxiously': 12354,\n",
       " 'work': 212751,\n",
       " 'probably': 150599,\n",
       " 'my': 128542,\n",
       " 'alltime': 9283,\n",
       " 'favorite': 68865,\n",
       " 'story': 182104,\n",
       " 'selflessness': 168735,\n",
       " 'sacrifice': 163584,\n",
       " 'dedication': 49017,\n",
       " 'noble': 131718,\n",
       " 'cause': 32957,\n",
       " 'preachy': 149246,\n",
       " 'boring': 25724,\n",
       " 'old': 135931,\n",
       " 'despite': 50855,\n",
       " 'having': 86820,\n",
       " 'seen': 168172,\n",
       " '15': 714,\n",
       " 'times': 193608,\n",
       " 'last': 108055,\n",
       " '25': 2315,\n",
       " 'paul': 142252,\n",
       " 'lukas': 114262,\n",
       " 'performance': 143386,\n",
       " 'brings': 27515,\n",
       " 'tears': 188515,\n",
       " 'eyes': 66718,\n",
       " 'bette': 21993,\n",
       " 'davis': 47839,\n",
       " 'few': 69825,\n",
       " 'sympathetic': 186755,\n",
       " 'roles': 161647,\n",
       " 'delight': 49588,\n",
       " 'kids': 104805,\n",
       " 'grandma': 82069,\n",
       " 'says': 165278,\n",
       " 'dressedup': 56850,\n",
       " 'midgets': 121730,\n",
       " 'children': 35621,\n",
       " 'makes': 115858,\n",
       " 'fun': 76188,\n",
       " 'mothers': 125776,\n",
       " 'slow': 175368,\n",
       " 'awakening': 16551,\n",
       " 'whats': 209912,\n",
       " 'happening': 85771,\n",
       " 'roof': 162050,\n",
       " 'believable': 20969,\n",
       " 'startling': 180671,\n",
       " 'had': 84418,\n",
       " 'dozen': 56293,\n",
       " 'thumbs': 192965,\n",
       " 'theyd': 191318,\n",
       " 'up': 202435,\n",
       " 'sure': 185566,\n",
       " 'resurrection': 159257,\n",
       " 'dated': 47665,\n",
       " 'seahunt': 167481,\n",
       " 'series': 169774,\n",
       " 'tech': 188559,\n",
       " 'today': 194323,\n",
       " 'bring': 27507,\n",
       " 'back': 17222,\n",
       " 'kid': 104704,\n",
       " 'excitement': 65153,\n",
       " 'mei': 120064,\n",
       " 'grew': 82738,\n",
       " 'black': 23326,\n",
       " 'white': 210318,\n",
       " 'tv': 198579,\n",
       " 'gunsmoke': 83895,\n",
       " 'were': 209479,\n",
       " 'heros': 88728,\n",
       " 'weekyou': 208663,\n",
       " 'vote': 206135,\n",
       " 'comeback': 39469,\n",
       " 'sea': 167438,\n",
       " 'huntwe': 93322,\n",
       " 'need': 130032,\n",
       " 'change': 33964,\n",
       " 'pace': 140138,\n",
       " 'water': 207866,\n",
       " 'adventureoh': 6689,\n",
       " 'thank': 189950,\n",
       " 'outlet': 138782,\n",
       " 'view': 204977,\n",
       " 'viewpoints': 205134,\n",
       " 'moviesso': 126862,\n",
       " 'any': 12356,\n",
       " 'ole': 136047,\n",
       " 'believe': 21026,\n",
       " 'wanna': 206861,\n",
       " 'saywould': 165320,\n",
       " 'nice': 130978,\n",
       " 'read': 155477,\n",
       " 'plus': 146889,\n",
       " 'points': 147194,\n",
       " 'huntif': 93303,\n",
       " 'rhymes': 160035,\n",
       " 'lines': 111433,\n",
       " 'let': 110038,\n",
       " 'submitor': 183928,\n",
       " 'leave': 109171,\n",
       " 'doubt': 55944,\n",
       " 'quitif': 153854,\n",
       " 'lets': 110082,\n",
       " 'amazing': 10068,\n",
       " 'fresh': 75349,\n",
       " 'innovative': 97129,\n",
       " 'idea': 94004,\n",
       " '70s': 3567,\n",
       " 'aired': 8088,\n",
       " 'brilliant': 27411,\n",
       " 'dropped': 57103,\n",
       " 'off': 135073,\n",
       " '1990': 1734,\n",
       " 'funny': 76375,\n",
       " 'anymore': 12395,\n",
       " 'continued': 42063,\n",
       " 'decline': 48924,\n",
       " 'further': 76624,\n",
       " 'complete': 40466,\n",
       " 'waste': 207485,\n",
       " 'todayits': 194357,\n",
       " 'disgraceful': 53604,\n",
       " 'fallen': 67524,\n",
       " 'writing': 213802,\n",
       " 'painfully': 140410,\n",
       " 'bad': 17508,\n",
       " 'performances': 143457,\n",
       " 'almost': 9429,\n",
       " 'mildly': 121978,\n",
       " 'entertaining': 62441,\n",
       " 'respite': 159018,\n",
       " 'guesthosts': 83539,\n",
       " 'hard': 85996,\n",
       " 'creator': 44651,\n",
       " 'handselected': 85470,\n",
       " 'original': 137834,\n",
       " 'also': 9702,\n",
       " 'chose': 36151,\n",
       " 'band': 18352,\n",
       " 'hacks': 84405,\n",
       " 'followed': 73319,\n",
       " 'recognize': 156376,\n",
       " 'such': 184301,\n",
       " 'brilliance': 27398,\n",
       " 'fit': 71960,\n",
       " 'replace': 158423,\n",
       " 'mediocrity': 119798,\n",
       " 'felt': 69452,\n",
       " 'give': 79819,\n",
       " 'stars': 180533,\n",
       " 'respect': 158964,\n",
       " 'made': 115106,\n",
       " 'huge': 92796,\n",
       " 'now': 133631,\n",
       " 'awful': 16761,\n",
       " 'cant': 31032,\n",
       " 'encouraged': 61232,\n",
       " 'positive': 148320,\n",
       " 'comments': 39973,\n",
       " 'here': 88324,\n",
       " 'looking': 112967,\n",
       " 'forward': 74405,\n",
       " 'mistake': 123474,\n",
       " '950': 3982,\n",
       " 'films': 70912,\n",
       " 'worst': 213343,\n",
       " 'pacing': 140199,\n",
       " 'storyline': 182231,\n",
       " 'soundtrack': 177906,\n",
       " 'song': 177251,\n",
       " 'lame': 107457,\n",
       " 'country': 43621,\n",
       " 'tune': 198251,\n",
       " 'played': 146246,\n",
       " 'less': 109896,\n",
       " 'four': 74538,\n",
       " 'looks': 113001,\n",
       " 'cheap': 34889,\n",
       " 'extreme': 66519,\n",
       " 'rarely': 154948,\n",
       " 'happy': 85913,\n",
       " 'end': 61258,\n",
       " 'credits': 44753,\n",
       " 'prevents': 150184,\n",
       " 'giving': 79854,\n",
       " '1score': 1908,\n",
       " 'harvey': 86443,\n",
       " 'keitel': 104221,\n",
       " 'least': 109094,\n",
       " 'making': 115904,\n",
       " 'bit': 23116,\n",
       " 'effort': 59554,\n",
       " 'obsessives': 134596,\n",
       " 'gut': 83986,\n",
       " 'wrenching': 213658,\n",
       " 'laughter': 108565,\n",
       " 'will': 211067,\n",
       " 'hell': 87855,\n",
       " 'mom': 124171,\n",
       " 'liked': 111042,\n",
       " 'itgreat': 99974,\n",
       " 'camp': 30635,\n",
       " 'phil': 144447,\n",
       " 'alien': 8691,\n",
       " 'those': 192224,\n",
       " 'quirky': 153831,\n",
       " 'humour': 93151,\n",
       " 'based': 19053,\n",
       " 'oddness': 134931,\n",
       " 'everything': 64557,\n",
       " 'actual': 6038,\n",
       " 'punchlinesat': 152620,\n",
       " 'odd': 134898,\n",
       " 'progressed': 151139,\n",
       " 'didnt': 51925,\n",
       " 'jokes': 102343,\n",
       " 'anymoreits': 12418,\n",
       " 'low': 113832,\n",
       " 'budget': 28447,\n",
       " 'thats': 190176,\n",
       " 'problem': 150623,\n",
       " 'itself': 100237,\n",
       " 'there': 191038,\n",
       " 'eventually': 64250,\n",
       " 'lost': 113279,\n",
       " 'interesti': 97994,\n",
       " 'imagine': 94774,\n",
       " 'stoner': 181857,\n",
       " 'who': 210467,\n",
       " 'currently': 46269,\n",
       " 'partakingfor': 141455,\n",
       " 'something': 177037,\n",
       " 'better': 21995,\n",
       " 'try': 197962,\n",
       " 'brother': 27896,\n",
       " 'planet': 146012,\n",
       " '12': 492,\n",
       " 'came': 30466,\n",
       " 'recall': 156200,\n",
       " 'scariest': 165527,\n",
       " 'scene': 165683,\n",
       " 'bird': 22981,\n",
       " 'eating': 58872,\n",
       " 'men': 120435,\n",
       " 'dangling': 47267,\n",
       " 'helplessly': 88028,\n",
       " 'parachutes': 140997,\n",
       " 'horror': 91834,\n",
       " 'horroras': 91842,\n",
       " 'cheesy': 35128,\n",
       " 'saturday': 164952,\n",
       " 'afternoons': 7161,\n",
       " 'tired': 194003,\n",
       " 'formula': 74201,\n",
       " 'monster': 124669,\n",
       " 'type': 199180,\n",
       " 'movies': 126692,\n",
       " 'usually': 203137,\n",
       " 'included': 95769,\n",
       " 'hero': 88647,\n",
       " 'beautiful': 19940,\n",
       " 'woman': 212173,\n",
       " 'might': 121851,\n",
       " 'daughter': 47720,\n",
       " 'professor': 151023,\n",
       " 'resolution': 158894,\n",
       " 'died': 51998,\n",
       " 'care': 31443,\n",
       " 'much': 127325,\n",
       " 'romantic': 161923,\n",
       " 'angle': 11177,\n",
       " 'year': 214769,\n",
       " 'predictable': 149424,\n",
       " 'plots': 146720,\n",
       " 'unintentional': 201318,\n",
       " 'humorbut': 93085,\n",
       " 'later': 108174,\n",
       " 'psycho': 152172,\n",
       " 'loved': 113596,\n",
       " 'star': 180386,\n",
       " 'janet': 100996,\n",
       " 'leigh': 109556,\n",
       " 'bumped': 28931,\n",
       " 'early': 58570,\n",
       " 'sat': 164799,\n",
       " 'took': 195035,\n",
       " 'notice': 133226,\n",
       " 'since': 173729,\n",
       " 'screenwriters': 167090,\n",
       " 'scary': 165566,\n",
       " 'possible': 148391,\n",
       " 'wellworn': 209398,\n",
       " 'rules': 162980,\n",
       " 'im': 94686,\n",
       " 'fan': 67790,\n",
       " 'bolls': 24938,\n",
       " 'again': 7245,\n",
       " 'enjoyed': 62048,\n",
       " 'postal': 148471,\n",
       " 'maybe': 118719,\n",
       " 'boll': 24922,\n",
       " 'apparently': 12958,\n",
       " 'bought': 26084,\n",
       " 'rights': 160558,\n",
       " 'cry': 45768,\n",
       " 'long': 112716,\n",
       " 'ago': 7672,\n",
       " 'before': 20411,\n",
       " 'game': 77228,\n",
       " 'finsished': 71617,\n",
       " 'killing': 105104,\n",
       " 'mercs': 120765,\n",
       " 'infiltrating': 96627,\n",
       " 'secret': 167850,\n",
       " 'research': 158747,\n",
       " 'labs': 107054,\n",
       " 'located': 112348,\n",
       " 'tropical': 197613,\n",
       " 'island': 99334,\n",
       " 'should': 172283,\n",
       " 'warned': 207118,\n",
       " 'schemed': 166066,\n",
       " 'together': 194473,\n",
       " 'along': 9547,\n",
       " 'legion': 109473,\n",
       " 'schmucks': 166214,\n",
       " 'feeling': 69244,\n",
       " 'loneley': 112690,\n",
       " 'invites': 98760,\n",
       " 'three': 192495,\n",
       " 'countrymen': 43653,\n",
       " 'players': 146269,\n",
       " 'names': 129098,\n",
       " 'til': 193246,\n",
       " 'schweiger': 166452,\n",
       " 'udo': 199415,\n",
       " 'kier': 104893,\n",
       " 'ralf': 154517,\n",
       " 'moellerthree': 124003,\n",
       " 'actually': 6047,\n",
       " 'selfs': 168811,\n",
       " 'biz': 23250,\n",
       " 'tale': 187435,\n",
       " 'jack': 100661,\n",
       " 'carver': 32180,\n",
       " 'yes': 215102,\n",
       " 'german': 78794,\n",
       " 'hail': 84597,\n",
       " 'bratwurst': 26813,\n",
       " 'dudes': 57515,\n",
       " 'however': 92560,\n",
       " 'tils': 193269,\n",
       " 'badass': 17541,\n",
       " 'complained': 40427,\n",
       " 'hes': 88901,\n",
       " 'staying': 180938,\n",
       " 'true': 197756,\n",
       " 'whole': 210506,\n",
       " 'perspective': 143989,\n",
       " 'dont': 55454,\n",
       " 'looked': 112946,\n",
       " 'kicking': 104684,\n",
       " 'beyond': 22304,\n",
       " 'demented': 49808,\n",
       " 'evil': 64683,\n",
       " 'mad': 115059,\n",
       " 'scientist': 166501,\n",
       " 'dr': 56316,\n",
       " 'krieger': 106540,\n",
       " 'geneticallymutatedsoldiers': 78402,\n",
       " 'gms': 80255,\n",
       " 'performing': 143560,\n",
       " 'topsecret': 195336,\n",
       " 'reminds': 158021,\n",
       " 'spoiler': 179184,\n",
       " 'vancouver': 203686,\n",
       " 'reason': 155943,\n",
       " 'palm': 140637,\n",
       " 'trees': 196958,\n",
       " 'rich': 160120,\n",
       " 'lumberjackwoods': 114304,\n",
       " 'havent': 86787,\n",
       " 'gone': 80865,\n",
       " 'started': 180626,\n",
       " 'mehehe': 120042,\n",
       " 'cannot': 30985,\n",
       " 'stay': 180927,\n",
       " 'shenanigans': 171359,\n",
       " 'delivers': 49674,\n",
       " 'meaning': 119467,\n",
       " 'suckthere': 184424,\n",
       " 'mentioning': 120656,\n",
       " 'imply': 95223,\n",
       " 'did': 51858,\n",
       " 'areas': 13616,\n",
       " 'boat': 24538,\n",
       " 'until': 202273,\n",
       " 'cromed': 45361,\n",
       " 'albino': 8443,\n",
       " 'squad': 179742,\n",
       " 'enters': 62403,\n",
       " 'laugh': 108389,\n",
       " 'reeks': 156852,\n",
       " 'scheisse': 166051,\n",
       " 'poop': 147772,\n",
       " 'simpletons': 173643,\n",
       " 'take': 187331,\n",
       " 'wiff': 210913,\n",
       " 'ahead': 7855,\n",
       " 'btw': 28272,\n",
       " 'annoying': 11582,\n",
       " 'sidekick': 173059,\n",
       " 'shoot': 171949,\n",
       " 'him': 89624,\n",
       " 'minutes': 122776,\n",
       " 'screen': 166891,\n",
       " 'shakespeareshakespeare': 170732,\n",
       " 'losti': 113301,\n",
       " 'appreciate': 13199,\n",
       " 'trying': 197978,\n",
       " 'shakespeare': 170715,\n",
       " 'masses': 117962,\n",
       " 'why': 210650,\n",
       " 'ruin': 162927,\n",
       " 'goodis': 81071,\n",
       " 'because': 20078,\n",
       " 'scottish': 166742,\n",
       " 'certain': 33535,\n",
       " 'rev': 159519,\n",
       " 'bowdler': 26201,\n",
       " 'hence': 88119,\n",
       " 'bowdlerization': 26204,\n",
       " 'tried': 197241,\n",
       " 'victorian': 204768,\n",
       " 'erain': 63145,\n",
       " 'words': 212698,\n",
       " 'improve': 95440,\n",
       " 'perfectioni': 143302,\n",
       " 'write': 213730,\n",
       " 'ten': 189172,\n",
       " 'text': 189855,\n",
       " 'english': 61884,\n",
       " 'composition': 40625,\n",
       " 'forte': 74299,\n",
       " 'keep': 104165,\n",
       " 'saying': 165222,\n",
       " 'does': 54782,\n",
       " 'cut': 46414,\n",
       " 'fantastic': 67994,\n",
       " 'prisoners': 150482,\n",
       " 'famous': 67773,\n",
       " 'george': 78712,\n",
       " 'clooney': 38051,\n",
       " 'roll': 161754,\n",
       " 'man': 116269,\n",
       " 'constant': 41753,\n",
       " 'sorrow': 177638,\n",
       " 'recommand': 156408,\n",
       " 'everybody': 64483,\n",
       " 'greetings': 82671,\n",
       " 'bart': 18984,\n",
       " 'kind': 105219,\n",
       " 'drawn': 56617,\n",
       " 'erotic': 63296,\n",
       " 'amateurish': 10016,\n",
       " 'unbelievable': 199984,\n",
       " 'bits': 23186,\n",
       " 'sort': 177665,\n",
       " 'school': 166264,\n",
       " 'project': 151191,\n",
       " 'rosanna': 162225,\n",
       " 'arquette': 14159,\n",
       " 'thinking': 191672,\n",
       " 'stock': 181712,\n",
       " 'bizarre': 23252,\n",
       " 'supposed': 185481,\n",
       " 'midwest': 121823,\n",
       " 'town': 195878,\n",
       " 'involved': 98774,\n",
       " 'lessons': 109959,\n",
       " 'learned': 109051,\n",
       " 'insights': 97323,\n",
       " 'stilted': 181558,\n",
       " 'quite': 153845,\n",
       " 'ridiculous': 160319,\n",
       " 'lots': 113366,\n",
       " 'skin': 174568,\n",
       " 'intrigues': 98500,\n",
       " 'videotaped': 204892,\n",
       " 'nonsensewhat': 132569,\n",
       " 'bisexual': 23085,\n",
       " 'relationship': 157548,\n",
       " 'nowhere': 133715,\n",
       " 'heterosexual': 88962,\n",
       " 'encounters': 61221,\n",
       " 'absurd': 4702,\n",
       " 'dance': 47106,\n",
       " 'stereotyped': 181263,\n",
       " 'pass': 141762,\n",
       " 'million': 122151,\n",
       " 'miles': 122008,\n",
       " 'wasted': 207490,\n",
       " 'could': 43430,\n",
       " 'spent': 178765,\n",
       " 'starving': 180715,\n",
       " 'aids': 7972,\n",
       " 'africa': 7065,\n",
       " 'simply': 173669,\n",
       " 'remade': 157839,\n",
       " 'fails': 67283,\n",
       " 'capture': 31295,\n",
       " 'flavor': 72375,\n",
       " ...}"
      ]
     },
     "execution_count": 114,
     "metadata": {},
     "output_type": "execute_result"
    }
   ],
   "source": [
    "vectorizer.vocabulary_"
   ]
  },
  {
   "cell_type": "raw",
   "id": "593583e2",
   "metadata": {},
   "source": []
  },
  {
   "cell_type": "code",
   "execution_count": 123,
   "id": "35fdd453",
   "metadata": {},
   "outputs": [],
   "source": [
    "abc = list(df['abc'])\n",
    "abc = vectorizer.transform(df['review'])"
   ]
  },
  {
   "cell_type": "raw",
   "id": "7067ae42",
   "metadata": {},
   "source": []
  },
  {
   "cell_type": "code",
   "execution_count": 124,
   "id": "492db7e5",
   "metadata": {},
   "outputs": [
    {
     "data": {
      "text/plain": [
       "<50000x216820 sparse matrix of type '<class 'numpy.int64'>'\n",
       "\twith 6809670 stored elements in Compressed Sparse Row format>"
      ]
     },
     "execution_count": 124,
     "metadata": {},
     "output_type": "execute_result"
    }
   ],
   "source": [
    "abc\n"
   ]
  },
  {
   "cell_type": "code",
   "execution_count": 125,
   "id": "0145c16e",
   "metadata": {},
   "outputs": [],
   "source": [
    "df['sentiment']=df['sentiment'].map({\"positive\" : 1 , \"negative\" : 0})"
   ]
  },
  {
   "cell_type": "code",
   "execution_count": 126,
   "id": "3b69db61",
   "metadata": {},
   "outputs": [
    {
     "data": {
      "text/plain": [
       "0        1\n",
       "1        1\n",
       "2        1\n",
       "3        0\n",
       "4        1\n",
       "        ..\n",
       "49995    1\n",
       "49996    0\n",
       "49997    0\n",
       "49998    0\n",
       "49999    0\n",
       "Name: sentiment, Length: 50000, dtype: int64"
      ]
     },
     "execution_count": 126,
     "metadata": {},
     "output_type": "execute_result"
    }
   ],
   "source": [
    "df['sentiment']"
   ]
  },
  {
   "cell_type": "code",
   "execution_count": 127,
   "id": "3d5c5979",
   "metadata": {},
   "outputs": [],
   "source": [
    " X_train, X_test, y_train, y_test = train_test_split(abc, df['sentiment'], test_size=0.2, random_state=42)"
   ]
  },
  {
   "cell_type": "code",
   "execution_count": 128,
   "id": "8e6e331f",
   "metadata": {},
   "outputs": [],
   "source": [
    "from sklearn.linear_model import LogisticRegression"
   ]
  },
  {
   "cell_type": "code",
   "execution_count": 133,
   "id": "fcd7f271",
   "metadata": {},
   "outputs": [],
   "source": [
    "lr = LogisticRegression(max_iter=10000)"
   ]
  },
  {
   "cell_type": "code",
   "execution_count": 134,
   "id": "74294f73",
   "metadata": {},
   "outputs": [
    {
     "data": {
      "text/html": [
       "<style>#sk-container-id-5 {color: black;background-color: white;}#sk-container-id-5 pre{padding: 0;}#sk-container-id-5 div.sk-toggleable {background-color: white;}#sk-container-id-5 label.sk-toggleable__label {cursor: pointer;display: block;width: 100%;margin-bottom: 0;padding: 0.3em;box-sizing: border-box;text-align: center;}#sk-container-id-5 label.sk-toggleable__label-arrow:before {content: \"▸\";float: left;margin-right: 0.25em;color: #696969;}#sk-container-id-5 label.sk-toggleable__label-arrow:hover:before {color: black;}#sk-container-id-5 div.sk-estimator:hover label.sk-toggleable__label-arrow:before {color: black;}#sk-container-id-5 div.sk-toggleable__content {max-height: 0;max-width: 0;overflow: hidden;text-align: left;background-color: #f0f8ff;}#sk-container-id-5 div.sk-toggleable__content pre {margin: 0.2em;color: black;border-radius: 0.25em;background-color: #f0f8ff;}#sk-container-id-5 input.sk-toggleable__control:checked~div.sk-toggleable__content {max-height: 200px;max-width: 100%;overflow: auto;}#sk-container-id-5 input.sk-toggleable__control:checked~label.sk-toggleable__label-arrow:before {content: \"▾\";}#sk-container-id-5 div.sk-estimator input.sk-toggleable__control:checked~label.sk-toggleable__label {background-color: #d4ebff;}#sk-container-id-5 div.sk-label input.sk-toggleable__control:checked~label.sk-toggleable__label {background-color: #d4ebff;}#sk-container-id-5 input.sk-hidden--visually {border: 0;clip: rect(1px 1px 1px 1px);clip: rect(1px, 1px, 1px, 1px);height: 1px;margin: -1px;overflow: hidden;padding: 0;position: absolute;width: 1px;}#sk-container-id-5 div.sk-estimator {font-family: monospace;background-color: #f0f8ff;border: 1px dotted black;border-radius: 0.25em;box-sizing: border-box;margin-bottom: 0.5em;}#sk-container-id-5 div.sk-estimator:hover {background-color: #d4ebff;}#sk-container-id-5 div.sk-parallel-item::after {content: \"\";width: 100%;border-bottom: 1px solid gray;flex-grow: 1;}#sk-container-id-5 div.sk-label:hover label.sk-toggleable__label {background-color: #d4ebff;}#sk-container-id-5 div.sk-serial::before {content: \"\";position: absolute;border-left: 1px solid gray;box-sizing: border-box;top: 0;bottom: 0;left: 50%;z-index: 0;}#sk-container-id-5 div.sk-serial {display: flex;flex-direction: column;align-items: center;background-color: white;padding-right: 0.2em;padding-left: 0.2em;position: relative;}#sk-container-id-5 div.sk-item {position: relative;z-index: 1;}#sk-container-id-5 div.sk-parallel {display: flex;align-items: stretch;justify-content: center;background-color: white;position: relative;}#sk-container-id-5 div.sk-item::before, #sk-container-id-5 div.sk-parallel-item::before {content: \"\";position: absolute;border-left: 1px solid gray;box-sizing: border-box;top: 0;bottom: 0;left: 50%;z-index: -1;}#sk-container-id-5 div.sk-parallel-item {display: flex;flex-direction: column;z-index: 1;position: relative;background-color: white;}#sk-container-id-5 div.sk-parallel-item:first-child::after {align-self: flex-end;width: 50%;}#sk-container-id-5 div.sk-parallel-item:last-child::after {align-self: flex-start;width: 50%;}#sk-container-id-5 div.sk-parallel-item:only-child::after {width: 0;}#sk-container-id-5 div.sk-dashed-wrapped {border: 1px dashed gray;margin: 0 0.4em 0.5em 0.4em;box-sizing: border-box;padding-bottom: 0.4em;background-color: white;}#sk-container-id-5 div.sk-label label {font-family: monospace;font-weight: bold;display: inline-block;line-height: 1.2em;}#sk-container-id-5 div.sk-label-container {text-align: center;}#sk-container-id-5 div.sk-container {/* jupyter's `normalize.less` sets `[hidden] { display: none; }` but bootstrap.min.css set `[hidden] { display: none !important; }` so we also need the `!important` here to be able to override the default hidden behavior on the sphinx rendered scikit-learn.org. See: https://github.com/scikit-learn/scikit-learn/issues/21755 */display: inline-block !important;position: relative;}#sk-container-id-5 div.sk-text-repr-fallback {display: none;}</style><div id=\"sk-container-id-5\" class=\"sk-top-container\"><div class=\"sk-text-repr-fallback\"><pre>LogisticRegression(max_iter=10000)</pre><b>In a Jupyter environment, please rerun this cell to show the HTML representation or trust the notebook. <br />On GitHub, the HTML representation is unable to render, please try loading this page with nbviewer.org.</b></div><div class=\"sk-container\" hidden><div class=\"sk-item\"><div class=\"sk-estimator sk-toggleable\"><input class=\"sk-toggleable__control sk-hidden--visually\" id=\"sk-estimator-id-5\" type=\"checkbox\" checked><label for=\"sk-estimator-id-5\" class=\"sk-toggleable__label sk-toggleable__label-arrow\">LogisticRegression</label><div class=\"sk-toggleable__content\"><pre>LogisticRegression(max_iter=10000)</pre></div></div></div></div></div>"
      ],
      "text/plain": [
       "LogisticRegression(max_iter=10000)"
      ]
     },
     "execution_count": 134,
     "metadata": {},
     "output_type": "execute_result"
    }
   ],
   "source": [
    "lr.fit(X_train , y_train )"
   ]
  },
  {
   "cell_type": "code",
   "execution_count": 135,
   "id": "d122ce4c",
   "metadata": {},
   "outputs": [],
   "source": [
    "predictions = lr.predict(X_test)"
   ]
  },
  {
   "cell_type": "code",
   "execution_count": 136,
   "id": "582cf7a2",
   "metadata": {},
   "outputs": [],
   "source": [
    "from sklearn.metrics import confusion_matrix, classification_report"
   ]
  },
  {
   "cell_type": "code",
   "execution_count": 137,
   "id": "590d6638",
   "metadata": {},
   "outputs": [
    {
     "name": "stdout",
     "output_type": "stream",
     "text": [
      "[[4366  595]\n",
      " [ 508 4531]]\n",
      "              precision    recall  f1-score   support\n",
      "\n",
      "           0       0.90      0.88      0.89      4961\n",
      "           1       0.88      0.90      0.89      5039\n",
      "\n",
      "    accuracy                           0.89     10000\n",
      "   macro avg       0.89      0.89      0.89     10000\n",
      "weighted avg       0.89      0.89      0.89     10000\n",
      "\n"
     ]
    }
   ],
   "source": [
    "print(confusion_matrix(y_test, predictions))\n",
    "print(classification_report(y_test, predictions))"
   ]
  },
  {
   "cell_type": "code",
   "execution_count": null,
   "id": "23c62dbe",
   "metadata": {},
   "outputs": [],
   "source": []
  }
 ],
 "metadata": {
  "kernelspec": {
   "display_name": "Python 3 (ipykernel)",
   "language": "python",
   "name": "python3"
  },
  "language_info": {
   "codemirror_mode": {
    "name": "ipython",
    "version": 3
   },
   "file_extension": ".py",
   "mimetype": "text/x-python",
   "name": "python",
   "nbconvert_exporter": "python",
   "pygments_lexer": "ipython3",
   "version": "3.11.3"
  }
 },
 "nbformat": 4,
 "nbformat_minor": 5
}
